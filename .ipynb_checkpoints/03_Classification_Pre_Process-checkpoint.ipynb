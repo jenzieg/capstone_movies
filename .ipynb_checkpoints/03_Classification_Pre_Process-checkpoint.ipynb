{
 "cells": [
  {
   "cell_type": "markdown",
   "id": "78afa1ed-3b79-4003-a5fa-9e9bf805f963",
   "metadata": {
    "id": "78afa1ed-3b79-4003-a5fa-9e9bf805f963"
   },
   "source": [
    "\n",
    "# Movie Data Pre-Processing"
   ]
  },
  {
   "cell_type": "markdown",
   "id": "4598dece-67ab-4daf-bbc0-13ca0ee1b8cd",
   "metadata": {
    "id": "4598dece-67ab-4daf-bbc0-13ca0ee1b8cd"
   },
   "source": [
    "### Import Libraries and Load Data"
   ]
  },
  {
   "cell_type": "code",
   "execution_count": 1,
   "id": "6f1925ad-f0e4-4fb2-a226-0caccc519700",
   "metadata": {
    "id": "6f1925ad-f0e4-4fb2-a226-0caccc519700"
   },
   "outputs": [],
   "source": [
    "import pandas as pd\n",
    "import numpy as np\n",
    "\n",
    "from sklearn.feature_extraction.text import CountVectorizer\n",
    "from nltk.corpus import stopwords\n",
    "\n",
    "pd.set_option(\"display.max_columns\",350)"
   ]
  },
  {
   "cell_type": "code",
   "execution_count": 2,
   "id": "c3a757fb-00a6-4b65-a7ac-b175e2e6b75b",
   "metadata": {
    "colab": {
     "base_uri": "https://localhost:8080/",
     "height": 730
    },
    "id": "c3a757fb-00a6-4b65-a7ac-b175e2e6b75b",
    "outputId": "d5e50e7b-df81-46e3-cfae-d585d48196ca"
   },
   "outputs": [
    {
     "name": "stdout",
     "output_type": "stream",
     "text": [
      "(13173, 41)\n"
     ]
    },
    {
     "data": {
      "text/html": [
       "<div>\n",
       "<style scoped>\n",
       "    .dataframe tbody tr th:only-of-type {\n",
       "        vertical-align: middle;\n",
       "    }\n",
       "\n",
       "    .dataframe tbody tr th {\n",
       "        vertical-align: top;\n",
       "    }\n",
       "\n",
       "    .dataframe thead th {\n",
       "        text-align: right;\n",
       "    }\n",
       "</style>\n",
       "<table border=\"1\" class=\"dataframe\">\n",
       "  <thead>\n",
       "    <tr style=\"text-align: right;\">\n",
       "      <th></th>\n",
       "      <th>rt_id</th>\n",
       "      <th>critic_name</th>\n",
       "      <th>publisher</th>\n",
       "      <th>review_type</th>\n",
       "      <th>review_date</th>\n",
       "      <th>review_content</th>\n",
       "      <th>title</th>\n",
       "      <th>plot</th>\n",
       "      <th>critics_consensus</th>\n",
       "      <th>content_rating</th>\n",
       "      <th>genre</th>\n",
       "      <th>director</th>\n",
       "      <th>writer</th>\n",
       "      <th>cast</th>\n",
       "      <th>original_release_date</th>\n",
       "      <th>streaming_release_date</th>\n",
       "      <th>runtime</th>\n",
       "      <th>production_company</th>\n",
       "      <th>tomatometer_status</th>\n",
       "      <th>tomatometer_rating</th>\n",
       "      <th>tomatometer_count</th>\n",
       "      <th>audience_status</th>\n",
       "      <th>audience_rating</th>\n",
       "      <th>audience_count</th>\n",
       "      <th>critic_id</th>\n",
       "      <th>review_score</th>\n",
       "      <th>year</th>\n",
       "      <th>imdb_title</th>\n",
       "      <th>country</th>\n",
       "      <th>imdb_plot</th>\n",
       "      <th>imdb_score</th>\n",
       "      <th>imdb_count</th>\n",
       "      <th>review_negative</th>\n",
       "      <th>review_neutral</th>\n",
       "      <th>review_positive</th>\n",
       "      <th>review_compound</th>\n",
       "      <th>consensus_negative</th>\n",
       "      <th>consensus_neutral</th>\n",
       "      <th>consensus_positive</th>\n",
       "      <th>consensus_compound</th>\n",
       "      <th>score</th>\n",
       "    </tr>\n",
       "  </thead>\n",
       "  <tbody>\n",
       "    <tr>\n",
       "      <th>0</th>\n",
       "      <td>m/0814255</td>\n",
       "      <td>Ben McEachen</td>\n",
       "      <td>Sunday Mail (Australia)</td>\n",
       "      <td>1</td>\n",
       "      <td>2010-02-09</td>\n",
       "      <td>Whether audiences will get behind The Lightnin...</td>\n",
       "      <td>Percy Jackson &amp; the Olympians: The Lightning T...</td>\n",
       "      <td>Always trouble-prone, the life of teenager Per...</td>\n",
       "      <td>Though it may seem like just another Harry Pot...</td>\n",
       "      <td>PG</td>\n",
       "      <td>Action &amp; Adventure, Comedy, Drama, Science Fic...</td>\n",
       "      <td>Chris Columbus</td>\n",
       "      <td>Craig Titley, Chris Columbus, Rick Riordan</td>\n",
       "      <td>Logan Lerman, Brandon T. Jackson, Alexandra Da...</td>\n",
       "      <td>2010-02-12</td>\n",
       "      <td>2015-11-25</td>\n",
       "      <td>119.0</td>\n",
       "      <td>20th Century Fox</td>\n",
       "      <td>0</td>\n",
       "      <td>49.0</td>\n",
       "      <td>149.0</td>\n",
       "      <td>0</td>\n",
       "      <td>53.0</td>\n",
       "      <td>254421.0</td>\n",
       "      <td>1022</td>\n",
       "      <td>70.0</td>\n",
       "      <td>2010</td>\n",
       "      <td>tt0814255</td>\n",
       "      <td>UK, Canada, USA</td>\n",
       "      <td>A teenager discovers he's the descendant of a ...</td>\n",
       "      <td>59.0</td>\n",
       "      <td>174198.0</td>\n",
       "      <td>0.080</td>\n",
       "      <td>0.727</td>\n",
       "      <td>0.193</td>\n",
       "      <td>0.7050</td>\n",
       "      <td>0.000</td>\n",
       "      <td>0.590</td>\n",
       "      <td>0.410</td>\n",
       "      <td>0.9274</td>\n",
       "      <td>53.95</td>\n",
       "    </tr>\n",
       "    <tr>\n",
       "      <th>1</th>\n",
       "      <td>m/0814255</td>\n",
       "      <td>Nick Schager</td>\n",
       "      <td>Slant Magazine</td>\n",
       "      <td>0</td>\n",
       "      <td>2010-02-10</td>\n",
       "      <td>Harry Potter knockoffs don't come more transpa...</td>\n",
       "      <td>Percy Jackson &amp; the Olympians: The Lightning T...</td>\n",
       "      <td>Always trouble-prone, the life of teenager Per...</td>\n",
       "      <td>Though it may seem like just another Harry Pot...</td>\n",
       "      <td>PG</td>\n",
       "      <td>Action &amp; Adventure, Comedy, Drama, Science Fic...</td>\n",
       "      <td>Chris Columbus</td>\n",
       "      <td>Craig Titley, Chris Columbus, Rick Riordan</td>\n",
       "      <td>Logan Lerman, Brandon T. Jackson, Alexandra Da...</td>\n",
       "      <td>2010-02-12</td>\n",
       "      <td>2015-11-25</td>\n",
       "      <td>119.0</td>\n",
       "      <td>20th Century Fox</td>\n",
       "      <td>0</td>\n",
       "      <td>49.0</td>\n",
       "      <td>149.0</td>\n",
       "      <td>0</td>\n",
       "      <td>53.0</td>\n",
       "      <td>254421.0</td>\n",
       "      <td>7475</td>\n",
       "      <td>25.0</td>\n",
       "      <td>2010</td>\n",
       "      <td>tt0814255</td>\n",
       "      <td>UK, Canada, USA</td>\n",
       "      <td>A teenager discovers he's the descendant of a ...</td>\n",
       "      <td>59.0</td>\n",
       "      <td>174198.0</td>\n",
       "      <td>0.000</td>\n",
       "      <td>1.000</td>\n",
       "      <td>0.000</td>\n",
       "      <td>0.0000</td>\n",
       "      <td>0.000</td>\n",
       "      <td>0.590</td>\n",
       "      <td>0.410</td>\n",
       "      <td>0.9274</td>\n",
       "      <td>53.95</td>\n",
       "    </tr>\n",
       "    <tr>\n",
       "      <th>2</th>\n",
       "      <td>m/0878835</td>\n",
       "      <td>Erik Childress</td>\n",
       "      <td>eFilmCritic.com</td>\n",
       "      <td>1</td>\n",
       "      <td>2010-01-31</td>\n",
       "      <td>Holofcener always gives us more to chew on tha...</td>\n",
       "      <td>Please Give</td>\n",
       "      <td>Kate (Catherine Keener) and her husband Alex (...</td>\n",
       "      <td>Nicole Holofcener's newest might seem slight i...</td>\n",
       "      <td>R</td>\n",
       "      <td>Comedy</td>\n",
       "      <td>Nicole Holofcener</td>\n",
       "      <td>Nicole Holofcener</td>\n",
       "      <td>Catherine Keener, Amanda Peet, Oliver Platt, R...</td>\n",
       "      <td>2010-04-30</td>\n",
       "      <td>2012-09-04</td>\n",
       "      <td>90.0</td>\n",
       "      <td>Sony Pictures Classics</td>\n",
       "      <td>1</td>\n",
       "      <td>87.0</td>\n",
       "      <td>142.0</td>\n",
       "      <td>1</td>\n",
       "      <td>64.0</td>\n",
       "      <td>11574.0</td>\n",
       "      <td>3177</td>\n",
       "      <td>75.0</td>\n",
       "      <td>2010</td>\n",
       "      <td>tt0878835</td>\n",
       "      <td>USA</td>\n",
       "      <td>In New York City, a husband and wife butt head...</td>\n",
       "      <td>66.0</td>\n",
       "      <td>10928.0</td>\n",
       "      <td>0.000</td>\n",
       "      <td>0.928</td>\n",
       "      <td>0.072</td>\n",
       "      <td>0.4767</td>\n",
       "      <td>0.000</td>\n",
       "      <td>0.885</td>\n",
       "      <td>0.115</td>\n",
       "      <td>0.5023</td>\n",
       "      <td>73.53</td>\n",
       "    </tr>\n",
       "    <tr>\n",
       "      <th>3</th>\n",
       "      <td>m/0878835</td>\n",
       "      <td>Richard Mowe</td>\n",
       "      <td>Boxoffice Magazine</td>\n",
       "      <td>1</td>\n",
       "      <td>2010-03-24</td>\n",
       "      <td>The tone is low-key but very funny. Yet, at th...</td>\n",
       "      <td>Please Give</td>\n",
       "      <td>Kate (Catherine Keener) and her husband Alex (...</td>\n",
       "      <td>Nicole Holofcener's newest might seem slight i...</td>\n",
       "      <td>R</td>\n",
       "      <td>Comedy</td>\n",
       "      <td>Nicole Holofcener</td>\n",
       "      <td>Nicole Holofcener</td>\n",
       "      <td>Catherine Keener, Amanda Peet, Oliver Platt, R...</td>\n",
       "      <td>2010-04-30</td>\n",
       "      <td>2012-09-04</td>\n",
       "      <td>90.0</td>\n",
       "      <td>Sony Pictures Classics</td>\n",
       "      <td>1</td>\n",
       "      <td>87.0</td>\n",
       "      <td>142.0</td>\n",
       "      <td>1</td>\n",
       "      <td>64.0</td>\n",
       "      <td>11574.0</td>\n",
       "      <td>8239</td>\n",
       "      <td>60.0</td>\n",
       "      <td>2010</td>\n",
       "      <td>tt0878835</td>\n",
       "      <td>USA</td>\n",
       "      <td>In New York City, a husband and wife butt head...</td>\n",
       "      <td>66.0</td>\n",
       "      <td>10928.0</td>\n",
       "      <td>0.000</td>\n",
       "      <td>0.816</td>\n",
       "      <td>0.184</td>\n",
       "      <td>0.6474</td>\n",
       "      <td>0.000</td>\n",
       "      <td>0.885</td>\n",
       "      <td>0.115</td>\n",
       "      <td>0.5023</td>\n",
       "      <td>73.53</td>\n",
       "    </tr>\n",
       "    <tr>\n",
       "      <th>4</th>\n",
       "      <td>m/10</td>\n",
       "      <td>Scott Weinberg</td>\n",
       "      <td>eFilmCritic.com</td>\n",
       "      <td>1</td>\n",
       "      <td>2002-07-25</td>\n",
       "      <td>Obvious but entertaining portrayal of midlife ...</td>\n",
       "      <td>10</td>\n",
       "      <td>A successful, middle-aged Hollywood songwriter...</td>\n",
       "      <td>Blake Edwards' bawdy comedy may not score a pe...</td>\n",
       "      <td>R</td>\n",
       "      <td>Comedy, Romance</td>\n",
       "      <td>Blake Edwards</td>\n",
       "      <td>Blake Edwards</td>\n",
       "      <td>Dudley Moore, Bo Derek, Julie Andrews, Robert ...</td>\n",
       "      <td>1979-10-05</td>\n",
       "      <td>2014-07-24</td>\n",
       "      <td>122.0</td>\n",
       "      <td>Waner Bros.</td>\n",
       "      <td>1</td>\n",
       "      <td>67.0</td>\n",
       "      <td>24.0</td>\n",
       "      <td>0</td>\n",
       "      <td>53.0</td>\n",
       "      <td>14684.0</td>\n",
       "      <td>8874</td>\n",
       "      <td>80.0</td>\n",
       "      <td>1979</td>\n",
       "      <td>tt0078721</td>\n",
       "      <td>USA</td>\n",
       "      <td>A Hollywood composer goes through a mid-life c...</td>\n",
       "      <td>61.0</td>\n",
       "      <td>14946.0</td>\n",
       "      <td>0.486</td>\n",
       "      <td>0.332</td>\n",
       "      <td>0.182</td>\n",
       "      <td>-0.8126</td>\n",
       "      <td>0.262</td>\n",
       "      <td>0.547</td>\n",
       "      <td>0.191</td>\n",
       "      <td>-0.4676</td>\n",
       "      <td>60.03</td>\n",
       "    </tr>\n",
       "  </tbody>\n",
       "</table>\n",
       "</div>"
      ],
      "text/plain": [
       "       rt_id     critic_name                publisher  review_type  \\\n",
       "0  m/0814255    Ben McEachen  Sunday Mail (Australia)            1   \n",
       "1  m/0814255    Nick Schager           Slant Magazine            0   \n",
       "2  m/0878835  Erik Childress          eFilmCritic.com            1   \n",
       "3  m/0878835    Richard Mowe       Boxoffice Magazine            1   \n",
       "4       m/10  Scott Weinberg          eFilmCritic.com            1   \n",
       "\n",
       "  review_date                                     review_content  \\\n",
       "0  2010-02-09  Whether audiences will get behind The Lightnin...   \n",
       "1  2010-02-10  Harry Potter knockoffs don't come more transpa...   \n",
       "2  2010-01-31  Holofcener always gives us more to chew on tha...   \n",
       "3  2010-03-24  The tone is low-key but very funny. Yet, at th...   \n",
       "4  2002-07-25  Obvious but entertaining portrayal of midlife ...   \n",
       "\n",
       "                                               title  \\\n",
       "0  Percy Jackson & the Olympians: The Lightning T...   \n",
       "1  Percy Jackson & the Olympians: The Lightning T...   \n",
       "2                                        Please Give   \n",
       "3                                        Please Give   \n",
       "4                                                 10   \n",
       "\n",
       "                                                plot  \\\n",
       "0  Always trouble-prone, the life of teenager Per...   \n",
       "1  Always trouble-prone, the life of teenager Per...   \n",
       "2  Kate (Catherine Keener) and her husband Alex (...   \n",
       "3  Kate (Catherine Keener) and her husband Alex (...   \n",
       "4  A successful, middle-aged Hollywood songwriter...   \n",
       "\n",
       "                                   critics_consensus content_rating  \\\n",
       "0  Though it may seem like just another Harry Pot...             PG   \n",
       "1  Though it may seem like just another Harry Pot...             PG   \n",
       "2  Nicole Holofcener's newest might seem slight i...              R   \n",
       "3  Nicole Holofcener's newest might seem slight i...              R   \n",
       "4  Blake Edwards' bawdy comedy may not score a pe...              R   \n",
       "\n",
       "                                               genre           director  \\\n",
       "0  Action & Adventure, Comedy, Drama, Science Fic...     Chris Columbus   \n",
       "1  Action & Adventure, Comedy, Drama, Science Fic...     Chris Columbus   \n",
       "2                                             Comedy  Nicole Holofcener   \n",
       "3                                             Comedy  Nicole Holofcener   \n",
       "4                                    Comedy, Romance      Blake Edwards   \n",
       "\n",
       "                                       writer  \\\n",
       "0  Craig Titley, Chris Columbus, Rick Riordan   \n",
       "1  Craig Titley, Chris Columbus, Rick Riordan   \n",
       "2                           Nicole Holofcener   \n",
       "3                           Nicole Holofcener   \n",
       "4                               Blake Edwards   \n",
       "\n",
       "                                                cast original_release_date  \\\n",
       "0  Logan Lerman, Brandon T. Jackson, Alexandra Da...            2010-02-12   \n",
       "1  Logan Lerman, Brandon T. Jackson, Alexandra Da...            2010-02-12   \n",
       "2  Catherine Keener, Amanda Peet, Oliver Platt, R...            2010-04-30   \n",
       "3  Catherine Keener, Amanda Peet, Oliver Platt, R...            2010-04-30   \n",
       "4  Dudley Moore, Bo Derek, Julie Andrews, Robert ...            1979-10-05   \n",
       "\n",
       "  streaming_release_date  runtime      production_company  tomatometer_status  \\\n",
       "0             2015-11-25    119.0        20th Century Fox                   0   \n",
       "1             2015-11-25    119.0        20th Century Fox                   0   \n",
       "2             2012-09-04     90.0  Sony Pictures Classics                   1   \n",
       "3             2012-09-04     90.0  Sony Pictures Classics                   1   \n",
       "4             2014-07-24    122.0             Waner Bros.                   1   \n",
       "\n",
       "   tomatometer_rating  tomatometer_count  audience_status  audience_rating  \\\n",
       "0                49.0              149.0                0             53.0   \n",
       "1                49.0              149.0                0             53.0   \n",
       "2                87.0              142.0                1             64.0   \n",
       "3                87.0              142.0                1             64.0   \n",
       "4                67.0               24.0                0             53.0   \n",
       "\n",
       "   audience_count  critic_id  review_score  year imdb_title          country  \\\n",
       "0        254421.0       1022          70.0  2010  tt0814255  UK, Canada, USA   \n",
       "1        254421.0       7475          25.0  2010  tt0814255  UK, Canada, USA   \n",
       "2         11574.0       3177          75.0  2010  tt0878835              USA   \n",
       "3         11574.0       8239          60.0  2010  tt0878835              USA   \n",
       "4         14684.0       8874          80.0  1979  tt0078721              USA   \n",
       "\n",
       "                                           imdb_plot  imdb_score  imdb_count  \\\n",
       "0  A teenager discovers he's the descendant of a ...        59.0    174198.0   \n",
       "1  A teenager discovers he's the descendant of a ...        59.0    174198.0   \n",
       "2  In New York City, a husband and wife butt head...        66.0     10928.0   \n",
       "3  In New York City, a husband and wife butt head...        66.0     10928.0   \n",
       "4  A Hollywood composer goes through a mid-life c...        61.0     14946.0   \n",
       "\n",
       "   review_negative  review_neutral  review_positive  review_compound  \\\n",
       "0            0.080           0.727            0.193           0.7050   \n",
       "1            0.000           1.000            0.000           0.0000   \n",
       "2            0.000           0.928            0.072           0.4767   \n",
       "3            0.000           0.816            0.184           0.6474   \n",
       "4            0.486           0.332            0.182          -0.8126   \n",
       "\n",
       "   consensus_negative  consensus_neutral  consensus_positive  \\\n",
       "0               0.000              0.590               0.410   \n",
       "1               0.000              0.590               0.410   \n",
       "2               0.000              0.885               0.115   \n",
       "3               0.000              0.885               0.115   \n",
       "4               0.262              0.547               0.191   \n",
       "\n",
       "   consensus_compound  score  \n",
       "0              0.9274  53.95  \n",
       "1              0.9274  53.95  \n",
       "2              0.5023  73.53  \n",
       "3              0.5023  73.53  \n",
       "4             -0.4676  60.03  "
      ]
     },
     "execution_count": 2,
     "metadata": {},
     "output_type": "execute_result"
    }
   ],
   "source": [
    "df = pd.read_csv('./data/df_to_preprocess.csv')\n",
    "df.drop(columns = 'Unnamed: 0', inplace = True)\n",
    "print(df.shape)\n",
    "df.head()"
   ]
  },
  {
   "cell_type": "code",
   "execution_count": 5,
   "id": "NKw4QlH-kF7D",
   "metadata": {
    "colab": {
     "base_uri": "https://localhost:8080/"
    },
    "id": "NKw4QlH-kF7D",
    "outputId": "305eb36e-8e99-46fb-90c5-5821490d32db"
   },
   "outputs": [
    {
     "data": {
      "text/plain": [
       "(6587, 41)"
      ]
     },
     "execution_count": 5,
     "metadata": {},
     "output_type": "execute_result"
    }
   ],
   "source": [
    "# Making dataset smaller to avoid pre-processing and modeling issues.\n",
    "df = df.groupby('title').head(1)\n",
    "df.shape"
   ]
  },
  {
   "cell_type": "markdown",
   "id": "76eovpxEx1OP",
   "metadata": {
    "id": "76eovpxEx1OP"
   },
   "source": [
    "#### One Hot Encode Content Rating"
   ]
  },
  {
   "cell_type": "code",
   "execution_count": 6,
   "id": "RWdaY9x2x3CX",
   "metadata": {
    "colab": {
     "base_uri": "https://localhost:8080/",
     "height": 224
    },
    "id": "RWdaY9x2x3CX",
    "outputId": "c1010107-e3d5-411c-9a7d-8641ec40c3e0"
   },
   "outputs": [
    {
     "name": "stdout",
     "output_type": "stream",
     "text": [
      "(6587, 5)\n"
     ]
    },
    {
     "data": {
      "text/html": [
       "<div>\n",
       "<style scoped>\n",
       "    .dataframe tbody tr th:only-of-type {\n",
       "        vertical-align: middle;\n",
       "    }\n",
       "\n",
       "    .dataframe tbody tr th {\n",
       "        vertical-align: top;\n",
       "    }\n",
       "\n",
       "    .dataframe thead th {\n",
       "        text-align: right;\n",
       "    }\n",
       "</style>\n",
       "<table border=\"1\" class=\"dataframe\">\n",
       "  <thead>\n",
       "    <tr style=\"text-align: right;\">\n",
       "      <th></th>\n",
       "      <th>G</th>\n",
       "      <th>NR</th>\n",
       "      <th>PG</th>\n",
       "      <th>PG-13</th>\n",
       "      <th>R</th>\n",
       "    </tr>\n",
       "  </thead>\n",
       "  <tbody>\n",
       "    <tr>\n",
       "      <th>0</th>\n",
       "      <td>0</td>\n",
       "      <td>0</td>\n",
       "      <td>1</td>\n",
       "      <td>0</td>\n",
       "      <td>0</td>\n",
       "    </tr>\n",
       "    <tr>\n",
       "      <th>2</th>\n",
       "      <td>0</td>\n",
       "      <td>0</td>\n",
       "      <td>0</td>\n",
       "      <td>0</td>\n",
       "      <td>1</td>\n",
       "    </tr>\n",
       "    <tr>\n",
       "      <th>4</th>\n",
       "      <td>0</td>\n",
       "      <td>0</td>\n",
       "      <td>0</td>\n",
       "      <td>0</td>\n",
       "      <td>1</td>\n",
       "    </tr>\n",
       "    <tr>\n",
       "      <th>6</th>\n",
       "      <td>0</td>\n",
       "      <td>1</td>\n",
       "      <td>0</td>\n",
       "      <td>0</td>\n",
       "      <td>0</td>\n",
       "    </tr>\n",
       "    <tr>\n",
       "      <th>8</th>\n",
       "      <td>0</td>\n",
       "      <td>0</td>\n",
       "      <td>0</td>\n",
       "      <td>0</td>\n",
       "      <td>1</td>\n",
       "    </tr>\n",
       "  </tbody>\n",
       "</table>\n",
       "</div>"
      ],
      "text/plain": [
       "   G  NR  PG  PG-13  R\n",
       "0  0   0   1      0  0\n",
       "2  0   0   0      0  1\n",
       "4  0   0   0      0  1\n",
       "6  0   1   0      0  0\n",
       "8  0   0   0      0  1"
      ]
     },
     "execution_count": 6,
     "metadata": {},
     "output_type": "execute_result"
    }
   ],
   "source": [
    "rating_dummy = pd.get_dummies(df['content_rating'])\n",
    "rating_dummy.drop(columns = 'NC17', inplace = True)\n",
    "print(rating_dummy.shape)\n",
    "rating_dummy.head()"
   ]
  },
  {
   "cell_type": "code",
   "execution_count": 7,
   "id": "aBh_GyCs2TS5",
   "metadata": {
    "id": "aBh_GyCs2TS5"
   },
   "outputs": [],
   "source": [
    "# Concatenating df and rating dummy\n",
    "df = pd.concat([df,rating_dummy], axis = 1)\n",
    "df.drop(columns = 'content_rating', inplace = True)"
   ]
  },
  {
   "cell_type": "markdown",
   "id": "iaq8aMGoxw3l",
   "metadata": {
    "id": "iaq8aMGoxw3l"
   },
   "source": [
    "CountVectorizer EDA"
   ]
  },
  {
   "cell_type": "code",
   "execution_count": 8,
   "id": "01dcebb6-144b-456b-b2b8-66e35ff16589",
   "metadata": {
    "id": "01dcebb6-144b-456b-b2b8-66e35ff16589"
   },
   "outputs": [],
   "source": [
    "# Instantiating cvec\n",
    "cvec = CountVectorizer(stop_words = 'english')"
   ]
  },
  {
   "cell_type": "code",
   "execution_count": 9,
   "id": "66b22117-8864-49b3-bc2e-16a7a2d1b025",
   "metadata": {
    "colab": {
     "base_uri": "https://localhost:8080/",
     "height": 224
    },
    "id": "66b22117-8864-49b3-bc2e-16a7a2d1b025",
    "outputId": "3313200b-9785-4f4e-8440-bad1c1c78787"
   },
   "outputs": [
    {
     "name": "stdout",
     "output_type": "stream",
     "text": [
      "(6587, 1)\n"
     ]
    },
    {
     "data": {
      "text/html": [
       "<div>\n",
       "<style scoped>\n",
       "    .dataframe tbody tr th:only-of-type {\n",
       "        vertical-align: middle;\n",
       "    }\n",
       "\n",
       "    .dataframe tbody tr th {\n",
       "        vertical-align: top;\n",
       "    }\n",
       "\n",
       "    .dataframe thead th {\n",
       "        text-align: right;\n",
       "    }\n",
       "</style>\n",
       "<table border=\"1\" class=\"dataframe\">\n",
       "  <thead>\n",
       "    <tr style=\"text-align: right;\">\n",
       "      <th></th>\n",
       "      <th>plot</th>\n",
       "    </tr>\n",
       "  </thead>\n",
       "  <tbody>\n",
       "    <tr>\n",
       "      <th>0</th>\n",
       "      <td>Always trouble-prone, the life of teenager Per...</td>\n",
       "    </tr>\n",
       "    <tr>\n",
       "      <th>2</th>\n",
       "      <td>Kate (Catherine Keener) and her husband Alex (...</td>\n",
       "    </tr>\n",
       "    <tr>\n",
       "      <th>4</th>\n",
       "      <td>A successful, middle-aged Hollywood songwriter...</td>\n",
       "    </tr>\n",
       "    <tr>\n",
       "      <th>6</th>\n",
       "      <td>While on vacation in London, Canadian Richard ...</td>\n",
       "    </tr>\n",
       "    <tr>\n",
       "      <th>8</th>\n",
       "      <td>Fico Fellove (Andy Garcia), an apolitical Hava...</td>\n",
       "    </tr>\n",
       "  </tbody>\n",
       "</table>\n",
       "</div>"
      ],
      "text/plain": [
       "                                                plot\n",
       "0  Always trouble-prone, the life of teenager Per...\n",
       "2  Kate (Catherine Keener) and her husband Alex (...\n",
       "4  A successful, middle-aged Hollywood songwriter...\n",
       "6  While on vacation in London, Canadian Richard ...\n",
       "8  Fico Fellove (Andy Garcia), an apolitical Hava..."
      ]
     },
     "execution_count": 9,
     "metadata": {},
     "output_type": "execute_result"
    }
   ],
   "source": [
    "# Removing duplicates\n",
    "df_plot  = df[['plot']].drop_duplicates(keep = 'first')\n",
    "print(df_plot.shape)\n",
    "df_plot.head()"
   ]
  },
  {
   "cell_type": "code",
   "execution_count": 10,
   "id": "d9405160-00de-441a-a079-90efcadd2b29",
   "metadata": {
    "colab": {
     "base_uri": "https://localhost:8080/"
    },
    "id": "d9405160-00de-441a-a079-90efcadd2b29",
    "outputId": "b8caf7f0-6a77-4828-b0bb-73f436df9250"
   },
   "outputs": [
    {
     "name": "stderr",
     "output_type": "stream",
     "text": [
      "/Users/jenz/opt/anaconda3/lib/python3.8/site-packages/sklearn/utils/deprecation.py:87: FutureWarning: Function get_feature_names is deprecated; get_feature_names is deprecated in 1.0 and will be removed in 1.2. Please use get_feature_names_out instead.\n",
      "  warnings.warn(msg, category=FutureWarning)\n"
     ]
    }
   ],
   "source": [
    "# CVEC Fit Transform Movie Info\n",
    "df_plot = df_plot['plot']\n",
    "cvec.fit(df_plot)\n",
    "df_plot = cvec.transform(df_plot).toarray()\n",
    "plot_df = pd.DataFrame(df_plot, columns = cvec.get_feature_names())"
   ]
  },
  {
   "cell_type": "code",
   "execution_count": 34,
   "id": "b69a61c5-72e8-43ab-aeb3-8492a5db02cc",
   "metadata": {
    "colab": {
     "base_uri": "https://localhost:8080/"
    },
    "id": "b69a61c5-72e8-43ab-aeb3-8492a5db02cc",
    "outputId": "4629eed2-d585-4978-9497-f76c17d5f9d9"
   },
   "outputs": [
    {
     "data": {
      "text/plain": [
       "life       1211\n",
       "new        1162\n",
       "young       906\n",
       "man         816\n",
       "family      796\n",
       "world       696\n",
       "father      633\n",
       "finds       625\n",
       "love        601\n",
       "wife        579\n",
       "john        570\n",
       "soon        565\n",
       "help        552\n",
       "home        552\n",
       "woman       546\n",
       "old         530\n",
       "time        524\n",
       "friends     522\n",
       "way         493\n",
       "mother      487\n",
       "dtype: int64"
      ]
     },
     "execution_count": 34,
     "metadata": {},
     "output_type": "execute_result"
    }
   ],
   "source": [
    "# Movie Info Top 20 Words\n",
    "plot_df.sum().sort_values(ascending = False).head(20)"
   ]
  },
  {
   "cell_type": "markdown",
   "id": "jiV60i89MTE1",
   "metadata": {
    "id": "jiV60i89MTE1"
   },
   "source": [
    "Top 5 words: Life, new, young, man, family"
   ]
  },
  {
   "cell_type": "code",
   "execution_count": 11,
   "id": "GcYmYHAUJoR9",
   "metadata": {
    "colab": {
     "base_uri": "https://localhost:8080/",
     "height": 224
    },
    "id": "GcYmYHAUJoR9",
    "outputId": "bb4df635-8981-4b7f-b545-60046da53849"
   },
   "outputs": [
    {
     "name": "stdout",
     "output_type": "stream",
     "text": [
      "(6587, 1)\n"
     ]
    },
    {
     "data": {
      "text/html": [
       "<div>\n",
       "<style scoped>\n",
       "    .dataframe tbody tr th:only-of-type {\n",
       "        vertical-align: middle;\n",
       "    }\n",
       "\n",
       "    .dataframe tbody tr th {\n",
       "        vertical-align: top;\n",
       "    }\n",
       "\n",
       "    .dataframe thead th {\n",
       "        text-align: right;\n",
       "    }\n",
       "</style>\n",
       "<table border=\"1\" class=\"dataframe\">\n",
       "  <thead>\n",
       "    <tr style=\"text-align: right;\">\n",
       "      <th></th>\n",
       "      <th>critics_consensus</th>\n",
       "    </tr>\n",
       "  </thead>\n",
       "  <tbody>\n",
       "    <tr>\n",
       "      <th>0</th>\n",
       "      <td>Though it may seem like just another Harry Pot...</td>\n",
       "    </tr>\n",
       "    <tr>\n",
       "      <th>2</th>\n",
       "      <td>Nicole Holofcener's newest might seem slight i...</td>\n",
       "    </tr>\n",
       "    <tr>\n",
       "      <th>4</th>\n",
       "      <td>Blake Edwards' bawdy comedy may not score a pe...</td>\n",
       "    </tr>\n",
       "    <tr>\n",
       "      <th>6</th>\n",
       "      <td>Packed with twists and turns, this essential e...</td>\n",
       "    </tr>\n",
       "    <tr>\n",
       "      <th>8</th>\n",
       "      <td>Its heart is in the right place, but what star...</td>\n",
       "    </tr>\n",
       "  </tbody>\n",
       "</table>\n",
       "</div>"
      ],
      "text/plain": [
       "                                   critics_consensus\n",
       "0  Though it may seem like just another Harry Pot...\n",
       "2  Nicole Holofcener's newest might seem slight i...\n",
       "4  Blake Edwards' bawdy comedy may not score a pe...\n",
       "6  Packed with twists and turns, this essential e...\n",
       "8  Its heart is in the right place, but what star..."
      ]
     },
     "execution_count": 11,
     "metadata": {},
     "output_type": "execute_result"
    }
   ],
   "source": [
    "# Removing duplicates\n",
    "df_critic  = df[['critics_consensus']].drop_duplicates(keep = 'first')\n",
    "print(df_critic.shape)\n",
    "df_critic.head()"
   ]
  },
  {
   "cell_type": "code",
   "execution_count": 12,
   "id": "de29d39d-1032-40e0-b8dc-c315cb7d4f00",
   "metadata": {
    "colab": {
     "base_uri": "https://localhost:8080/"
    },
    "id": "de29d39d-1032-40e0-b8dc-c315cb7d4f00",
    "outputId": "1bec7d16-ee7e-44f8-94a9-ea5157e7e280"
   },
   "outputs": [
    {
     "name": "stderr",
     "output_type": "stream",
     "text": [
      "/Users/jenz/opt/anaconda3/lib/python3.8/site-packages/sklearn/utils/deprecation.py:87: FutureWarning: Function get_feature_names is deprecated; get_feature_names is deprecated in 1.0 and will be removed in 1.2. Please use get_feature_names_out instead.\n",
      "  warnings.warn(msg, category=FutureWarning)\n"
     ]
    }
   ],
   "source": [
    "# CVEC Fit Transform Critics Consensus\n",
    "df_critic = df['critics_consensus']\n",
    "cvec.fit(df_critic)\n",
    "df_critic = cvec.transform(df_critic).toarray()\n",
    "critic_df = pd.DataFrame(df_critic, columns = cvec.get_feature_names())"
   ]
  },
  {
   "cell_type": "code",
   "execution_count": 13,
   "id": "ad84e70c-bec9-4660-8135-54337baaa7cb",
   "metadata": {
    "colab": {
     "base_uri": "https://localhost:8080/"
    },
    "id": "ad84e70c-bec9-4660-8135-54337baaa7cb",
    "outputId": "a0a865be-8e94-41fa-8a1e-5cdaf6fc1fde"
   },
   "outputs": [
    {
     "data": {
      "text/plain": [
       "story           600\n",
       "cast            598\n",
       "performances    561\n",
       "performance     546\n",
       "director        500\n",
       "movie           471\n",
       "comedy          430\n",
       "film            404\n",
       "thriller        350\n",
       "drama           344\n",
       "action          337\n",
       "plot            313\n",
       "characters      308\n",
       "life            281\n",
       "funny           271\n",
       "offers          264\n",
       "make            258\n",
       "script          251\n",
       "strong          242\n",
       "humor           234\n",
       "dtype: int64"
      ]
     },
     "execution_count": 13,
     "metadata": {},
     "output_type": "execute_result"
    }
   ],
   "source": [
    "# Critic Concensus Top 20 Words\n",
    "critic_df.sum().sort_values(ascending = False).head(20)"
   ]
  },
  {
   "cell_type": "markdown",
   "id": "pPUQpN35Mfn4",
   "metadata": {
    "id": "pPUQpN35Mfn4"
   },
   "source": [
    "Top 5 words: Story, Cast, Performances, Performance, Director."
   ]
  },
  {
   "cell_type": "code",
   "execution_count": 14,
   "id": "NuQiGH_TNFbz",
   "metadata": {
    "colab": {
     "base_uri": "https://localhost:8080/"
    },
    "id": "NuQiGH_TNFbz",
    "outputId": "fb2fc09b-98b9-468e-865d-755f1cc6f174"
   },
   "outputs": [],
   "source": [
    "# CVEC Fit Transform Review Content - Each is unique, so not dropping any duplicates\n",
    "df_review = df['review_content']\n",
    "cvec.fit(df_review)\n",
    "df_review = cvec.transform(df_review).toarray()\n",
    "review_df = pd.DataFrame(df_review, columns = cvec.get_feature_names())"
   ]
  },
  {
   "cell_type": "code",
   "execution_count": 15,
   "id": "MBVbmnFNNFTh",
   "metadata": {
    "colab": {
     "base_uri": "https://localhost:8080/"
    },
    "id": "MBVbmnFNNFTh",
    "outputId": "b95005bd-eb37-44ad-84dc-859094bd6279"
   },
   "outputs": [
    {
     "data": {
      "text/plain": [
       "film          1162\n",
       "movie          821\n",
       "like           445\n",
       "story          359\n",
       "just           308\n",
       "comedy         303\n",
       "good           298\n",
       "best           259\n",
       "time           242\n",
       "way            227\n",
       "make           197\n",
       "director       194\n",
       "characters     186\n",
       "funny          182\n",
       "fun            181\n",
       "little         181\n",
       "action         181\n",
       "great          177\n",
       "films          174\n",
       "love           168\n",
       "dtype: int64"
      ]
     },
     "execution_count": 15,
     "metadata": {},
     "output_type": "execute_result"
    }
   ],
   "source": [
    "# Review Content Top 20 Words\n",
    "review_df.sum().sort_values(ascending = False).head(20)"
   ]
  },
  {
   "cell_type": "markdown",
   "id": "nHQiYkiuN3lC",
   "metadata": {
    "id": "nHQiYkiuN3lC"
   },
   "source": [
    "Top 5 Words: Film, Review, Content, Movie, Like. Overlap with top 20 critic consensus: Story, Director, Movie, Comedy, Film, Drama, Life and Characters"
   ]
  },
  {
   "cell_type": "code",
   "execution_count": 16,
   "id": "412e58d0-d7d7-4288-88f6-c8f4488d47fb",
   "metadata": {
    "colab": {
     "base_uri": "https://localhost:8080/"
    },
    "id": "412e58d0-d7d7-4288-88f6-c8f4488d47fb",
    "outputId": "202974c6-b26b-4bf4-8d69-59381c89b854"
   },
   "outputs": [],
   "source": [
    "# CVEC Fit Transform Genres\n",
    "df_genre = df['genre']\n",
    "cvec.fit(df_genre)\n",
    "df_genre = cvec.transform(df_genre).toarray()\n",
    "genre_df = pd.DataFrame(df_genre, columns = cvec.get_feature_names())"
   ]
  },
  {
   "cell_type": "code",
   "execution_count": 17,
   "id": "f0e27da7-0daf-4f03-a697-56623f26fb5b",
   "metadata": {
    "colab": {
     "base_uri": "https://localhost:8080/"
    },
    "id": "f0e27da7-0daf-4f03-a697-56623f26fb5b",
    "outputId": "db528b79-09d6-4c8d-e49d-dc9d5a701d72"
   },
   "outputs": [
    {
     "data": {
      "text/plain": [
       "drama            3875\n",
       "comedy           2476\n",
       "action           1578\n",
       "adventure        1578\n",
       "suspense         1569\n",
       "mystery          1569\n",
       "science           869\n",
       "fiction           869\n",
       "fantasy           869\n",
       "romance           830\n",
       "horror            728\n",
       "kids              505\n",
       "family            505\n",
       "house             468\n",
       "international     468\n",
       "art               468\n",
       "classics          385\n",
       "animation         266\n",
       "arts              234\n",
       "performing        234\n",
       "dtype: int64"
      ]
     },
     "execution_count": 17,
     "metadata": {},
     "output_type": "execute_result"
    }
   ],
   "source": [
    "# Top 20 Genres\n",
    "genre_df.sum().sort_values(ascending = False).head(20)"
   ]
  },
  {
   "cell_type": "markdown",
   "id": "iv3iacziM6-q",
   "metadata": {
    "id": "iv3iacziM6-q"
   },
   "source": [
    "Top 5 Genres: Drama, Action, Comedy, Adventure, Suspense"
   ]
  },
  {
   "cell_type": "code",
   "execution_count": 19,
   "id": "ebce879e-2249-4aaf-a9b4-91c6b46b29ed",
   "metadata": {},
   "outputs": [
    {
     "name": "stdout",
     "output_type": "stream",
     "text": [
      "(6587, 14178)\n"
     ]
    },
    {
     "data": {
      "text/html": [
       "<div>\n",
       "<style scoped>\n",
       "    .dataframe tbody tr th:only-of-type {\n",
       "        vertical-align: middle;\n",
       "    }\n",
       "\n",
       "    .dataframe tbody tr th {\n",
       "        vertical-align: top;\n",
       "    }\n",
       "\n",
       "    .dataframe thead th {\n",
       "        text-align: right;\n",
       "    }\n",
       "</style>\n",
       "<table border=\"1\" class=\"dataframe\">\n",
       "  <thead>\n",
       "    <tr style=\"text-align: right;\">\n",
       "      <th></th>\n",
       "      <th>imdb_plot</th>\n",
       "    </tr>\n",
       "  </thead>\n",
       "  <tbody>\n",
       "    <tr>\n",
       "      <th>0</th>\n",
       "      <td>A teenager discovers he's the descendant of a ...</td>\n",
       "    </tr>\n",
       "    <tr>\n",
       "      <th>2</th>\n",
       "      <td>In New York City, a husband and wife butt head...</td>\n",
       "    </tr>\n",
       "    <tr>\n",
       "      <th>4</th>\n",
       "      <td>A Hollywood composer goes through a mid-life c...</td>\n",
       "    </tr>\n",
       "    <tr>\n",
       "      <th>6</th>\n",
       "      <td>A man in London tries to help a counter-espion...</td>\n",
       "    </tr>\n",
       "    <tr>\n",
       "      <th>8</th>\n",
       "      <td>An evil scientist plots to take over the world...</td>\n",
       "    </tr>\n",
       "  </tbody>\n",
       "</table>\n",
       "</div>"
      ],
      "text/plain": [
       "                                           imdb_plot\n",
       "0  A teenager discovers he's the descendant of a ...\n",
       "2  In New York City, a husband and wife butt head...\n",
       "4  A Hollywood composer goes through a mid-life c...\n",
       "6  A man in London tries to help a counter-espion...\n",
       "8  An evil scientist plots to take over the world..."
      ]
     },
     "execution_count": 19,
     "metadata": {},
     "output_type": "execute_result"
    }
   ],
   "source": [
    "# Removing duplicates\n",
    "df_imdb  = df[['imdb_plot']].drop_duplicates(keep = 'first')\n",
    "print(df_critic.shape)\n",
    "df_imdb.head()"
   ]
  },
  {
   "cell_type": "code",
   "execution_count": 20,
   "id": "7925ea40-3213-45a9-8166-677369351048",
   "metadata": {},
   "outputs": [
    {
     "name": "stderr",
     "output_type": "stream",
     "text": [
      "/Users/jenz/opt/anaconda3/lib/python3.8/site-packages/sklearn/utils/deprecation.py:87: FutureWarning: Function get_feature_names is deprecated; get_feature_names is deprecated in 1.0 and will be removed in 1.2. Please use get_feature_names_out instead.\n",
      "  warnings.warn(msg, category=FutureWarning)\n"
     ]
    }
   ],
   "source": [
    "# CVEC Fit Transform Critics Consensus\n",
    "df_imdb = df_imdb['imdb_plot']\n",
    "cvec.fit(df_imdb)\n",
    "df_imdb = cvec.transform(df_imdb).toarray()\n",
    "df_imdb = pd.DataFrame(df_imdb, columns = cvec.get_feature_names())"
   ]
  },
  {
   "cell_type": "code",
   "execution_count": 21,
   "id": "b84f4dc8-62c5-4d7c-8601-4ba744d45da3",
   "metadata": {},
   "outputs": [
    {
     "data": {
      "text/plain": [
       "young      775\n",
       "life       698\n",
       "man        644\n",
       "new        615\n",
       "woman      495\n",
       "family     466\n",
       "world      384\n",
       "love       377\n",
       "story      311\n",
       "school     298\n",
       "finds      290\n",
       "group      285\n",
       "friends    283\n",
       "old        279\n",
       "father     273\n",
       "wife       268\n",
       "city       265\n",
       "town       257\n",
       "girl       257\n",
       "war        249\n",
       "dtype: int64"
      ]
     },
     "execution_count": 21,
     "metadata": {},
     "output_type": "execute_result"
    }
   ],
   "source": [
    "# Top 20 Genres\n",
    "df_imdb.sum().sort_values(ascending = False).head(20)"
   ]
  },
  {
   "cell_type": "markdown",
   "id": "yZ9e4vcYM1qQ",
   "metadata": {
    "id": "yZ9e4vcYM1qQ"
   },
   "source": [
    "Pre-Process for Modeling"
   ]
  },
  {
   "cell_type": "code",
   "execution_count": 22,
   "id": "YxTmD11hJsMH",
   "metadata": {
    "id": "YxTmD11hJsMH"
   },
   "outputs": [],
   "source": [
    "# Setting parameters to avoid crash \n",
    "cvec = CountVectorizer(stop_words = 'english', lowercase = True, min_df = 2, max_df = .9, max_features = 3000)"
   ]
  },
  {
   "cell_type": "code",
   "execution_count": 23,
   "id": "GyGRITrN7Rf5",
   "metadata": {
    "colab": {
     "base_uri": "https://localhost:8080/",
     "height": 112
    },
    "id": "GyGRITrN7Rf5",
    "outputId": "f8d16379-16d8-4e2c-b716-e662c21dc1d6"
   },
   "outputs": [
    {
     "data": {
      "text/html": [
       "<div>\n",
       "<style scoped>\n",
       "    .dataframe tbody tr th:only-of-type {\n",
       "        vertical-align: middle;\n",
       "    }\n",
       "\n",
       "    .dataframe tbody tr th {\n",
       "        vertical-align: top;\n",
       "    }\n",
       "\n",
       "    .dataframe thead th {\n",
       "        text-align: right;\n",
       "    }\n",
       "</style>\n",
       "<table border=\"1\" class=\"dataframe\">\n",
       "  <thead>\n",
       "    <tr style=\"text-align: right;\">\n",
       "      <th></th>\n",
       "      <th>text</th>\n",
       "    </tr>\n",
       "  </thead>\n",
       "  <tbody>\n",
       "    <tr>\n",
       "      <th>0</th>\n",
       "      <td>Percy Jackson &amp; the Olympians: The Lightning T...</td>\n",
       "    </tr>\n",
       "    <tr>\n",
       "      <th>2</th>\n",
       "      <td>Please Give Kate (Catherine Keener) and her hu...</td>\n",
       "    </tr>\n",
       "  </tbody>\n",
       "</table>\n",
       "</div>"
      ],
      "text/plain": [
       "                                                text\n",
       "0  Percy Jackson & the Olympians: The Lightning T...\n",
       "2  Please Give Kate (Catherine Keener) and her hu..."
      ]
     },
     "execution_count": 23,
     "metadata": {},
     "output_type": "execute_result"
    }
   ],
   "source": [
    "# Creating text column\n",
    "def create_text(x):\n",
    "    return (''.join(x['title']) + ' ' + ''.join(x['plot']) + ' ' + ''.join(x['critics_consensus']) +\n",
    "            ' ' + ''.join(x['genre']) + ' ' + ''.join(x['director']) + ' ' + ''.join(x['cast'] + \n",
    "            ' ' + ''.join(x['imdb_plot'])))\n",
    "\n",
    "df['text'] = df.apply(create_text, axis = 1)\n",
    "\n",
    "df[['text']].head(2)"
   ]
  },
  {
   "cell_type": "code",
   "execution_count": 24,
   "id": "4aea5ce0-1a4b-47b6-bb3a-3c058df6eda9",
   "metadata": {
    "colab": {
     "base_uri": "https://localhost:8080/"
    },
    "id": "4aea5ce0-1a4b-47b6-bb3a-3c058df6eda9",
    "outputId": "dfc0dacd-7f60-43fa-c8b1-46f479ffd92f"
   },
   "outputs": [
    {
     "name": "stderr",
     "output_type": "stream",
     "text": [
      "/Users/jenz/opt/anaconda3/lib/python3.8/site-packages/sklearn/utils/deprecation.py:87: FutureWarning: Function get_feature_names is deprecated; get_feature_names is deprecated in 1.0 and will be removed in 1.2. Please use get_feature_names_out instead.\n",
      "  warnings.warn(msg, category=FutureWarning)\n"
     ]
    }
   ],
   "source": [
    "# Fit & Transform text column\n",
    "df_text = df['text']\n",
    "cvec.fit(df_text)\n",
    "df_text = cvec.transform(df_text).toarray()\n",
    "text_df = pd.DataFrame(df_text, columns = cvec.get_feature_names(), index = df.index)"
   ]
  },
  {
   "cell_type": "code",
   "execution_count": 25,
   "id": "e9ee09a5-4ff3-4fc0-97c8-90f299cba4b0",
   "metadata": {
    "colab": {
     "base_uri": "https://localhost:8080/"
    },
    "id": "e9ee09a5-4ff3-4fc0-97c8-90f299cba4b0",
    "outputId": "56366e3e-bd7a-4054-fd7b-8bdc244f7e74"
   },
   "outputs": [
    {
     "data": {
      "text/plain": [
       "(6587, 27)"
      ]
     },
     "execution_count": 25,
     "metadata": {},
     "output_type": "execute_result"
    }
   ],
   "source": [
    "# Getting numeric columns \n",
    "df_numeric = df._get_numeric_data()\n",
    "df_numeric.shape"
   ]
  },
  {
   "cell_type": "code",
   "execution_count": 26,
   "id": "Knx7N-7EGGYY",
   "metadata": {
    "colab": {
     "base_uri": "https://localhost:8080/"
    },
    "id": "Knx7N-7EGGYY",
    "outputId": "74f40a85-0ae6-48df-d60a-ceb6b6e1b1fb"
   },
   "outputs": [
    {
     "data": {
      "text/plain": [
       "(6587, 3027)"
      ]
     },
     "execution_count": 26,
     "metadata": {},
     "output_type": "execute_result"
    }
   ],
   "source": [
    "# Concatenating numeric df and text df \n",
    "df = pd.concat([df_numeric, text_df], axis = 1)\n",
    "df.shape"
   ]
  },
  {
   "cell_type": "code",
   "execution_count": 27,
   "id": "XOoseZPrHUIa",
   "metadata": {
    "id": "XOoseZPrHUIa"
   },
   "outputs": [],
   "source": [
    "# Saving to new DF to model\n",
    "df.to_csv('./data/df_model.csv')"
   ]
  },
  {
   "cell_type": "code",
   "execution_count": null,
   "id": "puFa_05bpiKZ",
   "metadata": {
    "id": "puFa_05bpiKZ"
   },
   "outputs": [],
   "source": []
  }
 ],
 "metadata": {
  "accelerator": "GPU",
  "colab": {
   "collapsed_sections": [],
   "machine_shape": "hm",
   "name": "03_Pre_Process_Modeling.ipynb",
   "provenance": []
  },
  "kernelspec": {
   "display_name": "Python 3 (ipykernel)",
   "language": "python",
   "name": "python3"
  },
  "language_info": {
   "codemirror_mode": {
    "name": "ipython",
    "version": 3
   },
   "file_extension": ".py",
   "mimetype": "text/x-python",
   "name": "python",
   "nbconvert_exporter": "python",
   "pygments_lexer": "ipython3",
   "version": "3.8.8"
  }
 },
 "nbformat": 4,
 "nbformat_minor": 5
}
