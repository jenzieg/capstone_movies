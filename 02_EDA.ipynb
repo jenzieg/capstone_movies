{
 "cells": [
  {
   "cell_type": "markdown",
   "id": "78afa1ed-3b79-4003-a5fa-9e9bf805f963",
   "metadata": {},
   "source": [
    "# Movie Data Exploratory Data Analysis"
   ]
  },
  {
   "cell_type": "markdown",
   "id": "4598dece-67ab-4daf-bbc0-13ca0ee1b8cd",
   "metadata": {},
   "source": [
    "#### Import Libraries and Load in Data"
   ]
  },
  {
   "cell_type": "code",
   "execution_count": 44,
   "id": "6f1925ad-f0e4-4fb2-a226-0caccc519700",
   "metadata": {},
   "outputs": [],
   "source": [
    "import pandas as pd\n",
    "import numpy as np\n",
    "import matplotlib.pyplot as plt \n",
    "import seaborn as sns\n",
    "from nltk.sentiment.vader import SentimentIntensityAnalyzer\n",
    "\n",
    "pd.set_option(\"display.max_columns\",350)"
   ]
  },
  {
   "cell_type": "code",
   "execution_count": 45,
   "id": "651040a9-74e1-42cf-b717-f34253402942",
   "metadata": {},
   "outputs": [
    {
     "data": {
      "text/html": [
       "<div>\n",
       "<style scoped>\n",
       "    .dataframe tbody tr th:only-of-type {\n",
       "        vertical-align: middle;\n",
       "    }\n",
       "\n",
       "    .dataframe tbody tr th {\n",
       "        vertical-align: top;\n",
       "    }\n",
       "\n",
       "    .dataframe thead th {\n",
       "        text-align: right;\n",
       "    }\n",
       "</style>\n",
       "<table border=\"1\" class=\"dataframe\">\n",
       "  <thead>\n",
       "    <tr style=\"text-align: right;\">\n",
       "      <th></th>\n",
       "      <th>rt_id</th>\n",
       "      <th>critic_name</th>\n",
       "      <th>publisher</th>\n",
       "      <th>review_type</th>\n",
       "      <th>review_date</th>\n",
       "      <th>review_content</th>\n",
       "      <th>title</th>\n",
       "      <th>plot</th>\n",
       "      <th>critics_consensus</th>\n",
       "      <th>content_rating</th>\n",
       "      <th>genre</th>\n",
       "      <th>director</th>\n",
       "      <th>writer</th>\n",
       "      <th>cast</th>\n",
       "      <th>original_release_date</th>\n",
       "      <th>streaming_release_date</th>\n",
       "      <th>runtime</th>\n",
       "      <th>production_company</th>\n",
       "      <th>tomatometer_status</th>\n",
       "      <th>tomatometer_rating</th>\n",
       "      <th>tomatometer_count</th>\n",
       "      <th>audience_status</th>\n",
       "      <th>audience_rating</th>\n",
       "      <th>audience_count</th>\n",
       "      <th>critic_id</th>\n",
       "      <th>review_score</th>\n",
       "      <th>year</th>\n",
       "      <th>imdb_title</th>\n",
       "      <th>country</th>\n",
       "      <th>description</th>\n",
       "      <th>avg_vote</th>\n",
       "      <th>votes</th>\n",
       "    </tr>\n",
       "  </thead>\n",
       "  <tbody>\n",
       "    <tr>\n",
       "      <th>0</th>\n",
       "      <td>m/0814255</td>\n",
       "      <td>Ben McEachen</td>\n",
       "      <td>Sunday Mail (Australia)</td>\n",
       "      <td>1</td>\n",
       "      <td>2010-02-09</td>\n",
       "      <td>Whether audiences will get behind The Lightnin...</td>\n",
       "      <td>Percy Jackson &amp; the Olympians: The Lightning T...</td>\n",
       "      <td>Always trouble-prone, the life of teenager Per...</td>\n",
       "      <td>Though it may seem like just another Harry Pot...</td>\n",
       "      <td>PG</td>\n",
       "      <td>Action &amp; Adventure, Comedy, Drama, Science Fic...</td>\n",
       "      <td>Chris Columbus</td>\n",
       "      <td>Craig Titley, Chris Columbus, Rick Riordan</td>\n",
       "      <td>Logan Lerman, Brandon T. Jackson, Alexandra Da...</td>\n",
       "      <td>2010-02-12</td>\n",
       "      <td>2015-11-25</td>\n",
       "      <td>119.0</td>\n",
       "      <td>20th Century Fox</td>\n",
       "      <td>0</td>\n",
       "      <td>49.0</td>\n",
       "      <td>149.0</td>\n",
       "      <td>0</td>\n",
       "      <td>53.0</td>\n",
       "      <td>254421.0</td>\n",
       "      <td>1022</td>\n",
       "      <td>0.70</td>\n",
       "      <td>2010</td>\n",
       "      <td>tt0814255</td>\n",
       "      <td>UK, Canada, USA</td>\n",
       "      <td>A teenager discovers he's the descendant of a ...</td>\n",
       "      <td>5.9</td>\n",
       "      <td>174198.0</td>\n",
       "    </tr>\n",
       "    <tr>\n",
       "      <th>1</th>\n",
       "      <td>m/0814255</td>\n",
       "      <td>Nick Schager</td>\n",
       "      <td>Slant Magazine</td>\n",
       "      <td>0</td>\n",
       "      <td>2010-02-10</td>\n",
       "      <td>Harry Potter knockoffs don't come more transpa...</td>\n",
       "      <td>Percy Jackson &amp; the Olympians: The Lightning T...</td>\n",
       "      <td>Always trouble-prone, the life of teenager Per...</td>\n",
       "      <td>Though it may seem like just another Harry Pot...</td>\n",
       "      <td>PG</td>\n",
       "      <td>Action &amp; Adventure, Comedy, Drama, Science Fic...</td>\n",
       "      <td>Chris Columbus</td>\n",
       "      <td>Craig Titley, Chris Columbus, Rick Riordan</td>\n",
       "      <td>Logan Lerman, Brandon T. Jackson, Alexandra Da...</td>\n",
       "      <td>2010-02-12</td>\n",
       "      <td>2015-11-25</td>\n",
       "      <td>119.0</td>\n",
       "      <td>20th Century Fox</td>\n",
       "      <td>0</td>\n",
       "      <td>49.0</td>\n",
       "      <td>149.0</td>\n",
       "      <td>0</td>\n",
       "      <td>53.0</td>\n",
       "      <td>254421.0</td>\n",
       "      <td>7475</td>\n",
       "      <td>0.25</td>\n",
       "      <td>2010</td>\n",
       "      <td>tt0814255</td>\n",
       "      <td>UK, Canada, USA</td>\n",
       "      <td>A teenager discovers he's the descendant of a ...</td>\n",
       "      <td>5.9</td>\n",
       "      <td>174198.0</td>\n",
       "    </tr>\n",
       "  </tbody>\n",
       "</table>\n",
       "</div>"
      ],
      "text/plain": [
       "       rt_id   critic_name                publisher  review_type review_date  \\\n",
       "0  m/0814255  Ben McEachen  Sunday Mail (Australia)            1  2010-02-09   \n",
       "1  m/0814255  Nick Schager           Slant Magazine            0  2010-02-10   \n",
       "\n",
       "                                      review_content  \\\n",
       "0  Whether audiences will get behind The Lightnin...   \n",
       "1  Harry Potter knockoffs don't come more transpa...   \n",
       "\n",
       "                                               title  \\\n",
       "0  Percy Jackson & the Olympians: The Lightning T...   \n",
       "1  Percy Jackson & the Olympians: The Lightning T...   \n",
       "\n",
       "                                                plot  \\\n",
       "0  Always trouble-prone, the life of teenager Per...   \n",
       "1  Always trouble-prone, the life of teenager Per...   \n",
       "\n",
       "                                   critics_consensus content_rating  \\\n",
       "0  Though it may seem like just another Harry Pot...             PG   \n",
       "1  Though it may seem like just another Harry Pot...             PG   \n",
       "\n",
       "                                               genre        director  \\\n",
       "0  Action & Adventure, Comedy, Drama, Science Fic...  Chris Columbus   \n",
       "1  Action & Adventure, Comedy, Drama, Science Fic...  Chris Columbus   \n",
       "\n",
       "                                       writer  \\\n",
       "0  Craig Titley, Chris Columbus, Rick Riordan   \n",
       "1  Craig Titley, Chris Columbus, Rick Riordan   \n",
       "\n",
       "                                                cast original_release_date  \\\n",
       "0  Logan Lerman, Brandon T. Jackson, Alexandra Da...            2010-02-12   \n",
       "1  Logan Lerman, Brandon T. Jackson, Alexandra Da...            2010-02-12   \n",
       "\n",
       "  streaming_release_date  runtime production_company  tomatometer_status  \\\n",
       "0             2015-11-25    119.0   20th Century Fox                   0   \n",
       "1             2015-11-25    119.0   20th Century Fox                   0   \n",
       "\n",
       "   tomatometer_rating  tomatometer_count  audience_status  audience_rating  \\\n",
       "0                49.0              149.0                0             53.0   \n",
       "1                49.0              149.0                0             53.0   \n",
       "\n",
       "   audience_count  critic_id  review_score  year imdb_title          country  \\\n",
       "0        254421.0       1022          0.70  2010  tt0814255  UK, Canada, USA   \n",
       "1        254421.0       7475          0.25  2010  tt0814255  UK, Canada, USA   \n",
       "\n",
       "                                         description  avg_vote     votes  \n",
       "0  A teenager discovers he's the descendant of a ...       5.9  174198.0  \n",
       "1  A teenager discovers he's the descendant of a ...       5.9  174198.0  "
      ]
     },
     "execution_count": 45,
     "metadata": {},
     "output_type": "execute_result"
    }
   ],
   "source": [
    "df = pd.read_csv('./data/df_for_eda.csv')\n",
    "df.drop(columns = 'Unnamed: 0', inplace = True)\n",
    "df.head(2)"
   ]
  },
  {
   "cell_type": "markdown",
   "id": "b9bde650-ea96-40ee-9c98-96475e96f956",
   "metadata": {},
   "source": [
    "### Exploratory Data Analysis"
   ]
  },
  {
   "cell_type": "markdown",
   "id": "0ad03222-23d5-4807-a425-4b2ba99299d4",
   "metadata": {},
   "source": [
    "Setting a copy, so there is only one movie title count. "
   ]
  },
  {
   "cell_type": "code",
   "execution_count": 46,
   "id": "bd359374-d2ed-4e39-9f94-4e3f8b535030",
   "metadata": {},
   "outputs": [],
   "source": [
    "data = df.copy()"
   ]
  },
  {
   "cell_type": "code",
   "execution_count": 47,
   "id": "32472d02-2947-4dce-9680-f22962c90b78",
   "metadata": {},
   "outputs": [],
   "source": [
    "data = data.groupby('title').head(1)"
   ]
  },
  {
   "cell_type": "markdown",
   "id": "b06df252-8d86-4cbf-81f5-d807687bc20f",
   "metadata": {},
   "source": [
    "#### Count by Content Rating"
   ]
  },
  {
   "cell_type": "code",
   "execution_count": 48,
   "id": "8854c3d3-c082-4434-b700-7937ffbcb8d7",
   "metadata": {},
   "outputs": [
    {
     "data": {
      "image/png": "[encoded data removed]",
      "text/plain": [
       "<Figure size 576x432 with 1 Axes>"
      ]
     },
     "metadata": {
      "needs_background": "light"
     },
     "output_type": "display_data"
    }
   ],
   "source": [
    "plt.figure(figsize = (8,6))\n",
    "data['content_rating'].value_counts()[0:10].plot(kind = 'barh', color = 'teal')\n",
    "plt.title('Count by Content Rating', size = 15, pad = 10)\n",
    "plt.xticks(size = 15)\n",
    "plt.xlabel('Rating', size = 15, labelpad = 10)\n",
    "plt.yticks(size = 15)\n",
    "plt.ylabel('Count', size = 15, labelpad = 10);"
   ]
  },
  {
   "cell_type": "markdown",
   "id": "3e9555aa-4768-41b0-b755-2ad51af1ff7d",
   "metadata": {},
   "source": [
    "There are over 3,000 R-rated movies. The lowest count is NC17."
   ]
  },
  {
   "cell_type": "markdown",
   "id": "6b4457b0-994c-47e2-925b-b0536c5bd908",
   "metadata": {},
   "source": [
    "#### Count by Production Company"
   ]
  },
  {
   "cell_type": "code",
   "execution_count": 49,
   "id": "5f20bf8b-6631-4ad7-af38-fbc1845275d3",
   "metadata": {},
   "outputs": [
    {
     "data": {
      "image/png": "[encoded data removed]",
      "text/plain": [
       "<Figure size 576x432 with 1 Axes>"
      ]
     },
     "metadata": {
      "needs_background": "light"
     },
     "output_type": "display_data"
    }
   ],
   "source": [
    "plt.figure(figsize = (8,6))\n",
    "data['production_company'].value_counts()[0:10].plot(kind = 'barh', color = 'teal')\n",
    "plt.title('Count by Prodution Company', size = 15, pad = 10)\n",
    "plt.xticks(size = 15)\n",
    "plt.xlabel('Production Company', size = 15, labelpad = 10)\n",
    "plt.yticks(size = 15)\n",
    "plt.ylabel('Count', size = 15, labelpad = 10);"
   ]
  },
  {
   "cell_type": "markdown",
   "id": "e7230d7e-877c-470a-a739-4322f560f111",
   "metadata": {},
   "source": [
    "Warner bros has produced the most films and Universal is trailing right behind. Warner Home has the lowest count "
   ]
  },
  {
   "cell_type": "markdown",
   "id": "e1453738-3301-4a12-b000-7d666e47c455",
   "metadata": {},
   "source": [
    "#### Count by Genre"
   ]
  },
  {
   "cell_type": "code",
   "execution_count": 50,
   "id": "67f2d318-ccbf-46f9-88f8-d3fa9b63457f",
   "metadata": {},
   "outputs": [
    {
     "data": {
      "image/png": "[encoded data removed]",
      "text/plain": [
       "<Figure size 576x432 with 1 Axes>"
      ]
     },
     "metadata": {
      "needs_background": "light"
     },
     "output_type": "display_data"
    }
   ],
   "source": [
    "plt.figure(figsize = (8,6))\n",
    "data['genre'].value_counts()[0:10].plot(kind = 'barh', color = 'teal')\n",
    "plt.title('Count by Genre', size = 15, pad = 10)\n",
    "plt.xticks(size = 15)\n",
    "plt.xlabel('Genre', size = 15, labelpad = 10)\n",
    "plt.yticks(size = 15)\n",
    "plt.ylabel('Count', size = 15, labelpad = 10);"
   ]
  },
  {
   "cell_type": "markdown",
   "id": "96d21fc0-52c9-4100-a736-7724e6a1a0c7",
   "metadata": {},
   "source": [
    "Drama has the most titles, with Comedy following. Movies classified as both Comedy and Drama have the top 3 count. "
   ]
  },
  {
   "cell_type": "code",
   "execution_count": 51,
   "id": "a74fcc72-d742-4405-b3a5-453256071a39",
   "metadata": {},
   "outputs": [],
   "source": [
    "# Looking at genre tag count: "
   ]
  },
  {
   "cell_type": "markdown",
   "id": "fe9d3566-411c-4358-98a1-64e1238f89b9",
   "metadata": {},
   "source": [
    "![image](./images/genre_tableau.png)"
   ]
  },
  {
   "cell_type": "markdown",
   "id": "360429a9-76b9-494b-ab86-f5e8caf7d4dc",
   "metadata": {},
   "source": [
    "As the company plans future productions, it’s also helpful to consider the density of the types of genres available. Drama is almost listed twice as many times as comedy alone. And a movie can have multiple genres, which is why you see such a high count here.<br>\n",
    "\\* plot made in Tableau\n"
   ]
  },
  {
   "cell_type": "markdown",
   "id": "0a1c7060-6e5e-4695-a57b-789f0f9fddb9",
   "metadata": {},
   "source": [
    "#### Count by Director"
   ]
  },
  {
   "cell_type": "code",
   "execution_count": 52,
   "id": "fca965a5-fbb5-46bc-913e-ca5627926837",
   "metadata": {},
   "outputs": [
    {
     "data": {
      "image/png": "[encoded data removed]",
      "text/plain": [
       "<Figure size 576x432 with 1 Axes>"
      ]
     },
     "metadata": {
      "needs_background": "light"
     },
     "output_type": "display_data"
    }
   ],
   "source": [
    "plt.figure(figsize = (8,6))\n",
    "data['director'].value_counts()[0:10].plot(kind = 'barh', color = 'teal')\n",
    "plt.title('Count by Director', size = 15, pad = 10)\n",
    "plt.xticks(size = 15)\n",
    "plt.xlabel('Director', size = 15, labelpad = 10)\n",
    "plt.yticks(size = 15)\n",
    "plt.ylabel('Count', size = 15, labelpad = 10);"
   ]
  },
  {
   "cell_type": "markdown",
   "id": "9398754d-c559-4b0f-9890-f2527d60a49d",
   "metadata": {},
   "source": [
    "Clint Eastwood and Steven Spielberg have have the highest count of movies in this dataset. The top 10 are all male directors. "
   ]
  },
  {
   "cell_type": "markdown",
   "id": "d1b834f0-bce4-4b01-9a69-5bcbf69ea493",
   "metadata": {},
   "source": [
    "#### Critic Publisher Count"
   ]
  },
  {
   "cell_type": "code",
   "execution_count": 53,
   "id": "47971d57-bf3b-4d74-9b54-9e1c56f79328",
   "metadata": {},
   "outputs": [
    {
     "data": {
      "image/png": "[encoded data removed]",
      "text/plain": [
       "<Figure size 576x432 with 1 Axes>"
      ]
     },
     "metadata": {
      "needs_background": "light"
     },
     "output_type": "display_data"
    }
   ],
   "source": [
    "plt.figure(figsize = (8,6))\n",
    "data['publisher'].value_counts()[0:10].plot(kind = 'barh', color = 'teal')\n",
    "plt.title('Critic Count by Publisher', size = 15, pad = 10)\n",
    "plt.xticks(size = 15)\n",
    "plt.xlabel('Publisher', size = 15, labelpad = 10)\n",
    "plt.yticks(size = 15)\n",
    "plt.ylabel('Count', size = 15, labelpad = 10);"
   ]
  },
  {
   "cell_type": "markdown",
   "id": "7b236ae7-bb6c-4e89-a16c-fbff9f3b26b6",
   "metadata": {},
   "source": [
    "There are more critic reviews from Slant Magazine than other publishers in this dataset. Chicago Sun-Times is trailing slightly behind. "
   ]
  },
  {
   "cell_type": "markdown",
   "id": "2cafcaca-03cc-4131-a25c-91d614359c8d",
   "metadata": {},
   "source": [
    "#### Summary Statistics"
   ]
  },
  {
   "cell_type": "code",
   "execution_count": 54,
   "id": "346f5d85-84cc-4d57-a6ae-1056e8d13c27",
   "metadata": {},
   "outputs": [
    {
     "data": {
      "text/html": [
       "<div>\n",
       "<style scoped>\n",
       "    .dataframe tbody tr th:only-of-type {\n",
       "        vertical-align: middle;\n",
       "    }\n",
       "\n",
       "    .dataframe tbody tr th {\n",
       "        vertical-align: top;\n",
       "    }\n",
       "\n",
       "    .dataframe thead th {\n",
       "        text-align: right;\n",
       "    }\n",
       "</style>\n",
       "<table border=\"1\" class=\"dataframe\">\n",
       "  <thead>\n",
       "    <tr style=\"text-align: right;\">\n",
       "      <th></th>\n",
       "      <th>review_type</th>\n",
       "      <th>runtime</th>\n",
       "      <th>tomatometer_status</th>\n",
       "      <th>tomatometer_rating</th>\n",
       "      <th>tomatometer_count</th>\n",
       "      <th>audience_status</th>\n",
       "      <th>audience_rating</th>\n",
       "      <th>audience_count</th>\n",
       "      <th>critic_id</th>\n",
       "      <th>review_score</th>\n",
       "      <th>year</th>\n",
       "      <th>avg_vote</th>\n",
       "      <th>votes</th>\n",
       "    </tr>\n",
       "  </thead>\n",
       "  <tbody>\n",
       "    <tr>\n",
       "      <th>count</th>\n",
       "      <td>6587.000000</td>\n",
       "      <td>6587.000000</td>\n",
       "      <td>6587.000000</td>\n",
       "      <td>6587.000000</td>\n",
       "      <td>6587.000000</td>\n",
       "      <td>6587.000000</td>\n",
       "      <td>6587.000000</td>\n",
       "      <td>6.587000e+03</td>\n",
       "      <td>6587.000000</td>\n",
       "      <td>6587.000000</td>\n",
       "      <td>6587.000000</td>\n",
       "      <td>6587.000000</td>\n",
       "      <td>6.587000e+03</td>\n",
       "    </tr>\n",
       "    <tr>\n",
       "      <th>mean</th>\n",
       "      <td>0.622742</td>\n",
       "      <td>106.120419</td>\n",
       "      <td>0.537422</td>\n",
       "      <td>58.873083</td>\n",
       "      <td>101.862760</td>\n",
       "      <td>0.548201</td>\n",
       "      <td>61.088811</td>\n",
       "      <td>3.271333e+05</td>\n",
       "      <td>5234.201002</td>\n",
       "      <td>0.631473</td>\n",
       "      <td>2001.731593</td>\n",
       "      <td>6.393366</td>\n",
       "      <td>7.759092e+04</td>\n",
       "    </tr>\n",
       "    <tr>\n",
       "      <th>std</th>\n",
       "      <td>0.484737</td>\n",
       "      <td>17.935150</td>\n",
       "      <td>0.498635</td>\n",
       "      <td>27.586360</td>\n",
       "      <td>75.442424</td>\n",
       "      <td>0.497709</td>\n",
       "      <td>19.553912</td>\n",
       "      <td>2.678582e+06</td>\n",
       "      <td>2785.784852</td>\n",
       "      <td>0.226358</td>\n",
       "      <td>16.158480</td>\n",
       "      <td>0.996378</td>\n",
       "      <td>1.541437e+05</td>\n",
       "    </tr>\n",
       "    <tr>\n",
       "      <th>min</th>\n",
       "      <td>0.000000</td>\n",
       "      <td>22.000000</td>\n",
       "      <td>0.000000</td>\n",
       "      <td>0.000000</td>\n",
       "      <td>5.000000</td>\n",
       "      <td>0.000000</td>\n",
       "      <td>9.000000</td>\n",
       "      <td>6.000000e+00</td>\n",
       "      <td>1.000000</td>\n",
       "      <td>0.000000</td>\n",
       "      <td>1915.000000</td>\n",
       "      <td>1.900000</td>\n",
       "      <td>1.000000e+02</td>\n",
       "    </tr>\n",
       "    <tr>\n",
       "      <th>25%</th>\n",
       "      <td>0.000000</td>\n",
       "      <td>94.000000</td>\n",
       "      <td>0.000000</td>\n",
       "      <td>36.500000</td>\n",
       "      <td>43.000000</td>\n",
       "      <td>0.000000</td>\n",
       "      <td>46.000000</td>\n",
       "      <td>6.454500e+03</td>\n",
       "      <td>2873.000000</td>\n",
       "      <td>0.500000</td>\n",
       "      <td>1997.000000</td>\n",
       "      <td>5.800000</td>\n",
       "      <td>6.254000e+03</td>\n",
       "    </tr>\n",
       "    <tr>\n",
       "      <th>50%</th>\n",
       "      <td>1.000000</td>\n",
       "      <td>103.000000</td>\n",
       "      <td>1.000000</td>\n",
       "      <td>63.000000</td>\n",
       "      <td>79.000000</td>\n",
       "      <td>1.000000</td>\n",
       "      <td>63.000000</td>\n",
       "      <td>2.723300e+04</td>\n",
       "      <td>5023.000000</td>\n",
       "      <td>0.650000</td>\n",
       "      <td>2006.000000</td>\n",
       "      <td>6.500000</td>\n",
       "      <td>2.435700e+04</td>\n",
       "    </tr>\n",
       "    <tr>\n",
       "      <th>75%</th>\n",
       "      <td>1.000000</td>\n",
       "      <td>115.000000</td>\n",
       "      <td>1.000000</td>\n",
       "      <td>83.000000</td>\n",
       "      <td>143.000000</td>\n",
       "      <td>1.000000</td>\n",
       "      <td>77.000000</td>\n",
       "      <td>1.009880e+05</td>\n",
       "      <td>7933.000000</td>\n",
       "      <td>0.800000</td>\n",
       "      <td>2013.000000</td>\n",
       "      <td>7.100000</td>\n",
       "      <td>8.181200e+04</td>\n",
       "    </tr>\n",
       "    <tr>\n",
       "      <th>max</th>\n",
       "      <td>1.000000</td>\n",
       "      <td>254.000000</td>\n",
       "      <td>1.000000</td>\n",
       "      <td>100.000000</td>\n",
       "      <td>535.000000</td>\n",
       "      <td>1.000000</td>\n",
       "      <td>99.000000</td>\n",
       "      <td>3.579764e+07</td>\n",
       "      <td>10098.000000</td>\n",
       "      <td>1.000000</td>\n",
       "      <td>2020.000000</td>\n",
       "      <td>9.300000</td>\n",
       "      <td>2.278845e+06</td>\n",
       "    </tr>\n",
       "  </tbody>\n",
       "</table>\n",
       "</div>"
      ],
      "text/plain": [
       "       review_type      runtime  tomatometer_status  tomatometer_rating  \\\n",
       "count  6587.000000  6587.000000         6587.000000         6587.000000   \n",
       "mean      0.622742   106.120419            0.537422           58.873083   \n",
       "std       0.484737    17.935150            0.498635           27.586360   \n",
       "min       0.000000    22.000000            0.000000            0.000000   \n",
       "25%       0.000000    94.000000            0.000000           36.500000   \n",
       "50%       1.000000   103.000000            1.000000           63.000000   \n",
       "75%       1.000000   115.000000            1.000000           83.000000   \n",
       "max       1.000000   254.000000            1.000000          100.000000   \n",
       "\n",
       "       tomatometer_count  audience_status  audience_rating  audience_count  \\\n",
       "count        6587.000000      6587.000000      6587.000000    6.587000e+03   \n",
       "mean          101.862760         0.548201        61.088811    3.271333e+05   \n",
       "std            75.442424         0.497709        19.553912    2.678582e+06   \n",
       "min             5.000000         0.000000         9.000000    6.000000e+00   \n",
       "25%            43.000000         0.000000        46.000000    6.454500e+03   \n",
       "50%            79.000000         1.000000        63.000000    2.723300e+04   \n",
       "75%           143.000000         1.000000        77.000000    1.009880e+05   \n",
       "max           535.000000         1.000000        99.000000    3.579764e+07   \n",
       "\n",
       "          critic_id  review_score         year     avg_vote         votes  \n",
       "count   6587.000000   6587.000000  6587.000000  6587.000000  6.587000e+03  \n",
       "mean    5234.201002      0.631473  2001.731593     6.393366  7.759092e+04  \n",
       "std     2785.784852      0.226358    16.158480     0.996378  1.541437e+05  \n",
       "min        1.000000      0.000000  1915.000000     1.900000  1.000000e+02  \n",
       "25%     2873.000000      0.500000  1997.000000     5.800000  6.254000e+03  \n",
       "50%     5023.000000      0.650000  2006.000000     6.500000  2.435700e+04  \n",
       "75%     7933.000000      0.800000  2013.000000     7.100000  8.181200e+04  \n",
       "max    10098.000000      1.000000  2020.000000     9.300000  2.278845e+06  "
      ]
     },
     "execution_count": 54,
     "metadata": {},
     "output_type": "execute_result"
    }
   ],
   "source": [
    "data.describe()"
   ]
  },
  {
   "cell_type": "markdown",
   "id": "74bc91e7-691a-4cec-8bd3-d92820f8a1f4",
   "metadata": {},
   "source": [
    "**Summary**\n",
    "- There are no outliers in the tomatometer_status, audience_status, or review type, as these are all either 0 or 1. \n",
    "- There are no outliers in the tomatometer_rating, audience_rating, review_score, or avg_vote. These features are within their range of values of either 0-10 or 0-100.\n",
    "- The average tomatometer rating and audience rating are considered \"Rotten\" as they are below 60%. \n",
    "- The average review score is a couple of points higher, indicating that the average score is \"Fresh\"\n",
    "- The average IMDb score is 6.39. \n",
    "- The longest runtime is 254 (assuming minutes), which seems bit long, but quite possible. Investigating below. \n",
    "- Movie release goes up to 2020. The earliest release is from 1915."
   ]
  },
  {
   "cell_type": "code",
   "execution_count": 55,
   "id": "ab998559-b60c-46fc-8fc2-4812e67f089f",
   "metadata": {},
   "outputs": [
    {
     "data": {
      "text/html": [
       "<div>\n",
       "<style scoped>\n",
       "    .dataframe tbody tr th:only-of-type {\n",
       "        vertical-align: middle;\n",
       "    }\n",
       "\n",
       "    .dataframe tbody tr th {\n",
       "        vertical-align: top;\n",
       "    }\n",
       "\n",
       "    .dataframe thead th {\n",
       "        text-align: right;\n",
       "    }\n",
       "</style>\n",
       "<table border=\"1\" class=\"dataframe\">\n",
       "  <thead>\n",
       "    <tr style=\"text-align: right;\">\n",
       "      <th></th>\n",
       "      <th>rt_id</th>\n",
       "      <th>critic_name</th>\n",
       "      <th>publisher</th>\n",
       "      <th>review_type</th>\n",
       "      <th>review_date</th>\n",
       "      <th>review_content</th>\n",
       "      <th>title</th>\n",
       "      <th>plot</th>\n",
       "      <th>critics_consensus</th>\n",
       "      <th>content_rating</th>\n",
       "      <th>genre</th>\n",
       "      <th>director</th>\n",
       "      <th>writer</th>\n",
       "      <th>cast</th>\n",
       "      <th>original_release_date</th>\n",
       "      <th>streaming_release_date</th>\n",
       "      <th>runtime</th>\n",
       "      <th>production_company</th>\n",
       "      <th>tomatometer_status</th>\n",
       "      <th>tomatometer_rating</th>\n",
       "      <th>tomatometer_count</th>\n",
       "      <th>audience_status</th>\n",
       "      <th>audience_rating</th>\n",
       "      <th>audience_count</th>\n",
       "      <th>critic_id</th>\n",
       "      <th>review_score</th>\n",
       "      <th>year</th>\n",
       "      <th>imdb_title</th>\n",
       "      <th>country</th>\n",
       "      <th>description</th>\n",
       "      <th>avg_vote</th>\n",
       "      <th>votes</th>\n",
       "    </tr>\n",
       "  </thead>\n",
       "  <tbody>\n",
       "    <tr>\n",
       "      <th>14730</th>\n",
       "      <td>m/1004330-cleopatra</td>\n",
       "      <td>John J. Puccio</td>\n",
       "      <td>Movie Metropolis</td>\n",
       "      <td>0</td>\n",
       "      <td>2001-03-21</td>\n",
       "      <td>...not required viewing by any means, nor is i...</td>\n",
       "      <td>Cleopatra</td>\n",
       "      <td>\"Cleopatra\" is a lengthy, sprawling, spectacul...</td>\n",
       "      <td>Cleopatra is a lush, ostentatious, endlessly e...</td>\n",
       "      <td>G</td>\n",
       "      <td>Classics, Drama</td>\n",
       "      <td>Joseph L. Mankiewicz</td>\n",
       "      <td>Joseph L. Mankiewicz, Ranald MacDougall, Sidne...</td>\n",
       "      <td>Elizabeth Taylor, Richard Burton, Rex Harrison...</td>\n",
       "      <td>1963-06-12</td>\n",
       "      <td>2012-09-18</td>\n",
       "      <td>243.0</td>\n",
       "      <td>20th Century Fox</td>\n",
       "      <td>1</td>\n",
       "      <td>62.0</td>\n",
       "      <td>39.0</td>\n",
       "      <td>1</td>\n",
       "      <td>69.0</td>\n",
       "      <td>20541.0</td>\n",
       "      <td>4900</td>\n",
       "      <td>0.50</td>\n",
       "      <td>1963</td>\n",
       "      <td>tt0002101</td>\n",
       "      <td>USA</td>\n",
       "      <td>The fabled queen of Egypt's affair with Roman ...</td>\n",
       "      <td>5.2</td>\n",
       "      <td>446.0</td>\n",
       "    </tr>\n",
       "    <tr>\n",
       "      <th>22744</th>\n",
       "      <td>m/1046038-gettysburg</td>\n",
       "      <td>Roger Ebert</td>\n",
       "      <td>Chicago Sun-Times</td>\n",
       "      <td>1</td>\n",
       "      <td>2000-01-01</td>\n",
       "      <td>I began watching with comparative indifference...</td>\n",
       "      <td>Gettysburg</td>\n",
       "      <td>This war drama depicts one of the biggest even...</td>\n",
       "      <td>Gettysburg's reverent approach to history is b...</td>\n",
       "      <td>PG</td>\n",
       "      <td>Classics, Drama</td>\n",
       "      <td>Ronald F. Maxwell</td>\n",
       "      <td>Ronald F. Maxwell</td>\n",
       "      <td>Tom Berenger, Martin Sheen, Jeff Daniels, Rich...</td>\n",
       "      <td>1993-10-08</td>\n",
       "      <td>2009-01-01</td>\n",
       "      <td>254.0</td>\n",
       "      <td>Turner Home Entertainment</td>\n",
       "      <td>1</td>\n",
       "      <td>77.0</td>\n",
       "      <td>22.0</td>\n",
       "      <td>1</td>\n",
       "      <td>89.0</td>\n",
       "      <td>29365.0</td>\n",
       "      <td>8451</td>\n",
       "      <td>0.75</td>\n",
       "      <td>1993</td>\n",
       "      <td>tt0107007</td>\n",
       "      <td>USA</td>\n",
       "      <td>In 1863, the Northern and Southern forces figh...</td>\n",
       "      <td>7.6</td>\n",
       "      <td>25671.0</td>\n",
       "    </tr>\n",
       "  </tbody>\n",
       "</table>\n",
       "</div>"
      ],
      "text/plain": [
       "                      rt_id     critic_name          publisher  review_type  \\\n",
       "14730   m/1004330-cleopatra  John J. Puccio   Movie Metropolis            0   \n",
       "22744  m/1046038-gettysburg     Roger Ebert  Chicago Sun-Times            1   \n",
       "\n",
       "      review_date                                     review_content  \\\n",
       "14730  2001-03-21  ...not required viewing by any means, nor is i...   \n",
       "22744  2000-01-01  I began watching with comparative indifference...   \n",
       "\n",
       "            title                                               plot  \\\n",
       "14730   Cleopatra  \"Cleopatra\" is a lengthy, sprawling, spectacul...   \n",
       "22744  Gettysburg  This war drama depicts one of the biggest even...   \n",
       "\n",
       "                                       critics_consensus content_rating  \\\n",
       "14730  Cleopatra is a lush, ostentatious, endlessly e...              G   \n",
       "22744  Gettysburg's reverent approach to history is b...             PG   \n",
       "\n",
       "                 genre              director  \\\n",
       "14730  Classics, Drama  Joseph L. Mankiewicz   \n",
       "22744  Classics, Drama     Ronald F. Maxwell   \n",
       "\n",
       "                                                  writer  \\\n",
       "14730  Joseph L. Mankiewicz, Ranald MacDougall, Sidne...   \n",
       "22744                                  Ronald F. Maxwell   \n",
       "\n",
       "                                                    cast  \\\n",
       "14730  Elizabeth Taylor, Richard Burton, Rex Harrison...   \n",
       "22744  Tom Berenger, Martin Sheen, Jeff Daniels, Rich...   \n",
       "\n",
       "      original_release_date streaming_release_date  runtime  \\\n",
       "14730            1963-06-12             2012-09-18    243.0   \n",
       "22744            1993-10-08             2009-01-01    254.0   \n",
       "\n",
       "              production_company  tomatometer_status  tomatometer_rating  \\\n",
       "14730           20th Century Fox                   1                62.0   \n",
       "22744  Turner Home Entertainment                   1                77.0   \n",
       "\n",
       "       tomatometer_count  audience_status  audience_rating  audience_count  \\\n",
       "14730               39.0                1             69.0         20541.0   \n",
       "22744               22.0                1             89.0         29365.0   \n",
       "\n",
       "       critic_id  review_score  year imdb_title country  \\\n",
       "14730       4900          0.50  1963  tt0002101     USA   \n",
       "22744       8451          0.75  1993  tt0107007     USA   \n",
       "\n",
       "                                             description  avg_vote    votes  \n",
       "14730  The fabled queen of Egypt's affair with Roman ...       5.2    446.0  \n",
       "22744  In 1863, the Northern and Southern forces figh...       7.6  25671.0  "
      ]
     },
     "execution_count": 55,
     "metadata": {},
     "output_type": "execute_result"
    }
   ],
   "source": [
    "# Investigating movies with a runtime of 230 minutes or longer\n",
    "data[data['runtime'] > 230].drop_duplicates(subset = 'title', keep = 'first')"
   ]
  },
  {
   "cell_type": "markdown",
   "id": "35d056e7-362e-46eb-9717-b8b3e8710db6",
   "metadata": {},
   "source": [
    "Cleopatra and Hamlet are correct, as they are over 4 hours long. \n",
    "Gettysburg is incorrect. It's 2 hours and 54 minutes. Looks like an entry error. Updating now."
   ]
  },
  {
   "cell_type": "code",
   "execution_count": 56,
   "id": "d82b5328-a262-4689-a74d-02087f41dd7d",
   "metadata": {},
   "outputs": [],
   "source": [
    "data.at[22744,'runtime'] = 174"
   ]
  },
  {
   "cell_type": "code",
   "execution_count": 57,
   "id": "b4e01b14-090e-4680-9ccc-880b920eaf6f",
   "metadata": {},
   "outputs": [
    {
     "data": {
      "text/plain": [
       "174.0"
      ]
     },
     "execution_count": 57,
     "metadata": {},
     "output_type": "execute_result"
    }
   ],
   "source": [
    "data.loc[22744]['runtime']"
   ]
  },
  {
   "cell_type": "markdown",
   "id": "86a7bcf4-9009-40d9-b7dc-67710339d958",
   "metadata": {},
   "source": [
    "#### Numeric Disribution"
   ]
  },
  {
   "cell_type": "code",
   "execution_count": 58,
   "id": "7a1a81a5-3252-4c4c-8234-e602164ac4db",
   "metadata": {},
   "outputs": [
    {
     "data": {
      "image/png": "[encoded data removed]",
      "text/plain": [
       "<Figure size 1440x1080 with 16 Axes>"
      ]
     },
     "metadata": {
      "needs_background": "light"
     },
     "output_type": "display_data"
    }
   ],
   "source": [
    "data.hist(figsize = (20,15), grid = False, color = 'teal');\n",
    "plt.tight_layout();"
   ]
  },
  {
   "cell_type": "markdown",
   "id": "1b33f24c-133a-46ac-b2fe-98a636438286",
   "metadata": {},
   "source": [
    "No real surprises here. Audience Rating, Tomatometer Rating, and Avg Vote all are left-skewed, indicating that there are more higher reviews than negative reviews. The review score fluctuates more, maybe because this is based on individuals and not an average score. "
   ]
  },
  {
   "cell_type": "markdown",
   "id": "9517bebd-2424-4397-a82f-26ffa5c6bcd3",
   "metadata": {},
   "source": [
    "#### Correlations"
   ]
  },
  {
   "cell_type": "code",
   "execution_count": 59,
   "id": "72737c85-e08e-42c6-88ab-f7b921e2ba58",
   "metadata": {},
   "outputs": [
    {
     "data": {
      "image/png": "[encoded data removed]",
      "text/plain": [
       "<Figure size 864x504 with 2 Axes>"
      ]
     },
     "metadata": {
      "needs_background": "light"
     },
     "output_type": "display_data"
    }
   ],
   "source": [
    "tomatometer_corr = data.corr()[['tomatometer_rating']]\n",
    "\n",
    "plt.figure(figsize = (12,7))\n",
    "sns.heatmap(data = (tomatometer_corr.sort_values(by = 'tomatometer_rating', ascending = False)),\n",
    "           annot = True,\n",
    "           linewidths=0.1,\n",
    "           yticklabels= True,\n",
    "           xticklabels= True,\n",
    "           cmap = 'mako',\n",
    "           vmin=-1,\n",
    "           vmax=1)\n",
    "plt.yticks(rotation = 0);"
   ]
  },
  {
   "cell_type": "code",
   "execution_count": 60,
   "id": "619776c1-367d-47fd-999e-906ae285bc74",
   "metadata": {},
   "outputs": [
    {
     "data": {
      "image/png": "[encoded data removed]",
      "text/plain": [
       "<Figure size 864x504 with 2 Axes>"
      ]
     },
     "metadata": {
      "needs_background": "light"
     },
     "output_type": "display_data"
    }
   ],
   "source": [
    "review_corr = data.corr()[['review_score']]\n",
    "\n",
    "plt.figure(figsize = (12,7))\n",
    "sns.heatmap(data = (review_corr.sort_values(by = 'review_score', ascending = False)),\n",
    "           annot = True,\n",
    "           linewidths=0.1,\n",
    "           yticklabels= True,\n",
    "           xticklabels= True,\n",
    "           cmap = 'mako',\n",
    "           vmin=-1,\n",
    "           vmax=1)\n",
    "plt.yticks(rotation = 0);"
   ]
  },
  {
   "cell_type": "code",
   "execution_count": 61,
   "id": "e6259c9f-bc31-4e28-8d91-84617240f4e7",
   "metadata": {},
   "outputs": [
    {
     "data": {
      "image/png": "[encoded data removed]",
      "text/plain": [
       "<Figure size 864x504 with 2 Axes>"
      ]
     },
     "metadata": {
      "needs_background": "light"
     },
     "output_type": "display_data"
    }
   ],
   "source": [
    "audience_corr = data.corr()[['audience_status']]\n",
    "\n",
    "plt.figure(figsize = (12,7))\n",
    "sns.heatmap(data = (audience_corr.sort_values(by = 'audience_status', ascending = False)),\n",
    "           annot = True,\n",
    "           linewidths=0.1,\n",
    "           yticklabels= True,\n",
    "           xticklabels= True,\n",
    "           cmap = 'mako',\n",
    "           vmin=-1,\n",
    "           vmax=1)\n",
    "plt.yticks(rotation = 0);"
   ]
  },
  {
   "cell_type": "markdown",
   "id": "03bc6013-0164-442d-bbfe-0616bc35ba74",
   "metadata": {},
   "source": [
    "The top correlated features Tomatometer Status & Rating, Review Type & Score, Audience Status & Rating are dependent on each other, so it makes sense those are the top two in each correlation matrix. It is interesting to see that runtime has some correlation with scores. "
   ]
  },
  {
   "cell_type": "markdown",
   "id": "ea30fb7a-3d23-4266-aa72-507f7f45da37",
   "metadata": {},
   "source": [
    "#### Original Release Date and Streaming Release Date"
   ]
  },
  {
   "cell_type": "code",
   "execution_count": 62,
   "id": "16ae70a6-0961-44eb-8ac4-dec2fef58610",
   "metadata": {
    "tags": []
   },
   "outputs": [],
   "source": [
    "# Creating new subsets for original release and stream release\n",
    "og_release_date = data.set_index('original_release_date')\n",
    "stream_release_date = data.set_index('streaming_release_date')\n",
    "# Converting to datetime datatype\n",
    "og_release_date.index = pd.to_datetime(og_release_date.index)\n",
    "stream_release_date.index = pd.to_datetime(stream_release_date.index)\n",
    "# Sorting index by date\n",
    "og_release_date.sort_index(inplace=True)\n",
    "stream_release_date.sort_index(inplace=True)"
   ]
  },
  {
   "cell_type": "code",
   "execution_count": 63,
   "id": "19231aab-1770-4379-a221-334365b90897",
   "metadata": {},
   "outputs": [
    {
     "data": {
      "text/plain": [
       "TimedeltaIndex(['20028 days', '17877 days', '17077 days', '16923 days',\n",
       "                '16725 days', '16260 days', '15671 days', '15635 days',\n",
       "                '15483 days', '15441 days'],\n",
       "               dtype='timedelta64[ns]', freq=None)"
      ]
     },
     "execution_count": 63,
     "metadata": {},
     "output_type": "execute_result"
    }
   ],
   "source": [
    "# Finding time difference\n",
    "time_diff = stream_release_date.index - og_release_date.index\n",
    "time_diff[:10]"
   ]
  },
  {
   "cell_type": "code",
   "execution_count": 64,
   "id": "6e78a412-9117-4106-804f-5a6f4b8483f9",
   "metadata": {},
   "outputs": [
    {
     "data": {
      "image/png": "[encoded data removed]",
      "text/plain": [
       "<Figure size 432x288 with 1 Axes>"
      ]
     },
     "metadata": {
      "needs_background": "light"
     },
     "output_type": "display_data"
    }
   ],
   "source": [
    "time_diff = pd.DataFrame(time_diff)\n",
    "\n",
    "time_diff.astype('timedelta64[M]').plot.hist();"
   ]
  },
  {
   "cell_type": "markdown",
   "id": "4d0f71e7-526c-4786-9150-c13fafe04662",
   "metadata": {},
   "source": [
    "The time difference between original release and streaming release by month indicates that most movies were released within the first 50 months of their original movie release date. "
   ]
  },
  {
   "cell_type": "code",
   "execution_count": 65,
   "id": "f8c5bf58-d9cc-44f7-8e5f-7a0047c50324",
   "metadata": {},
   "outputs": [
    {
     "data": {
      "text/plain": [
       "<AxesSubplot:ylabel='Frequency'>"
      ]
     },
     "execution_count": 65,
     "metadata": {},
     "output_type": "execute_result"
    },
    {
     "data": {
      "image/png": "[encoded data removed]",
      "text/plain": [
       "<Figure size 432x288 with 1 Axes>"
      ]
     },
     "metadata": {
      "needs_background": "light"
     },
     "output_type": "display_data"
    }
   ],
   "source": [
    "time_diff.astype('timedelta64[Y]').plot.hist(bins = 10)"
   ]
  },
  {
   "cell_type": "markdown",
   "id": "b627aec4-d56f-429f-8eab-a889255b8f7e",
   "metadata": {},
   "source": [
    "And most movies were released on a streaming service within the first 5-6 years of the original release date"
   ]
  },
  {
   "cell_type": "code",
   "execution_count": 86,
   "id": "1582253d-6a97-42b8-b224-43d4a0c9a035",
   "metadata": {},
   "outputs": [
    {
     "data": {
      "image/png": "[encoded data removed]",
      "text/plain": [
       "<Figure size 432x288 with 1 Axes>"
      ]
     },
     "metadata": {
      "needs_background": "light"
     },
     "output_type": "display_data"
    }
   ],
   "source": [
    "# Checking movie release date counts\n",
    "count_og_release = og_release_date.groupby('title').head(1)\n",
    "count_og_release.groupby('original_release_date')['title'].count().plot();"
   ]
  },
  {
   "cell_type": "markdown",
   "id": "663a3d1d-9435-449b-9933-1ef90603b322",
   "metadata": {},
   "source": [
    "There was a spike in the number of movies being released in 1970, however all titles only have one count. There may be an issue with the date data. Would require further investigation, but moving on for now.  "
   ]
  },
  {
   "cell_type": "code",
   "execution_count": 85,
   "id": "061028d2-8ed7-45bc-b5ab-463fc48d8bf7",
   "metadata": {},
   "outputs": [
    {
     "data": {
      "text/plain": [
       "1970-01-01    138\n",
       "2017-04-07     11\n",
       "2005-09-30     11\n",
       "2015-01-23     11\n",
       "2017-10-20     10\n",
       "             ... \n",
       "1944-09-06      1\n",
       "1994-11-04      1\n",
       "2003-01-18      1\n",
       "1991-03-01      1\n",
       "1964-06-17      1\n",
       "Name: original_release_date, Length: 2888, dtype: int64"
      ]
     },
     "execution_count": 85,
     "metadata": {},
     "output_type": "execute_result"
    }
   ],
   "source": [
    "data['original_release_date'].value_counts()"
   ]
  },
  {
   "cell_type": "code",
   "execution_count": 90,
   "id": "ebf547be-8e1c-4d5c-85ea-4a88d8f89001",
   "metadata": {},
   "outputs": [
    {
     "data": {
      "image/png": "[encoded data removed]",
      "text/plain": [
       "<Figure size 432x288 with 1 Axes>"
      ]
     },
     "metadata": {
      "needs_background": "light"
     },
     "output_type": "display_data"
    }
   ],
   "source": [
    "# Checking movie release date counts\n",
    "count_stream_release = stream_release_date.groupby('title').head(1)\n",
    "count_stream_release.groupby('streaming_release_date')['title'].count().plot();"
   ]
  },
  {
   "cell_type": "markdown",
   "id": "1da570cd-d19b-4d27-a825-4268ab9d9556",
   "metadata": {},
   "source": [
    "The first movie to be streamed was in 1991. So anything before this date would be invalid. There is obviously an issue with the date data here, but it will not affect the overall project"
   ]
  },
  {
   "cell_type": "markdown",
   "id": "7dde3d41-8192-4e71-9dcc-c2173b1651b6",
   "metadata": {},
   "source": [
    "#### Sentiment Analysis NLP with Original DataFrame"
   ]
  },
  {
   "cell_type": "code",
   "execution_count": 91,
   "id": "1f3f27eb-930a-4a01-a363-5db100dbf438",
   "metadata": {},
   "outputs": [],
   "source": [
    "sent = SentimentIntensityAnalyzer()"
   ]
  },
  {
   "cell_type": "markdown",
   "id": "e10904f3-0a17-4869-8be9-4b2481155d93",
   "metadata": {},
   "source": [
    "Sentiment Analyzer of Rotten Tomatoes' Movie Plots"
   ]
  },
  {
   "cell_type": "code",
   "execution_count": 92,
   "id": "fff8f4c5-d8ce-44bc-af8d-c9d6eaf29659",
   "metadata": {},
   "outputs": [],
   "source": [
    "sents_plot = []\n",
    "for row in set(df['plot']):\n",
    "    sents_plot.append(sent.polarity_scores(row))"
   ]
  },
  {
   "cell_type": "code",
   "execution_count": 93,
   "id": "792560ee-9056-4efe-a2cd-feb525343fcb",
   "metadata": {},
   "outputs": [
    {
     "data": {
      "image/png": "[encoded data removed]",
      "text/plain": [
       "<Figure size 432x288 with 1 Axes>"
      ]
     },
     "metadata": {
      "needs_background": "light"
     },
     "output_type": "display_data"
    }
   ],
   "source": [
    "sents_plot_df = pd.DataFrame(sents_plot).mean()\n",
    "sents_plot_df.plot(kind = 'barh');"
   ]
  },
  {
   "cell_type": "markdown",
   "id": "2751eb82-2af0-4a55-8a20-0c2625818dab",
   "metadata": {},
   "source": [
    "Most of the Rotten Tomatoes' movie plots are neutral. "
   ]
  },
  {
   "cell_type": "markdown",
   "id": "3c624367-0da0-48f2-a6dd-9cd5870ce649",
   "metadata": {},
   "source": [
    "Setiment Analyzer for IMDb Movie Description "
   ]
  },
  {
   "cell_type": "code",
   "execution_count": 95,
   "id": "86f57942-41d2-46d6-aba5-6b5cdfff0fab",
   "metadata": {},
   "outputs": [],
   "source": [
    "sents_des = []\n",
    "for row in set(df['description']):\n",
    "    sents_des.append(sent.polarity_scores(row))"
   ]
  },
  {
   "cell_type": "code",
   "execution_count": 96,
   "id": "b3fdc428-72bc-43ae-90fa-f31f5a3b016b",
   "metadata": {},
   "outputs": [
    {
     "data": {
      "image/png": "[encoded data removed]",
      "text/plain": [
       "<Figure size 432x288 with 1 Axes>"
      ]
     },
     "metadata": {
      "needs_background": "light"
     },
     "output_type": "display_data"
    }
   ],
   "source": [
    "sents_des_df = pd.DataFrame(sents_des).mean()\n",
    "sents_des_df.plot(kind = 'barh');"
   ]
  },
  {
   "cell_type": "markdown",
   "id": "01af883c-5e98-4223-b695-78f7962e9b88",
   "metadata": {},
   "source": [
    "Most of the IMDb descriptions are neutral. The descriptions too have a larger negative compound score compared to the Rotten Tomatoes' plot"
   ]
  },
  {
   "cell_type": "markdown",
   "id": "a874d84c-091f-45c7-8128-692faf153adf",
   "metadata": {},
   "source": [
    "Sentiment Analyzer for reviews conent"
   ]
  },
  {
   "cell_type": "code",
   "execution_count": 97,
   "id": "47c655c5-ff9d-4b03-9bd3-804893adde94",
   "metadata": {},
   "outputs": [],
   "source": [
    "sents_review = []\n",
    "for row in set(df['review_content']):\n",
    "    sents_review.append(sent.polarity_scores(row))"
   ]
  },
  {
   "cell_type": "code",
   "execution_count": 98,
   "id": "41d55649-388e-4cbf-993f-321f1d2ca102",
   "metadata": {},
   "outputs": [
    {
     "data": {
      "image/png": "[encoded data removed]",
      "text/plain": [
       "<Figure size 432x288 with 1 Axes>"
      ]
     },
     "metadata": {
      "needs_background": "light"
     },
     "output_type": "display_data"
    }
   ],
   "source": [
    "sents_review_df = pd.DataFrame(sents_review).mean()\n",
    "sents_review_df.plot(kind = 'barh');"
   ]
  },
  {
   "cell_type": "markdown",
   "id": "c6796c61-b9dd-4278-8494-d9fb7655619c",
   "metadata": {},
   "source": [
    "Most individual Rotten Tomatoes' critic reviews are neutral "
   ]
  },
  {
   "cell_type": "code",
   "execution_count": 99,
   "id": "609194b8-5a1f-42da-8c6c-5273a40408cb",
   "metadata": {},
   "outputs": [],
   "source": [
    "# Creating sentiment columns for individual rotten tomatoes' critic reviews\n",
    "sentiment_review = []\n",
    "for index, row in df['review_content'].items():\n",
    "    text = row[0]\n",
    "    sentiment = sent.polarity_scores(row)\n",
    "    sentiment_review.append(sentiment)"
   ]
  },
  {
   "cell_type": "code",
   "execution_count": 100,
   "id": "78228eb9-d54a-4c85-b510-57e166245555",
   "metadata": {},
   "outputs": [
    {
     "data": {
      "text/html": [
       "<div>\n",
       "<style scoped>\n",
       "    .dataframe tbody tr th:only-of-type {\n",
       "        vertical-align: middle;\n",
       "    }\n",
       "\n",
       "    .dataframe tbody tr th {\n",
       "        vertical-align: top;\n",
       "    }\n",
       "\n",
       "    .dataframe thead th {\n",
       "        text-align: right;\n",
       "    }\n",
       "</style>\n",
       "<table border=\"1\" class=\"dataframe\">\n",
       "  <thead>\n",
       "    <tr style=\"text-align: right;\">\n",
       "      <th></th>\n",
       "      <th>review_negative</th>\n",
       "      <th>review_neutral</th>\n",
       "      <th>review_positive</th>\n",
       "      <th>review_compound</th>\n",
       "    </tr>\n",
       "  </thead>\n",
       "  <tbody>\n",
       "    <tr>\n",
       "      <th>0</th>\n",
       "      <td>0.080</td>\n",
       "      <td>0.727</td>\n",
       "      <td>0.193</td>\n",
       "      <td>0.7050</td>\n",
       "    </tr>\n",
       "    <tr>\n",
       "      <th>1</th>\n",
       "      <td>0.000</td>\n",
       "      <td>1.000</td>\n",
       "      <td>0.000</td>\n",
       "      <td>0.0000</td>\n",
       "    </tr>\n",
       "    <tr>\n",
       "      <th>2</th>\n",
       "      <td>0.079</td>\n",
       "      <td>0.661</td>\n",
       "      <td>0.261</td>\n",
       "      <td>0.7143</td>\n",
       "    </tr>\n",
       "    <tr>\n",
       "      <th>3</th>\n",
       "      <td>0.000</td>\n",
       "      <td>0.290</td>\n",
       "      <td>0.710</td>\n",
       "      <td>0.5994</td>\n",
       "    </tr>\n",
       "    <tr>\n",
       "      <th>4</th>\n",
       "      <td>0.080</td>\n",
       "      <td>0.769</td>\n",
       "      <td>0.151</td>\n",
       "      <td>0.3400</td>\n",
       "    </tr>\n",
       "  </tbody>\n",
       "</table>\n",
       "</div>"
      ],
      "text/plain": [
       "   review_negative  review_neutral  review_positive  review_compound\n",
       "0            0.080           0.727            0.193           0.7050\n",
       "1            0.000           1.000            0.000           0.0000\n",
       "2            0.079           0.661            0.261           0.7143\n",
       "3            0.000           0.290            0.710           0.5994\n",
       "4            0.080           0.769            0.151           0.3400"
      ]
     },
     "execution_count": 100,
     "metadata": {},
     "output_type": "execute_result"
    }
   ],
   "source": [
    "sentiment_review_df = pd.DataFrame(sentiment_review, index = df.index)\n",
    "cols_dict = {\n",
    "    'neg':'review_negative',\n",
    "    'neu':'review_neutral',\n",
    "    'pos':'review_positive',\n",
    "    'compound':'review_compound'\n",
    "}\n",
    "sentiment_review_df.rename(columns = cols_dict, inplace = True)\n",
    "sentiment_review_df.head()"
   ]
  },
  {
   "cell_type": "markdown",
   "id": "9bde53a9-745f-44f4-91ac-73cb5b3e3af6",
   "metadata": {},
   "source": [
    "Setiment Analyzer for Critics Concensus "
   ]
  },
  {
   "cell_type": "code",
   "execution_count": 101,
   "id": "392c8937-6710-4b88-a82b-ed3f44a72d92",
   "metadata": {},
   "outputs": [],
   "source": [
    "sents_consensus = []\n",
    "for row in set(df['critics_consensus']):\n",
    "    sents_consensus.append(sent.polarity_scores(row))"
   ]
  },
  {
   "cell_type": "code",
   "execution_count": 102,
   "id": "c75df381-af34-4426-ab50-ccd1dc4e3f6d",
   "metadata": {},
   "outputs": [
    {
     "data": {
      "image/png": "[encoded data removed]",
      "text/plain": [
       "<Figure size 432x288 with 1 Axes>"
      ]
     },
     "metadata": {
      "needs_background": "light"
     },
     "output_type": "display_data"
    }
   ],
   "source": [
    "sents_review_df = pd.DataFrame(sents_consensus).mean()\n",
    "sents_review_df.plot(kind = 'barh');"
   ]
  },
  {
   "cell_type": "code",
   "execution_count": 103,
   "id": "1b59502f-08e0-4e3d-9f2c-0d0ef70dd35c",
   "metadata": {},
   "outputs": [],
   "source": [
    "# Creating sentiment columns for rotten tomatoes' critics consensus reviews \n",
    "sentiment_consensus = []\n",
    "for index, row in df['critics_consensus'].items():\n",
    "    text = row[0]\n",
    "    sentiment = sent.polarity_scores(row)\n",
    "    sentiment_consensus.append(sentiment)"
   ]
  },
  {
   "cell_type": "code",
   "execution_count": 104,
   "id": "d12c7927-99f3-4afb-ab4b-a3b155dfee40",
   "metadata": {},
   "outputs": [
    {
     "data": {
      "text/html": [
       "<div>\n",
       "<style scoped>\n",
       "    .dataframe tbody tr th:only-of-type {\n",
       "        vertical-align: middle;\n",
       "    }\n",
       "\n",
       "    .dataframe tbody tr th {\n",
       "        vertical-align: top;\n",
       "    }\n",
       "\n",
       "    .dataframe thead th {\n",
       "        text-align: right;\n",
       "    }\n",
       "</style>\n",
       "<table border=\"1\" class=\"dataframe\">\n",
       "  <thead>\n",
       "    <tr style=\"text-align: right;\">\n",
       "      <th></th>\n",
       "      <th>consensus_negative</th>\n",
       "      <th>consensus_neutral</th>\n",
       "      <th>consensus_positive</th>\n",
       "      <th>consensus_compound</th>\n",
       "    </tr>\n",
       "  </thead>\n",
       "  <tbody>\n",
       "    <tr>\n",
       "      <th>0</th>\n",
       "      <td>0.0</td>\n",
       "      <td>0.59</td>\n",
       "      <td>0.41</td>\n",
       "      <td>0.9274</td>\n",
       "    </tr>\n",
       "    <tr>\n",
       "      <th>1</th>\n",
       "      <td>0.0</td>\n",
       "      <td>0.59</td>\n",
       "      <td>0.41</td>\n",
       "      <td>0.9274</td>\n",
       "    </tr>\n",
       "    <tr>\n",
       "      <th>2</th>\n",
       "      <td>0.0</td>\n",
       "      <td>0.59</td>\n",
       "      <td>0.41</td>\n",
       "      <td>0.9274</td>\n",
       "    </tr>\n",
       "    <tr>\n",
       "      <th>3</th>\n",
       "      <td>0.0</td>\n",
       "      <td>0.59</td>\n",
       "      <td>0.41</td>\n",
       "      <td>0.9274</td>\n",
       "    </tr>\n",
       "    <tr>\n",
       "      <th>4</th>\n",
       "      <td>0.0</td>\n",
       "      <td>0.59</td>\n",
       "      <td>0.41</td>\n",
       "      <td>0.9274</td>\n",
       "    </tr>\n",
       "  </tbody>\n",
       "</table>\n",
       "</div>"
      ],
      "text/plain": [
       "   consensus_negative  consensus_neutral  consensus_positive  \\\n",
       "0                 0.0               0.59                0.41   \n",
       "1                 0.0               0.59                0.41   \n",
       "2                 0.0               0.59                0.41   \n",
       "3                 0.0               0.59                0.41   \n",
       "4                 0.0               0.59                0.41   \n",
       "\n",
       "   consensus_compound  \n",
       "0              0.9274  \n",
       "1              0.9274  \n",
       "2              0.9274  \n",
       "3              0.9274  \n",
       "4              0.9274  "
      ]
     },
     "execution_count": 104,
     "metadata": {},
     "output_type": "execute_result"
    }
   ],
   "source": [
    "sentiment_consensus_df = pd.DataFrame(sentiment_consensus, index = df.index)\n",
    "cols_dict = {\n",
    "    'neg':'consensus_negative',\n",
    "    'neu':'consensus_neutral',\n",
    "    'pos':'consensus_positive',\n",
    "    'compound':'consensus_compound'\n",
    "}\n",
    "sentiment_consensus_df.rename(columns = cols_dict, inplace = True)\n",
    "sentiment_consensus_df.head()"
   ]
  },
  {
   "cell_type": "markdown",
   "id": "9df17bc9-69db-4ece-af12-3e8800f1d5b0",
   "metadata": {},
   "source": [
    "### Concat Sentiment DFs & Merge with Master Dataframe"
   ]
  },
  {
   "cell_type": "code",
   "execution_count": 105,
   "id": "df14256c-00bc-40c0-99d4-7cbe2f7bcb60",
   "metadata": {},
   "outputs": [
    {
     "data": {
      "text/plain": [
       "(612554, 32)"
      ]
     },
     "execution_count": 105,
     "metadata": {},
     "output_type": "execute_result"
    }
   ],
   "source": [
    "df.shape"
   ]
  },
  {
   "cell_type": "code",
   "execution_count": 106,
   "id": "b96b2f0b-8f4c-4369-be9b-1ce48d2e638f",
   "metadata": {},
   "outputs": [
    {
     "name": "stdout",
     "output_type": "stream",
     "text": [
      "(612554, 40)\n"
     ]
    },
    {
     "data": {
      "text/html": [
       "<div>\n",
       "<style scoped>\n",
       "    .dataframe tbody tr th:only-of-type {\n",
       "        vertical-align: middle;\n",
       "    }\n",
       "\n",
       "    .dataframe tbody tr th {\n",
       "        vertical-align: top;\n",
       "    }\n",
       "\n",
       "    .dataframe thead th {\n",
       "        text-align: right;\n",
       "    }\n",
       "</style>\n",
       "<table border=\"1\" class=\"dataframe\">\n",
       "  <thead>\n",
       "    <tr style=\"text-align: right;\">\n",
       "      <th></th>\n",
       "      <th>rt_id</th>\n",
       "      <th>critic_name</th>\n",
       "      <th>publisher</th>\n",
       "      <th>review_type</th>\n",
       "      <th>review_date</th>\n",
       "      <th>review_content</th>\n",
       "      <th>title</th>\n",
       "      <th>plot</th>\n",
       "      <th>critics_consensus</th>\n",
       "      <th>content_rating</th>\n",
       "      <th>genre</th>\n",
       "      <th>director</th>\n",
       "      <th>writer</th>\n",
       "      <th>cast</th>\n",
       "      <th>original_release_date</th>\n",
       "      <th>streaming_release_date</th>\n",
       "      <th>runtime</th>\n",
       "      <th>production_company</th>\n",
       "      <th>tomatometer_status</th>\n",
       "      <th>tomatometer_rating</th>\n",
       "      <th>tomatometer_count</th>\n",
       "      <th>audience_status</th>\n",
       "      <th>audience_rating</th>\n",
       "      <th>audience_count</th>\n",
       "      <th>critic_id</th>\n",
       "      <th>review_score</th>\n",
       "      <th>year</th>\n",
       "      <th>imdb_title</th>\n",
       "      <th>country</th>\n",
       "      <th>description</th>\n",
       "      <th>avg_vote</th>\n",
       "      <th>votes</th>\n",
       "      <th>review_negative</th>\n",
       "      <th>review_neutral</th>\n",
       "      <th>review_positive</th>\n",
       "      <th>review_compound</th>\n",
       "      <th>consensus_negative</th>\n",
       "      <th>consensus_neutral</th>\n",
       "      <th>consensus_positive</th>\n",
       "      <th>consensus_compound</th>\n",
       "    </tr>\n",
       "  </thead>\n",
       "  <tbody>\n",
       "    <tr>\n",
       "      <th>0</th>\n",
       "      <td>m/0814255</td>\n",
       "      <td>Ben McEachen</td>\n",
       "      <td>Sunday Mail (Australia)</td>\n",
       "      <td>1</td>\n",
       "      <td>2010-02-09</td>\n",
       "      <td>Whether audiences will get behind The Lightnin...</td>\n",
       "      <td>Percy Jackson &amp; the Olympians: The Lightning T...</td>\n",
       "      <td>Always trouble-prone, the life of teenager Per...</td>\n",
       "      <td>Though it may seem like just another Harry Pot...</td>\n",
       "      <td>PG</td>\n",
       "      <td>Action &amp; Adventure, Comedy, Drama, Science Fic...</td>\n",
       "      <td>Chris Columbus</td>\n",
       "      <td>Craig Titley, Chris Columbus, Rick Riordan</td>\n",
       "      <td>Logan Lerman, Brandon T. Jackson, Alexandra Da...</td>\n",
       "      <td>2010-02-12</td>\n",
       "      <td>2015-11-25</td>\n",
       "      <td>119.0</td>\n",
       "      <td>20th Century Fox</td>\n",
       "      <td>0</td>\n",
       "      <td>49.0</td>\n",
       "      <td>149.0</td>\n",
       "      <td>0</td>\n",
       "      <td>53.0</td>\n",
       "      <td>254421.0</td>\n",
       "      <td>1022</td>\n",
       "      <td>0.70</td>\n",
       "      <td>2010</td>\n",
       "      <td>tt0814255</td>\n",
       "      <td>UK, Canada, USA</td>\n",
       "      <td>A teenager discovers he's the descendant of a ...</td>\n",
       "      <td>5.9</td>\n",
       "      <td>174198.0</td>\n",
       "      <td>0.08</td>\n",
       "      <td>0.727</td>\n",
       "      <td>0.193</td>\n",
       "      <td>0.705</td>\n",
       "      <td>0.0</td>\n",
       "      <td>0.59</td>\n",
       "      <td>0.41</td>\n",
       "      <td>0.9274</td>\n",
       "    </tr>\n",
       "    <tr>\n",
       "      <th>1</th>\n",
       "      <td>m/0814255</td>\n",
       "      <td>Nick Schager</td>\n",
       "      <td>Slant Magazine</td>\n",
       "      <td>0</td>\n",
       "      <td>2010-02-10</td>\n",
       "      <td>Harry Potter knockoffs don't come more transpa...</td>\n",
       "      <td>Percy Jackson &amp; the Olympians: The Lightning T...</td>\n",
       "      <td>Always trouble-prone, the life of teenager Per...</td>\n",
       "      <td>Though it may seem like just another Harry Pot...</td>\n",
       "      <td>PG</td>\n",
       "      <td>Action &amp; Adventure, Comedy, Drama, Science Fic...</td>\n",
       "      <td>Chris Columbus</td>\n",
       "      <td>Craig Titley, Chris Columbus, Rick Riordan</td>\n",
       "      <td>Logan Lerman, Brandon T. Jackson, Alexandra Da...</td>\n",
       "      <td>2010-02-12</td>\n",
       "      <td>2015-11-25</td>\n",
       "      <td>119.0</td>\n",
       "      <td>20th Century Fox</td>\n",
       "      <td>0</td>\n",
       "      <td>49.0</td>\n",
       "      <td>149.0</td>\n",
       "      <td>0</td>\n",
       "      <td>53.0</td>\n",
       "      <td>254421.0</td>\n",
       "      <td>7475</td>\n",
       "      <td>0.25</td>\n",
       "      <td>2010</td>\n",
       "      <td>tt0814255</td>\n",
       "      <td>UK, Canada, USA</td>\n",
       "      <td>A teenager discovers he's the descendant of a ...</td>\n",
       "      <td>5.9</td>\n",
       "      <td>174198.0</td>\n",
       "      <td>0.00</td>\n",
       "      <td>1.000</td>\n",
       "      <td>0.000</td>\n",
       "      <td>0.000</td>\n",
       "      <td>0.0</td>\n",
       "      <td>0.59</td>\n",
       "      <td>0.41</td>\n",
       "      <td>0.9274</td>\n",
       "    </tr>\n",
       "  </tbody>\n",
       "</table>\n",
       "</div>"
      ],
      "text/plain": [
       "       rt_id   critic_name                publisher  review_type review_date  \\\n",
       "0  m/0814255  Ben McEachen  Sunday Mail (Australia)            1  2010-02-09   \n",
       "1  m/0814255  Nick Schager           Slant Magazine            0  2010-02-10   \n",
       "\n",
       "                                      review_content  \\\n",
       "0  Whether audiences will get behind The Lightnin...   \n",
       "1  Harry Potter knockoffs don't come more transpa...   \n",
       "\n",
       "                                               title  \\\n",
       "0  Percy Jackson & the Olympians: The Lightning T...   \n",
       "1  Percy Jackson & the Olympians: The Lightning T...   \n",
       "\n",
       "                                                plot  \\\n",
       "0  Always trouble-prone, the life of teenager Per...   \n",
       "1  Always trouble-prone, the life of teenager Per...   \n",
       "\n",
       "                                   critics_consensus content_rating  \\\n",
       "0  Though it may seem like just another Harry Pot...             PG   \n",
       "1  Though it may seem like just another Harry Pot...             PG   \n",
       "\n",
       "                                               genre        director  \\\n",
       "0  Action & Adventure, Comedy, Drama, Science Fic...  Chris Columbus   \n",
       "1  Action & Adventure, Comedy, Drama, Science Fic...  Chris Columbus   \n",
       "\n",
       "                                       writer  \\\n",
       "0  Craig Titley, Chris Columbus, Rick Riordan   \n",
       "1  Craig Titley, Chris Columbus, Rick Riordan   \n",
       "\n",
       "                                                cast original_release_date  \\\n",
       "0  Logan Lerman, Brandon T. Jackson, Alexandra Da...            2010-02-12   \n",
       "1  Logan Lerman, Brandon T. Jackson, Alexandra Da...            2010-02-12   \n",
       "\n",
       "  streaming_release_date  runtime production_company  tomatometer_status  \\\n",
       "0             2015-11-25    119.0   20th Century Fox                   0   \n",
       "1             2015-11-25    119.0   20th Century Fox                   0   \n",
       "\n",
       "   tomatometer_rating  tomatometer_count  audience_status  audience_rating  \\\n",
       "0                49.0              149.0                0             53.0   \n",
       "1                49.0              149.0                0             53.0   \n",
       "\n",
       "   audience_count  critic_id  review_score  year imdb_title          country  \\\n",
       "0        254421.0       1022          0.70  2010  tt0814255  UK, Canada, USA   \n",
       "1        254421.0       7475          0.25  2010  tt0814255  UK, Canada, USA   \n",
       "\n",
       "                                         description  avg_vote     votes  \\\n",
       "0  A teenager discovers he's the descendant of a ...       5.9  174198.0   \n",
       "1  A teenager discovers he's the descendant of a ...       5.9  174198.0   \n",
       "\n",
       "   review_negative  review_neutral  review_positive  review_compound  \\\n",
       "0             0.08           0.727            0.193            0.705   \n",
       "1             0.00           1.000            0.000            0.000   \n",
       "\n",
       "   consensus_negative  consensus_neutral  consensus_positive  \\\n",
       "0                 0.0               0.59                0.41   \n",
       "1                 0.0               0.59                0.41   \n",
       "\n",
       "   consensus_compound  \n",
       "0              0.9274  \n",
       "1              0.9274  "
      ]
     },
     "execution_count": 106,
     "metadata": {},
     "output_type": "execute_result"
    }
   ],
   "source": [
    "df = pd.concat([df,sentiment_review_df, sentiment_consensus_df], axis = 1)\n",
    "print(df.shape)\n",
    "df.head(2)"
   ]
  },
  {
   "cell_type": "markdown",
   "id": "f83b5c7e-e948-4bbd-9f27-eff91965bfbd",
   "metadata": {},
   "source": [
    "Creating Weighted Score Column in Google Colab since Kernel Keeps Crashing"
   ]
  },
  {
   "cell_type": "code",
   "execution_count": 107,
   "id": "1caa2e19-9d6e-4b24-9188-8a9b3c7166aa",
   "metadata": {},
   "outputs": [],
   "source": [
    "df = df.reset_index()"
   ]
  },
  {
   "cell_type": "code",
   "execution_count": 108,
   "id": "a440b760-9621-487b-bbcc-7ef2dca05387",
   "metadata": {},
   "outputs": [
    {
     "data": {
      "text/html": [
       "<div>\n",
       "<style scoped>\n",
       "    .dataframe tbody tr th:only-of-type {\n",
       "        vertical-align: middle;\n",
       "    }\n",
       "\n",
       "    .dataframe tbody tr th {\n",
       "        vertical-align: top;\n",
       "    }\n",
       "\n",
       "    .dataframe thead th {\n",
       "        text-align: right;\n",
       "    }\n",
       "</style>\n",
       "<table border=\"1\" class=\"dataframe\">\n",
       "  <thead>\n",
       "    <tr style=\"text-align: right;\">\n",
       "      <th></th>\n",
       "      <th>index</th>\n",
       "      <th>rt_id</th>\n",
       "      <th>critic_name</th>\n",
       "      <th>publisher</th>\n",
       "      <th>review_type</th>\n",
       "      <th>review_date</th>\n",
       "      <th>review_content</th>\n",
       "      <th>title</th>\n",
       "      <th>plot</th>\n",
       "      <th>critics_consensus</th>\n",
       "      <th>content_rating</th>\n",
       "      <th>genre</th>\n",
       "      <th>director</th>\n",
       "      <th>writer</th>\n",
       "      <th>cast</th>\n",
       "      <th>original_release_date</th>\n",
       "      <th>streaming_release_date</th>\n",
       "      <th>runtime</th>\n",
       "      <th>production_company</th>\n",
       "      <th>tomatometer_status</th>\n",
       "      <th>tomatometer_rating</th>\n",
       "      <th>tomatometer_count</th>\n",
       "      <th>audience_status</th>\n",
       "      <th>audience_rating</th>\n",
       "      <th>audience_count</th>\n",
       "      <th>critic_id</th>\n",
       "      <th>review_score</th>\n",
       "      <th>year</th>\n",
       "      <th>imdb_title</th>\n",
       "      <th>country</th>\n",
       "      <th>description</th>\n",
       "      <th>avg_vote</th>\n",
       "      <th>votes</th>\n",
       "      <th>review_negative</th>\n",
       "      <th>review_neutral</th>\n",
       "      <th>review_positive</th>\n",
       "      <th>review_compound</th>\n",
       "      <th>consensus_negative</th>\n",
       "      <th>consensus_neutral</th>\n",
       "      <th>consensus_positive</th>\n",
       "      <th>consensus_compound</th>\n",
       "    </tr>\n",
       "  </thead>\n",
       "  <tbody>\n",
       "    <tr>\n",
       "      <th>0</th>\n",
       "      <td>0</td>\n",
       "      <td>m/0814255</td>\n",
       "      <td>Ben McEachen</td>\n",
       "      <td>Sunday Mail (Australia)</td>\n",
       "      <td>1</td>\n",
       "      <td>2010-02-09</td>\n",
       "      <td>Whether audiences will get behind The Lightnin...</td>\n",
       "      <td>Percy Jackson &amp; the Olympians: The Lightning T...</td>\n",
       "      <td>Always trouble-prone, the life of teenager Per...</td>\n",
       "      <td>Though it may seem like just another Harry Pot...</td>\n",
       "      <td>PG</td>\n",
       "      <td>Action &amp; Adventure, Comedy, Drama, Science Fic...</td>\n",
       "      <td>Chris Columbus</td>\n",
       "      <td>Craig Titley, Chris Columbus, Rick Riordan</td>\n",
       "      <td>Logan Lerman, Brandon T. Jackson, Alexandra Da...</td>\n",
       "      <td>2010-02-12</td>\n",
       "      <td>2015-11-25</td>\n",
       "      <td>119.0</td>\n",
       "      <td>20th Century Fox</td>\n",
       "      <td>0</td>\n",
       "      <td>49.0</td>\n",
       "      <td>149.0</td>\n",
       "      <td>0</td>\n",
       "      <td>53.0</td>\n",
       "      <td>254421.0</td>\n",
       "      <td>1022</td>\n",
       "      <td>0.70</td>\n",
       "      <td>2010</td>\n",
       "      <td>tt0814255</td>\n",
       "      <td>UK, Canada, USA</td>\n",
       "      <td>A teenager discovers he's the descendant of a ...</td>\n",
       "      <td>5.9</td>\n",
       "      <td>174198.0</td>\n",
       "      <td>0.08</td>\n",
       "      <td>0.727</td>\n",
       "      <td>0.193</td>\n",
       "      <td>0.705</td>\n",
       "      <td>0.0</td>\n",
       "      <td>0.59</td>\n",
       "      <td>0.41</td>\n",
       "      <td>0.9274</td>\n",
       "    </tr>\n",
       "    <tr>\n",
       "      <th>1</th>\n",
       "      <td>1</td>\n",
       "      <td>m/0814255</td>\n",
       "      <td>Nick Schager</td>\n",
       "      <td>Slant Magazine</td>\n",
       "      <td>0</td>\n",
       "      <td>2010-02-10</td>\n",
       "      <td>Harry Potter knockoffs don't come more transpa...</td>\n",
       "      <td>Percy Jackson &amp; the Olympians: The Lightning T...</td>\n",
       "      <td>Always trouble-prone, the life of teenager Per...</td>\n",
       "      <td>Though it may seem like just another Harry Pot...</td>\n",
       "      <td>PG</td>\n",
       "      <td>Action &amp; Adventure, Comedy, Drama, Science Fic...</td>\n",
       "      <td>Chris Columbus</td>\n",
       "      <td>Craig Titley, Chris Columbus, Rick Riordan</td>\n",
       "      <td>Logan Lerman, Brandon T. Jackson, Alexandra Da...</td>\n",
       "      <td>2010-02-12</td>\n",
       "      <td>2015-11-25</td>\n",
       "      <td>119.0</td>\n",
       "      <td>20th Century Fox</td>\n",
       "      <td>0</td>\n",
       "      <td>49.0</td>\n",
       "      <td>149.0</td>\n",
       "      <td>0</td>\n",
       "      <td>53.0</td>\n",
       "      <td>254421.0</td>\n",
       "      <td>7475</td>\n",
       "      <td>0.25</td>\n",
       "      <td>2010</td>\n",
       "      <td>tt0814255</td>\n",
       "      <td>UK, Canada, USA</td>\n",
       "      <td>A teenager discovers he's the descendant of a ...</td>\n",
       "      <td>5.9</td>\n",
       "      <td>174198.0</td>\n",
       "      <td>0.00</td>\n",
       "      <td>1.000</td>\n",
       "      <td>0.000</td>\n",
       "      <td>0.000</td>\n",
       "      <td>0.0</td>\n",
       "      <td>0.59</td>\n",
       "      <td>0.41</td>\n",
       "      <td>0.9274</td>\n",
       "    </tr>\n",
       "  </tbody>\n",
       "</table>\n",
       "</div>"
      ],
      "text/plain": [
       "   index      rt_id   critic_name                publisher  review_type  \\\n",
       "0      0  m/0814255  Ben McEachen  Sunday Mail (Australia)            1   \n",
       "1      1  m/0814255  Nick Schager           Slant Magazine            0   \n",
       "\n",
       "  review_date                                     review_content  \\\n",
       "0  2010-02-09  Whether audiences will get behind The Lightnin...   \n",
       "1  2010-02-10  Harry Potter knockoffs don't come more transpa...   \n",
       "\n",
       "                                               title  \\\n",
       "0  Percy Jackson & the Olympians: The Lightning T...   \n",
       "1  Percy Jackson & the Olympians: The Lightning T...   \n",
       "\n",
       "                                                plot  \\\n",
       "0  Always trouble-prone, the life of teenager Per...   \n",
       "1  Always trouble-prone, the life of teenager Per...   \n",
       "\n",
       "                                   critics_consensus content_rating  \\\n",
       "0  Though it may seem like just another Harry Pot...             PG   \n",
       "1  Though it may seem like just another Harry Pot...             PG   \n",
       "\n",
       "                                               genre        director  \\\n",
       "0  Action & Adventure, Comedy, Drama, Science Fic...  Chris Columbus   \n",
       "1  Action & Adventure, Comedy, Drama, Science Fic...  Chris Columbus   \n",
       "\n",
       "                                       writer  \\\n",
       "0  Craig Titley, Chris Columbus, Rick Riordan   \n",
       "1  Craig Titley, Chris Columbus, Rick Riordan   \n",
       "\n",
       "                                                cast original_release_date  \\\n",
       "0  Logan Lerman, Brandon T. Jackson, Alexandra Da...            2010-02-12   \n",
       "1  Logan Lerman, Brandon T. Jackson, Alexandra Da...            2010-02-12   \n",
       "\n",
       "  streaming_release_date  runtime production_company  tomatometer_status  \\\n",
       "0             2015-11-25    119.0   20th Century Fox                   0   \n",
       "1             2015-11-25    119.0   20th Century Fox                   0   \n",
       "\n",
       "   tomatometer_rating  tomatometer_count  audience_status  audience_rating  \\\n",
       "0                49.0              149.0                0             53.0   \n",
       "1                49.0              149.0                0             53.0   \n",
       "\n",
       "   audience_count  critic_id  review_score  year imdb_title          country  \\\n",
       "0        254421.0       1022          0.70  2010  tt0814255  UK, Canada, USA   \n",
       "1        254421.0       7475          0.25  2010  tt0814255  UK, Canada, USA   \n",
       "\n",
       "                                         description  avg_vote     votes  \\\n",
       "0  A teenager discovers he's the descendant of a ...       5.9  174198.0   \n",
       "1  A teenager discovers he's the descendant of a ...       5.9  174198.0   \n",
       "\n",
       "   review_negative  review_neutral  review_positive  review_compound  \\\n",
       "0             0.08           0.727            0.193            0.705   \n",
       "1             0.00           1.000            0.000            0.000   \n",
       "\n",
       "   consensus_negative  consensus_neutral  consensus_positive  \\\n",
       "0                 0.0               0.59                0.41   \n",
       "1                 0.0               0.59                0.41   \n",
       "\n",
       "   consensus_compound  \n",
       "0              0.9274  \n",
       "1              0.9274  "
      ]
     },
     "execution_count": 108,
     "metadata": {},
     "output_type": "execute_result"
    }
   ],
   "source": [
    "df.head(2)"
   ]
  },
  {
   "cell_type": "code",
   "execution_count": 109,
   "id": "e050fd37-6f88-4b37-8b4f-c22ac6b8183c",
   "metadata": {},
   "outputs": [
    {
     "data": {
      "text/plain": [
       "index                       int64\n",
       "rt_id                      object\n",
       "critic_name                object\n",
       "publisher                  object\n",
       "review_type                 int64\n",
       "review_date                object\n",
       "review_content             object\n",
       "title                      object\n",
       "plot                       object\n",
       "critics_consensus          object\n",
       "content_rating             object\n",
       "genre                      object\n",
       "director                   object\n",
       "writer                     object\n",
       "cast                       object\n",
       "original_release_date      object\n",
       "streaming_release_date     object\n",
       "runtime                   float64\n",
       "production_company         object\n",
       "tomatometer_status          int64\n",
       "tomatometer_rating        float64\n",
       "tomatometer_count         float64\n",
       "audience_status             int64\n",
       "audience_rating           float64\n",
       "audience_count            float64\n",
       "critic_id                   int64\n",
       "review_score              float64\n",
       "year                        int64\n",
       "imdb_title                 object\n",
       "country                    object\n",
       "description                object\n",
       "avg_vote                  float64\n",
       "votes                     float64\n",
       "review_negative           float64\n",
       "review_neutral            float64\n",
       "review_positive           float64\n",
       "review_compound           float64\n",
       "consensus_negative        float64\n",
       "consensus_neutral         float64\n",
       "consensus_positive        float64\n",
       "consensus_compound        float64\n",
       "dtype: object"
      ]
     },
     "execution_count": 109,
     "metadata": {},
     "output_type": "execute_result"
    }
   ],
   "source": [
    "df.dtypes"
   ]
  },
  {
   "cell_type": "markdown",
   "id": "af710bfc-4812-4fb4-af7c-3b1f8c92726d",
   "metadata": {},
   "source": [
    "#### Creating Aggregated Score Consisting of both Rotten Tomatoes and IMDb Ratings"
   ]
  },
  {
   "cell_type": "code",
   "execution_count": 110,
   "id": "9f8ff142-fd82-43ae-8d81-32723898debc",
   "metadata": {},
   "outputs": [],
   "source": [
    "# Getting rating values on same scale\n",
    "df['avg_vote'] = df['avg_vote'] * 10\n",
    "\n",
    "df['review_score'] = df['review_score'] * 100"
   ]
  },
  {
   "cell_type": "code",
   "execution_count": 111,
   "id": "c1ad0dd2-fdbf-47ca-bd05-611fd59e2d31",
   "metadata": {},
   "outputs": [
    {
     "data": {
      "text/plain": [
       "0          70.0\n",
       "1          25.0\n",
       "2          70.0\n",
       "3          75.0\n",
       "4          60.0\n",
       "          ...  \n",
       "612549     75.0\n",
       "612550     83.0\n",
       "612551     83.0\n",
       "612552    100.0\n",
       "612553    100.0\n",
       "Name: review_score, Length: 612554, dtype: float64"
      ]
     },
     "execution_count": 111,
     "metadata": {},
     "output_type": "execute_result"
    }
   ],
   "source": [
    "df['review_score']"
   ]
  },
  {
   "cell_type": "code",
   "execution_count": 112,
   "id": "dd1a11e2-21fa-431d-9ca8-fb9a70ee9e47",
   "metadata": {},
   "outputs": [],
   "source": [
    "# Getting averages\n",
    "df['score'] = (df['tomatometer_rating'] + df['audience_rating'] + df['review_score'] + df['avg_vote']) / 4"
   ]
  },
  {
   "cell_type": "code",
   "execution_count": 113,
   "id": "07376d33-62fc-4bdd-ab47-38cd711db29a",
   "metadata": {},
   "outputs": [
    {
     "data": {
      "text/plain": [
       "0         57.75\n",
       "1         46.50\n",
       "2         57.75\n",
       "3         59.00\n",
       "4         55.25\n",
       "          ...  \n",
       "612549    82.25\n",
       "612550    86.75\n",
       "612551    84.25\n",
       "612552    91.00\n",
       "612553    88.50\n",
       "Name: score, Length: 612554, dtype: float64"
      ]
     },
     "execution_count": 113,
     "metadata": {},
     "output_type": "execute_result"
    }
   ],
   "source": [
    "df['score']"
   ]
  },
  {
   "cell_type": "code",
   "execution_count": 114,
   "id": "b236baa8-e428-47b8-9e9b-3b5f8d596990",
   "metadata": {},
   "outputs": [],
   "source": [
    "# Getting weighted by title\n",
    "weighted = df.groupby('title')['score'].mean()\n",
    "weighted = pd.DataFrame(weighted)\n",
    "weighted = weighted.reset_index()"
   ]
  },
  {
   "cell_type": "code",
   "execution_count": 115,
   "id": "365f77da-ef26-49c5-ae8d-860c79c252f5",
   "metadata": {},
   "outputs": [
    {
     "data": {
      "text/plain": [
       "title    0\n",
       "score    0\n",
       "dtype: int64"
      ]
     },
     "execution_count": 115,
     "metadata": {},
     "output_type": "execute_result"
    }
   ],
   "source": [
    "weighted.isnull().sum()"
   ]
  },
  {
   "cell_type": "code",
   "execution_count": 116,
   "id": "3be8902b-1964-4cde-b710-18ff0dd38828",
   "metadata": {},
   "outputs": [
    {
     "data": {
      "text/plain": [
       "(612554, 42)"
      ]
     },
     "execution_count": 116,
     "metadata": {},
     "output_type": "execute_result"
    }
   ],
   "source": [
    "df.shape"
   ]
  },
  {
   "cell_type": "code",
   "execution_count": 117,
   "id": "68c26ac9-be6b-454d-b69b-330b5df2e9b1",
   "metadata": {},
   "outputs": [
    {
     "data": {
      "text/html": [
       "<div>\n",
       "<style scoped>\n",
       "    .dataframe tbody tr th:only-of-type {\n",
       "        vertical-align: middle;\n",
       "    }\n",
       "\n",
       "    .dataframe tbody tr th {\n",
       "        vertical-align: top;\n",
       "    }\n",
       "\n",
       "    .dataframe thead th {\n",
       "        text-align: right;\n",
       "    }\n",
       "</style>\n",
       "<table border=\"1\" class=\"dataframe\">\n",
       "  <thead>\n",
       "    <tr style=\"text-align: right;\">\n",
       "      <th></th>\n",
       "      <th>index</th>\n",
       "      <th>rt_id</th>\n",
       "      <th>critic_name</th>\n",
       "      <th>publisher</th>\n",
       "      <th>review_type</th>\n",
       "      <th>review_date</th>\n",
       "      <th>review_content</th>\n",
       "      <th>title</th>\n",
       "      <th>plot</th>\n",
       "      <th>critics_consensus</th>\n",
       "      <th>content_rating</th>\n",
       "      <th>genre</th>\n",
       "      <th>director</th>\n",
       "      <th>writer</th>\n",
       "      <th>cast</th>\n",
       "      <th>original_release_date</th>\n",
       "      <th>streaming_release_date</th>\n",
       "      <th>runtime</th>\n",
       "      <th>production_company</th>\n",
       "      <th>tomatometer_status</th>\n",
       "      <th>tomatometer_rating</th>\n",
       "      <th>tomatometer_count</th>\n",
       "      <th>audience_status</th>\n",
       "      <th>audience_rating</th>\n",
       "      <th>audience_count</th>\n",
       "      <th>critic_id</th>\n",
       "      <th>review_score</th>\n",
       "      <th>year</th>\n",
       "      <th>imdb_title</th>\n",
       "      <th>country</th>\n",
       "      <th>description</th>\n",
       "      <th>avg_vote</th>\n",
       "      <th>votes</th>\n",
       "      <th>review_negative</th>\n",
       "      <th>review_neutral</th>\n",
       "      <th>review_positive</th>\n",
       "      <th>review_compound</th>\n",
       "      <th>consensus_negative</th>\n",
       "      <th>consensus_neutral</th>\n",
       "      <th>consensus_positive</th>\n",
       "      <th>consensus_compound</th>\n",
       "      <th>score_x</th>\n",
       "      <th>score_y</th>\n",
       "    </tr>\n",
       "  </thead>\n",
       "  <tbody>\n",
       "    <tr>\n",
       "      <th>0</th>\n",
       "      <td>0</td>\n",
       "      <td>m/0814255</td>\n",
       "      <td>Ben McEachen</td>\n",
       "      <td>Sunday Mail (Australia)</td>\n",
       "      <td>1</td>\n",
       "      <td>2010-02-09</td>\n",
       "      <td>Whether audiences will get behind The Lightnin...</td>\n",
       "      <td>Percy Jackson &amp; the Olympians: The Lightning T...</td>\n",
       "      <td>Always trouble-prone, the life of teenager Per...</td>\n",
       "      <td>Though it may seem like just another Harry Pot...</td>\n",
       "      <td>PG</td>\n",
       "      <td>Action &amp; Adventure, Comedy, Drama, Science Fic...</td>\n",
       "      <td>Chris Columbus</td>\n",
       "      <td>Craig Titley, Chris Columbus, Rick Riordan</td>\n",
       "      <td>Logan Lerman, Brandon T. Jackson, Alexandra Da...</td>\n",
       "      <td>2010-02-12</td>\n",
       "      <td>2015-11-25</td>\n",
       "      <td>119.0</td>\n",
       "      <td>20th Century Fox</td>\n",
       "      <td>0</td>\n",
       "      <td>49.0</td>\n",
       "      <td>149.0</td>\n",
       "      <td>0</td>\n",
       "      <td>53.0</td>\n",
       "      <td>254421.0</td>\n",
       "      <td>1022</td>\n",
       "      <td>70.0</td>\n",
       "      <td>2010</td>\n",
       "      <td>tt0814255</td>\n",
       "      <td>UK, Canada, USA</td>\n",
       "      <td>A teenager discovers he's the descendant of a ...</td>\n",
       "      <td>59.0</td>\n",
       "      <td>174198.0</td>\n",
       "      <td>0.08</td>\n",
       "      <td>0.727</td>\n",
       "      <td>0.193</td>\n",
       "      <td>0.705</td>\n",
       "      <td>0.0</td>\n",
       "      <td>0.59</td>\n",
       "      <td>0.41</td>\n",
       "      <td>0.9274</td>\n",
       "      <td>57.75</td>\n",
       "      <td>53.953125</td>\n",
       "    </tr>\n",
       "    <tr>\n",
       "      <th>1</th>\n",
       "      <td>1</td>\n",
       "      <td>m/0814255</td>\n",
       "      <td>Nick Schager</td>\n",
       "      <td>Slant Magazine</td>\n",
       "      <td>0</td>\n",
       "      <td>2010-02-10</td>\n",
       "      <td>Harry Potter knockoffs don't come more transpa...</td>\n",
       "      <td>Percy Jackson &amp; the Olympians: The Lightning T...</td>\n",
       "      <td>Always trouble-prone, the life of teenager Per...</td>\n",
       "      <td>Though it may seem like just another Harry Pot...</td>\n",
       "      <td>PG</td>\n",
       "      <td>Action &amp; Adventure, Comedy, Drama, Science Fic...</td>\n",
       "      <td>Chris Columbus</td>\n",
       "      <td>Craig Titley, Chris Columbus, Rick Riordan</td>\n",
       "      <td>Logan Lerman, Brandon T. Jackson, Alexandra Da...</td>\n",
       "      <td>2010-02-12</td>\n",
       "      <td>2015-11-25</td>\n",
       "      <td>119.0</td>\n",
       "      <td>20th Century Fox</td>\n",
       "      <td>0</td>\n",
       "      <td>49.0</td>\n",
       "      <td>149.0</td>\n",
       "      <td>0</td>\n",
       "      <td>53.0</td>\n",
       "      <td>254421.0</td>\n",
       "      <td>7475</td>\n",
       "      <td>25.0</td>\n",
       "      <td>2010</td>\n",
       "      <td>tt0814255</td>\n",
       "      <td>UK, Canada, USA</td>\n",
       "      <td>A teenager discovers he's the descendant of a ...</td>\n",
       "      <td>59.0</td>\n",
       "      <td>174198.0</td>\n",
       "      <td>0.00</td>\n",
       "      <td>1.000</td>\n",
       "      <td>0.000</td>\n",
       "      <td>0.000</td>\n",
       "      <td>0.0</td>\n",
       "      <td>0.59</td>\n",
       "      <td>0.41</td>\n",
       "      <td>0.9274</td>\n",
       "      <td>46.50</td>\n",
       "      <td>53.953125</td>\n",
       "    </tr>\n",
       "  </tbody>\n",
       "</table>\n",
       "</div>"
      ],
      "text/plain": [
       "   index      rt_id   critic_name                publisher  review_type  \\\n",
       "0      0  m/0814255  Ben McEachen  Sunday Mail (Australia)            1   \n",
       "1      1  m/0814255  Nick Schager           Slant Magazine            0   \n",
       "\n",
       "  review_date                                     review_content  \\\n",
       "0  2010-02-09  Whether audiences will get behind The Lightnin...   \n",
       "1  2010-02-10  Harry Potter knockoffs don't come more transpa...   \n",
       "\n",
       "                                               title  \\\n",
       "0  Percy Jackson & the Olympians: The Lightning T...   \n",
       "1  Percy Jackson & the Olympians: The Lightning T...   \n",
       "\n",
       "                                                plot  \\\n",
       "0  Always trouble-prone, the life of teenager Per...   \n",
       "1  Always trouble-prone, the life of teenager Per...   \n",
       "\n",
       "                                   critics_consensus content_rating  \\\n",
       "0  Though it may seem like just another Harry Pot...             PG   \n",
       "1  Though it may seem like just another Harry Pot...             PG   \n",
       "\n",
       "                                               genre        director  \\\n",
       "0  Action & Adventure, Comedy, Drama, Science Fic...  Chris Columbus   \n",
       "1  Action & Adventure, Comedy, Drama, Science Fic...  Chris Columbus   \n",
       "\n",
       "                                       writer  \\\n",
       "0  Craig Titley, Chris Columbus, Rick Riordan   \n",
       "1  Craig Titley, Chris Columbus, Rick Riordan   \n",
       "\n",
       "                                                cast original_release_date  \\\n",
       "0  Logan Lerman, Brandon T. Jackson, Alexandra Da...            2010-02-12   \n",
       "1  Logan Lerman, Brandon T. Jackson, Alexandra Da...            2010-02-12   \n",
       "\n",
       "  streaming_release_date  runtime production_company  tomatometer_status  \\\n",
       "0             2015-11-25    119.0   20th Century Fox                   0   \n",
       "1             2015-11-25    119.0   20th Century Fox                   0   \n",
       "\n",
       "   tomatometer_rating  tomatometer_count  audience_status  audience_rating  \\\n",
       "0                49.0              149.0                0             53.0   \n",
       "1                49.0              149.0                0             53.0   \n",
       "\n",
       "   audience_count  critic_id  review_score  year imdb_title          country  \\\n",
       "0        254421.0       1022          70.0  2010  tt0814255  UK, Canada, USA   \n",
       "1        254421.0       7475          25.0  2010  tt0814255  UK, Canada, USA   \n",
       "\n",
       "                                         description  avg_vote     votes  \\\n",
       "0  A teenager discovers he's the descendant of a ...      59.0  174198.0   \n",
       "1  A teenager discovers he's the descendant of a ...      59.0  174198.0   \n",
       "\n",
       "   review_negative  review_neutral  review_positive  review_compound  \\\n",
       "0             0.08           0.727            0.193            0.705   \n",
       "1             0.00           1.000            0.000            0.000   \n",
       "\n",
       "   consensus_negative  consensus_neutral  consensus_positive  \\\n",
       "0                 0.0               0.59                0.41   \n",
       "1                 0.0               0.59                0.41   \n",
       "\n",
       "   consensus_compound  score_x    score_y  \n",
       "0              0.9274    57.75  53.953125  \n",
       "1              0.9274    46.50  53.953125  "
      ]
     },
     "execution_count": 117,
     "metadata": {},
     "output_type": "execute_result"
    }
   ],
   "source": [
    "# Merging with new score column\n",
    "df = pd.merge(left = df, right = weighted, left_on = 'title', right_on = 'title', how = 'left')\n",
    "df.head(2)"
   ]
  },
  {
   "cell_type": "code",
   "execution_count": 118,
   "id": "f7e0905b-d441-4a5d-beea-a0df8cf3035a",
   "metadata": {
    "tags": []
   },
   "outputs": [],
   "source": [
    "df.drop(columns = ['score_x'], inplace = True)\n",
    "df.rename(columns = {'score_y':'score'}, inplace = True)"
   ]
  },
  {
   "cell_type": "code",
   "execution_count": 119,
   "id": "d9230ede-9d04-48a4-aa67-a160260bde24",
   "metadata": {},
   "outputs": [
    {
     "data": {
      "text/html": [
       "<div>\n",
       "<style scoped>\n",
       "    .dataframe tbody tr th:only-of-type {\n",
       "        vertical-align: middle;\n",
       "    }\n",
       "\n",
       "    .dataframe tbody tr th {\n",
       "        vertical-align: top;\n",
       "    }\n",
       "\n",
       "    .dataframe thead th {\n",
       "        text-align: right;\n",
       "    }\n",
       "</style>\n",
       "<table border=\"1\" class=\"dataframe\">\n",
       "  <thead>\n",
       "    <tr style=\"text-align: right;\">\n",
       "      <th></th>\n",
       "      <th>index</th>\n",
       "      <th>rt_id</th>\n",
       "      <th>critic_name</th>\n",
       "      <th>publisher</th>\n",
       "      <th>review_type</th>\n",
       "      <th>review_date</th>\n",
       "      <th>review_content</th>\n",
       "      <th>title</th>\n",
       "      <th>plot</th>\n",
       "      <th>critics_consensus</th>\n",
       "      <th>content_rating</th>\n",
       "      <th>genre</th>\n",
       "      <th>director</th>\n",
       "      <th>writer</th>\n",
       "      <th>cast</th>\n",
       "      <th>original_release_date</th>\n",
       "      <th>streaming_release_date</th>\n",
       "      <th>runtime</th>\n",
       "      <th>production_company</th>\n",
       "      <th>tomatometer_status</th>\n",
       "      <th>tomatometer_rating</th>\n",
       "      <th>tomatometer_count</th>\n",
       "      <th>audience_status</th>\n",
       "      <th>audience_rating</th>\n",
       "      <th>audience_count</th>\n",
       "      <th>critic_id</th>\n",
       "      <th>review_score</th>\n",
       "      <th>year</th>\n",
       "      <th>imdb_title</th>\n",
       "      <th>country</th>\n",
       "      <th>description</th>\n",
       "      <th>avg_vote</th>\n",
       "      <th>votes</th>\n",
       "      <th>review_negative</th>\n",
       "      <th>review_neutral</th>\n",
       "      <th>review_positive</th>\n",
       "      <th>review_compound</th>\n",
       "      <th>consensus_negative</th>\n",
       "      <th>consensus_neutral</th>\n",
       "      <th>consensus_positive</th>\n",
       "      <th>consensus_compound</th>\n",
       "      <th>score</th>\n",
       "    </tr>\n",
       "  </thead>\n",
       "  <tbody>\n",
       "    <tr>\n",
       "      <th>0</th>\n",
       "      <td>0</td>\n",
       "      <td>m/0814255</td>\n",
       "      <td>Ben McEachen</td>\n",
       "      <td>Sunday Mail (Australia)</td>\n",
       "      <td>1</td>\n",
       "      <td>2010-02-09</td>\n",
       "      <td>Whether audiences will get behind The Lightnin...</td>\n",
       "      <td>Percy Jackson &amp; the Olympians: The Lightning T...</td>\n",
       "      <td>Always trouble-prone, the life of teenager Per...</td>\n",
       "      <td>Though it may seem like just another Harry Pot...</td>\n",
       "      <td>PG</td>\n",
       "      <td>Action &amp; Adventure, Comedy, Drama, Science Fic...</td>\n",
       "      <td>Chris Columbus</td>\n",
       "      <td>Craig Titley, Chris Columbus, Rick Riordan</td>\n",
       "      <td>Logan Lerman, Brandon T. Jackson, Alexandra Da...</td>\n",
       "      <td>2010-02-12</td>\n",
       "      <td>2015-11-25</td>\n",
       "      <td>119.0</td>\n",
       "      <td>20th Century Fox</td>\n",
       "      <td>0</td>\n",
       "      <td>49.0</td>\n",
       "      <td>149.0</td>\n",
       "      <td>0</td>\n",
       "      <td>53.0</td>\n",
       "      <td>254421.0</td>\n",
       "      <td>1022</td>\n",
       "      <td>70.0</td>\n",
       "      <td>2010</td>\n",
       "      <td>tt0814255</td>\n",
       "      <td>UK, Canada, USA</td>\n",
       "      <td>A teenager discovers he's the descendant of a ...</td>\n",
       "      <td>59.0</td>\n",
       "      <td>174198.0</td>\n",
       "      <td>0.080</td>\n",
       "      <td>0.727</td>\n",
       "      <td>0.193</td>\n",
       "      <td>0.7050</td>\n",
       "      <td>0.0</td>\n",
       "      <td>0.59</td>\n",
       "      <td>0.41</td>\n",
       "      <td>0.9274</td>\n",
       "      <td>53.95</td>\n",
       "    </tr>\n",
       "    <tr>\n",
       "      <th>1</th>\n",
       "      <td>1</td>\n",
       "      <td>m/0814255</td>\n",
       "      <td>Nick Schager</td>\n",
       "      <td>Slant Magazine</td>\n",
       "      <td>0</td>\n",
       "      <td>2010-02-10</td>\n",
       "      <td>Harry Potter knockoffs don't come more transpa...</td>\n",
       "      <td>Percy Jackson &amp; the Olympians: The Lightning T...</td>\n",
       "      <td>Always trouble-prone, the life of teenager Per...</td>\n",
       "      <td>Though it may seem like just another Harry Pot...</td>\n",
       "      <td>PG</td>\n",
       "      <td>Action &amp; Adventure, Comedy, Drama, Science Fic...</td>\n",
       "      <td>Chris Columbus</td>\n",
       "      <td>Craig Titley, Chris Columbus, Rick Riordan</td>\n",
       "      <td>Logan Lerman, Brandon T. Jackson, Alexandra Da...</td>\n",
       "      <td>2010-02-12</td>\n",
       "      <td>2015-11-25</td>\n",
       "      <td>119.0</td>\n",
       "      <td>20th Century Fox</td>\n",
       "      <td>0</td>\n",
       "      <td>49.0</td>\n",
       "      <td>149.0</td>\n",
       "      <td>0</td>\n",
       "      <td>53.0</td>\n",
       "      <td>254421.0</td>\n",
       "      <td>7475</td>\n",
       "      <td>25.0</td>\n",
       "      <td>2010</td>\n",
       "      <td>tt0814255</td>\n",
       "      <td>UK, Canada, USA</td>\n",
       "      <td>A teenager discovers he's the descendant of a ...</td>\n",
       "      <td>59.0</td>\n",
       "      <td>174198.0</td>\n",
       "      <td>0.000</td>\n",
       "      <td>1.000</td>\n",
       "      <td>0.000</td>\n",
       "      <td>0.0000</td>\n",
       "      <td>0.0</td>\n",
       "      <td>0.59</td>\n",
       "      <td>0.41</td>\n",
       "      <td>0.9274</td>\n",
       "      <td>53.95</td>\n",
       "    </tr>\n",
       "    <tr>\n",
       "      <th>2</th>\n",
       "      <td>2</td>\n",
       "      <td>m/0814255</td>\n",
       "      <td>Bill Goodykoontz</td>\n",
       "      <td>Arizona Republic</td>\n",
       "      <td>1</td>\n",
       "      <td>2010-02-10</td>\n",
       "      <td>Percy Jackson isn't a great movie, but it's a ...</td>\n",
       "      <td>Percy Jackson &amp; the Olympians: The Lightning T...</td>\n",
       "      <td>Always trouble-prone, the life of teenager Per...</td>\n",
       "      <td>Though it may seem like just another Harry Pot...</td>\n",
       "      <td>PG</td>\n",
       "      <td>Action &amp; Adventure, Comedy, Drama, Science Fic...</td>\n",
       "      <td>Chris Columbus</td>\n",
       "      <td>Craig Titley, Chris Columbus, Rick Riordan</td>\n",
       "      <td>Logan Lerman, Brandon T. Jackson, Alexandra Da...</td>\n",
       "      <td>2010-02-12</td>\n",
       "      <td>2015-11-25</td>\n",
       "      <td>119.0</td>\n",
       "      <td>20th Century Fox</td>\n",
       "      <td>0</td>\n",
       "      <td>49.0</td>\n",
       "      <td>149.0</td>\n",
       "      <td>0</td>\n",
       "      <td>53.0</td>\n",
       "      <td>254421.0</td>\n",
       "      <td>1119</td>\n",
       "      <td>70.0</td>\n",
       "      <td>2010</td>\n",
       "      <td>tt0814255</td>\n",
       "      <td>UK, Canada, USA</td>\n",
       "      <td>A teenager discovers he's the descendant of a ...</td>\n",
       "      <td>59.0</td>\n",
       "      <td>174198.0</td>\n",
       "      <td>0.079</td>\n",
       "      <td>0.661</td>\n",
       "      <td>0.261</td>\n",
       "      <td>0.7143</td>\n",
       "      <td>0.0</td>\n",
       "      <td>0.59</td>\n",
       "      <td>0.41</td>\n",
       "      <td>0.9274</td>\n",
       "      <td>53.95</td>\n",
       "    </tr>\n",
       "    <tr>\n",
       "      <th>3</th>\n",
       "      <td>3</td>\n",
       "      <td>m/0814255</td>\n",
       "      <td>Jordan Hoffman</td>\n",
       "      <td>UGO</td>\n",
       "      <td>1</td>\n",
       "      <td>2010-02-10</td>\n",
       "      <td>Fun, brisk and imaginative</td>\n",
       "      <td>Percy Jackson &amp; the Olympians: The Lightning T...</td>\n",
       "      <td>Always trouble-prone, the life of teenager Per...</td>\n",
       "      <td>Though it may seem like just another Harry Pot...</td>\n",
       "      <td>PG</td>\n",
       "      <td>Action &amp; Adventure, Comedy, Drama, Science Fic...</td>\n",
       "      <td>Chris Columbus</td>\n",
       "      <td>Craig Titley, Chris Columbus, Rick Riordan</td>\n",
       "      <td>Logan Lerman, Brandon T. Jackson, Alexandra Da...</td>\n",
       "      <td>2010-02-12</td>\n",
       "      <td>2015-11-25</td>\n",
       "      <td>119.0</td>\n",
       "      <td>20th Century Fox</td>\n",
       "      <td>0</td>\n",
       "      <td>49.0</td>\n",
       "      <td>149.0</td>\n",
       "      <td>0</td>\n",
       "      <td>53.0</td>\n",
       "      <td>254421.0</td>\n",
       "      <td>5107</td>\n",
       "      <td>75.0</td>\n",
       "      <td>2010</td>\n",
       "      <td>tt0814255</td>\n",
       "      <td>UK, Canada, USA</td>\n",
       "      <td>A teenager discovers he's the descendant of a ...</td>\n",
       "      <td>59.0</td>\n",
       "      <td>174198.0</td>\n",
       "      <td>0.000</td>\n",
       "      <td>0.290</td>\n",
       "      <td>0.710</td>\n",
       "      <td>0.5994</td>\n",
       "      <td>0.0</td>\n",
       "      <td>0.59</td>\n",
       "      <td>0.41</td>\n",
       "      <td>0.9274</td>\n",
       "      <td>53.95</td>\n",
       "    </tr>\n",
       "    <tr>\n",
       "      <th>4</th>\n",
       "      <td>4</td>\n",
       "      <td>m/0814255</td>\n",
       "      <td>Jim Schembri</td>\n",
       "      <td>The Age (Australia)</td>\n",
       "      <td>1</td>\n",
       "      <td>2010-02-10</td>\n",
       "      <td>Crammed with dragons, set-destroying fights an...</td>\n",
       "      <td>Percy Jackson &amp; the Olympians: The Lightning T...</td>\n",
       "      <td>Always trouble-prone, the life of teenager Per...</td>\n",
       "      <td>Though it may seem like just another Harry Pot...</td>\n",
       "      <td>PG</td>\n",
       "      <td>Action &amp; Adventure, Comedy, Drama, Science Fic...</td>\n",
       "      <td>Chris Columbus</td>\n",
       "      <td>Craig Titley, Chris Columbus, Rick Riordan</td>\n",
       "      <td>Logan Lerman, Brandon T. Jackson, Alexandra Da...</td>\n",
       "      <td>2010-02-12</td>\n",
       "      <td>2015-11-25</td>\n",
       "      <td>119.0</td>\n",
       "      <td>20th Century Fox</td>\n",
       "      <td>0</td>\n",
       "      <td>49.0</td>\n",
       "      <td>149.0</td>\n",
       "      <td>0</td>\n",
       "      <td>53.0</td>\n",
       "      <td>254421.0</td>\n",
       "      <td>4715</td>\n",
       "      <td>60.0</td>\n",
       "      <td>2010</td>\n",
       "      <td>tt0814255</td>\n",
       "      <td>UK, Canada, USA</td>\n",
       "      <td>A teenager discovers he's the descendant of a ...</td>\n",
       "      <td>59.0</td>\n",
       "      <td>174198.0</td>\n",
       "      <td>0.080</td>\n",
       "      <td>0.769</td>\n",
       "      <td>0.151</td>\n",
       "      <td>0.3400</td>\n",
       "      <td>0.0</td>\n",
       "      <td>0.59</td>\n",
       "      <td>0.41</td>\n",
       "      <td>0.9274</td>\n",
       "      <td>53.95</td>\n",
       "    </tr>\n",
       "  </tbody>\n",
       "</table>\n",
       "</div>"
      ],
      "text/plain": [
       "   index      rt_id       critic_name                publisher  review_type  \\\n",
       "0      0  m/0814255      Ben McEachen  Sunday Mail (Australia)            1   \n",
       "1      1  m/0814255      Nick Schager           Slant Magazine            0   \n",
       "2      2  m/0814255  Bill Goodykoontz         Arizona Republic            1   \n",
       "3      3  m/0814255    Jordan Hoffman                      UGO            1   \n",
       "4      4  m/0814255      Jim Schembri      The Age (Australia)            1   \n",
       "\n",
       "  review_date                                     review_content  \\\n",
       "0  2010-02-09  Whether audiences will get behind The Lightnin...   \n",
       "1  2010-02-10  Harry Potter knockoffs don't come more transpa...   \n",
       "2  2010-02-10  Percy Jackson isn't a great movie, but it's a ...   \n",
       "3  2010-02-10                         Fun, brisk and imaginative   \n",
       "4  2010-02-10  Crammed with dragons, set-destroying fights an...   \n",
       "\n",
       "                                               title  \\\n",
       "0  Percy Jackson & the Olympians: The Lightning T...   \n",
       "1  Percy Jackson & the Olympians: The Lightning T...   \n",
       "2  Percy Jackson & the Olympians: The Lightning T...   \n",
       "3  Percy Jackson & the Olympians: The Lightning T...   \n",
       "4  Percy Jackson & the Olympians: The Lightning T...   \n",
       "\n",
       "                                                plot  \\\n",
       "0  Always trouble-prone, the life of teenager Per...   \n",
       "1  Always trouble-prone, the life of teenager Per...   \n",
       "2  Always trouble-prone, the life of teenager Per...   \n",
       "3  Always trouble-prone, the life of teenager Per...   \n",
       "4  Always trouble-prone, the life of teenager Per...   \n",
       "\n",
       "                                   critics_consensus content_rating  \\\n",
       "0  Though it may seem like just another Harry Pot...             PG   \n",
       "1  Though it may seem like just another Harry Pot...             PG   \n",
       "2  Though it may seem like just another Harry Pot...             PG   \n",
       "3  Though it may seem like just another Harry Pot...             PG   \n",
       "4  Though it may seem like just another Harry Pot...             PG   \n",
       "\n",
       "                                               genre        director  \\\n",
       "0  Action & Adventure, Comedy, Drama, Science Fic...  Chris Columbus   \n",
       "1  Action & Adventure, Comedy, Drama, Science Fic...  Chris Columbus   \n",
       "2  Action & Adventure, Comedy, Drama, Science Fic...  Chris Columbus   \n",
       "3  Action & Adventure, Comedy, Drama, Science Fic...  Chris Columbus   \n",
       "4  Action & Adventure, Comedy, Drama, Science Fic...  Chris Columbus   \n",
       "\n",
       "                                       writer  \\\n",
       "0  Craig Titley, Chris Columbus, Rick Riordan   \n",
       "1  Craig Titley, Chris Columbus, Rick Riordan   \n",
       "2  Craig Titley, Chris Columbus, Rick Riordan   \n",
       "3  Craig Titley, Chris Columbus, Rick Riordan   \n",
       "4  Craig Titley, Chris Columbus, Rick Riordan   \n",
       "\n",
       "                                                cast original_release_date  \\\n",
       "0  Logan Lerman, Brandon T. Jackson, Alexandra Da...            2010-02-12   \n",
       "1  Logan Lerman, Brandon T. Jackson, Alexandra Da...            2010-02-12   \n",
       "2  Logan Lerman, Brandon T. Jackson, Alexandra Da...            2010-02-12   \n",
       "3  Logan Lerman, Brandon T. Jackson, Alexandra Da...            2010-02-12   \n",
       "4  Logan Lerman, Brandon T. Jackson, Alexandra Da...            2010-02-12   \n",
       "\n",
       "  streaming_release_date  runtime production_company  tomatometer_status  \\\n",
       "0             2015-11-25    119.0   20th Century Fox                   0   \n",
       "1             2015-11-25    119.0   20th Century Fox                   0   \n",
       "2             2015-11-25    119.0   20th Century Fox                   0   \n",
       "3             2015-11-25    119.0   20th Century Fox                   0   \n",
       "4             2015-11-25    119.0   20th Century Fox                   0   \n",
       "\n",
       "   tomatometer_rating  tomatometer_count  audience_status  audience_rating  \\\n",
       "0                49.0              149.0                0             53.0   \n",
       "1                49.0              149.0                0             53.0   \n",
       "2                49.0              149.0                0             53.0   \n",
       "3                49.0              149.0                0             53.0   \n",
       "4                49.0              149.0                0             53.0   \n",
       "\n",
       "   audience_count  critic_id  review_score  year imdb_title          country  \\\n",
       "0        254421.0       1022          70.0  2010  tt0814255  UK, Canada, USA   \n",
       "1        254421.0       7475          25.0  2010  tt0814255  UK, Canada, USA   \n",
       "2        254421.0       1119          70.0  2010  tt0814255  UK, Canada, USA   \n",
       "3        254421.0       5107          75.0  2010  tt0814255  UK, Canada, USA   \n",
       "4        254421.0       4715          60.0  2010  tt0814255  UK, Canada, USA   \n",
       "\n",
       "                                         description  avg_vote     votes  \\\n",
       "0  A teenager discovers he's the descendant of a ...      59.0  174198.0   \n",
       "1  A teenager discovers he's the descendant of a ...      59.0  174198.0   \n",
       "2  A teenager discovers he's the descendant of a ...      59.0  174198.0   \n",
       "3  A teenager discovers he's the descendant of a ...      59.0  174198.0   \n",
       "4  A teenager discovers he's the descendant of a ...      59.0  174198.0   \n",
       "\n",
       "   review_negative  review_neutral  review_positive  review_compound  \\\n",
       "0            0.080           0.727            0.193           0.7050   \n",
       "1            0.000           1.000            0.000           0.0000   \n",
       "2            0.079           0.661            0.261           0.7143   \n",
       "3            0.000           0.290            0.710           0.5994   \n",
       "4            0.080           0.769            0.151           0.3400   \n",
       "\n",
       "   consensus_negative  consensus_neutral  consensus_positive  \\\n",
       "0                 0.0               0.59                0.41   \n",
       "1                 0.0               0.59                0.41   \n",
       "2                 0.0               0.59                0.41   \n",
       "3                 0.0               0.59                0.41   \n",
       "4                 0.0               0.59                0.41   \n",
       "\n",
       "   consensus_compound  score  \n",
       "0              0.9274  53.95  \n",
       "1              0.9274  53.95  \n",
       "2              0.9274  53.95  \n",
       "3              0.9274  53.95  \n",
       "4              0.9274  53.95  "
      ]
     },
     "execution_count": 119,
     "metadata": {},
     "output_type": "execute_result"
    }
   ],
   "source": [
    "# Rounding score to two decimal points\n",
    "df['score'] = round(df['score'],2)\n",
    "\n",
    "df.head()"
   ]
  },
  {
   "cell_type": "code",
   "execution_count": 120,
   "id": "4495f3ad-38ec-4d29-8b86-b6a32c1ba7c9",
   "metadata": {},
   "outputs": [],
   "source": [
    "# Renaming columns\n",
    "df.rename(columns = {'description':'imdb_plot','avg_vote':'imdb_score','votes':'imdb_count'}, inplace = True)"
   ]
  },
  {
   "cell_type": "code",
   "execution_count": 121,
   "id": "fa8a9a43-071a-4e9c-84dd-3ace1fcb67e1",
   "metadata": {},
   "outputs": [],
   "source": [
    "# Setting copy of df\n",
    "df_copy = df.copy()"
   ]
  },
  {
   "cell_type": "code",
   "execution_count": 122,
   "id": "373c4f17-38fd-4a73-8dc7-f5a132058d88",
   "metadata": {},
   "outputs": [],
   "source": [
    "# Grouping by 2 title counts, to make dataset easier to process\n",
    "df = df.groupby('title').head(2)\n",
    "df.drop(columns = 'index', inplace = True)"
   ]
  },
  {
   "cell_type": "code",
   "execution_count": 123,
   "id": "55cfe97d-294d-4f61-abac-da4ca361db79",
   "metadata": {},
   "outputs": [
    {
     "name": "stdout",
     "output_type": "stream",
     "text": [
      "(13173, 41)\n"
     ]
    },
    {
     "data": {
      "text/html": [
       "<div>\n",
       "<style scoped>\n",
       "    .dataframe tbody tr th:only-of-type {\n",
       "        vertical-align: middle;\n",
       "    }\n",
       "\n",
       "    .dataframe tbody tr th {\n",
       "        vertical-align: top;\n",
       "    }\n",
       "\n",
       "    .dataframe thead th {\n",
       "        text-align: right;\n",
       "    }\n",
       "</style>\n",
       "<table border=\"1\" class=\"dataframe\">\n",
       "  <thead>\n",
       "    <tr style=\"text-align: right;\">\n",
       "      <th></th>\n",
       "      <th>rt_id</th>\n",
       "      <th>critic_name</th>\n",
       "      <th>publisher</th>\n",
       "      <th>review_type</th>\n",
       "      <th>review_date</th>\n",
       "      <th>review_content</th>\n",
       "      <th>title</th>\n",
       "      <th>plot</th>\n",
       "      <th>critics_consensus</th>\n",
       "      <th>content_rating</th>\n",
       "      <th>genre</th>\n",
       "      <th>director</th>\n",
       "      <th>writer</th>\n",
       "      <th>cast</th>\n",
       "      <th>original_release_date</th>\n",
       "      <th>streaming_release_date</th>\n",
       "      <th>runtime</th>\n",
       "      <th>production_company</th>\n",
       "      <th>tomatometer_status</th>\n",
       "      <th>tomatometer_rating</th>\n",
       "      <th>tomatometer_count</th>\n",
       "      <th>audience_status</th>\n",
       "      <th>audience_rating</th>\n",
       "      <th>audience_count</th>\n",
       "      <th>critic_id</th>\n",
       "      <th>review_score</th>\n",
       "      <th>year</th>\n",
       "      <th>imdb_title</th>\n",
       "      <th>country</th>\n",
       "      <th>imdb_plot</th>\n",
       "      <th>imdb_score</th>\n",
       "      <th>imdb_count</th>\n",
       "      <th>review_negative</th>\n",
       "      <th>review_neutral</th>\n",
       "      <th>review_positive</th>\n",
       "      <th>review_compound</th>\n",
       "      <th>consensus_negative</th>\n",
       "      <th>consensus_neutral</th>\n",
       "      <th>consensus_positive</th>\n",
       "      <th>consensus_compound</th>\n",
       "      <th>score</th>\n",
       "    </tr>\n",
       "  </thead>\n",
       "  <tbody>\n",
       "    <tr>\n",
       "      <th>0</th>\n",
       "      <td>m/0814255</td>\n",
       "      <td>Ben McEachen</td>\n",
       "      <td>Sunday Mail (Australia)</td>\n",
       "      <td>1</td>\n",
       "      <td>2010-02-09</td>\n",
       "      <td>Whether audiences will get behind The Lightnin...</td>\n",
       "      <td>Percy Jackson &amp; the Olympians: The Lightning T...</td>\n",
       "      <td>Always trouble-prone, the life of teenager Per...</td>\n",
       "      <td>Though it may seem like just another Harry Pot...</td>\n",
       "      <td>PG</td>\n",
       "      <td>Action &amp; Adventure, Comedy, Drama, Science Fic...</td>\n",
       "      <td>Chris Columbus</td>\n",
       "      <td>Craig Titley, Chris Columbus, Rick Riordan</td>\n",
       "      <td>Logan Lerman, Brandon T. Jackson, Alexandra Da...</td>\n",
       "      <td>2010-02-12</td>\n",
       "      <td>2015-11-25</td>\n",
       "      <td>119.0</td>\n",
       "      <td>20th Century Fox</td>\n",
       "      <td>0</td>\n",
       "      <td>49.0</td>\n",
       "      <td>149.0</td>\n",
       "      <td>0</td>\n",
       "      <td>53.0</td>\n",
       "      <td>254421.0</td>\n",
       "      <td>1022</td>\n",
       "      <td>70.0</td>\n",
       "      <td>2010</td>\n",
       "      <td>tt0814255</td>\n",
       "      <td>UK, Canada, USA</td>\n",
       "      <td>A teenager discovers he's the descendant of a ...</td>\n",
       "      <td>59.0</td>\n",
       "      <td>174198.0</td>\n",
       "      <td>0.08</td>\n",
       "      <td>0.727</td>\n",
       "      <td>0.193</td>\n",
       "      <td>0.705</td>\n",
       "      <td>0.0</td>\n",
       "      <td>0.59</td>\n",
       "      <td>0.41</td>\n",
       "      <td>0.9274</td>\n",
       "      <td>53.95</td>\n",
       "    </tr>\n",
       "    <tr>\n",
       "      <th>1</th>\n",
       "      <td>m/0814255</td>\n",
       "      <td>Nick Schager</td>\n",
       "      <td>Slant Magazine</td>\n",
       "      <td>0</td>\n",
       "      <td>2010-02-10</td>\n",
       "      <td>Harry Potter knockoffs don't come more transpa...</td>\n",
       "      <td>Percy Jackson &amp; the Olympians: The Lightning T...</td>\n",
       "      <td>Always trouble-prone, the life of teenager Per...</td>\n",
       "      <td>Though it may seem like just another Harry Pot...</td>\n",
       "      <td>PG</td>\n",
       "      <td>Action &amp; Adventure, Comedy, Drama, Science Fic...</td>\n",
       "      <td>Chris Columbus</td>\n",
       "      <td>Craig Titley, Chris Columbus, Rick Riordan</td>\n",
       "      <td>Logan Lerman, Brandon T. Jackson, Alexandra Da...</td>\n",
       "      <td>2010-02-12</td>\n",
       "      <td>2015-11-25</td>\n",
       "      <td>119.0</td>\n",
       "      <td>20th Century Fox</td>\n",
       "      <td>0</td>\n",
       "      <td>49.0</td>\n",
       "      <td>149.0</td>\n",
       "      <td>0</td>\n",
       "      <td>53.0</td>\n",
       "      <td>254421.0</td>\n",
       "      <td>7475</td>\n",
       "      <td>25.0</td>\n",
       "      <td>2010</td>\n",
       "      <td>tt0814255</td>\n",
       "      <td>UK, Canada, USA</td>\n",
       "      <td>A teenager discovers he's the descendant of a ...</td>\n",
       "      <td>59.0</td>\n",
       "      <td>174198.0</td>\n",
       "      <td>0.00</td>\n",
       "      <td>1.000</td>\n",
       "      <td>0.000</td>\n",
       "      <td>0.000</td>\n",
       "      <td>0.0</td>\n",
       "      <td>0.59</td>\n",
       "      <td>0.41</td>\n",
       "      <td>0.9274</td>\n",
       "      <td>53.95</td>\n",
       "    </tr>\n",
       "  </tbody>\n",
       "</table>\n",
       "</div>"
      ],
      "text/plain": [
       "       rt_id   critic_name                publisher  review_type review_date  \\\n",
       "0  m/0814255  Ben McEachen  Sunday Mail (Australia)            1  2010-02-09   \n",
       "1  m/0814255  Nick Schager           Slant Magazine            0  2010-02-10   \n",
       "\n",
       "                                      review_content  \\\n",
       "0  Whether audiences will get behind The Lightnin...   \n",
       "1  Harry Potter knockoffs don't come more transpa...   \n",
       "\n",
       "                                               title  \\\n",
       "0  Percy Jackson & the Olympians: The Lightning T...   \n",
       "1  Percy Jackson & the Olympians: The Lightning T...   \n",
       "\n",
       "                                                plot  \\\n",
       "0  Always trouble-prone, the life of teenager Per...   \n",
       "1  Always trouble-prone, the life of teenager Per...   \n",
       "\n",
       "                                   critics_consensus content_rating  \\\n",
       "0  Though it may seem like just another Harry Pot...             PG   \n",
       "1  Though it may seem like just another Harry Pot...             PG   \n",
       "\n",
       "                                               genre        director  \\\n",
       "0  Action & Adventure, Comedy, Drama, Science Fic...  Chris Columbus   \n",
       "1  Action & Adventure, Comedy, Drama, Science Fic...  Chris Columbus   \n",
       "\n",
       "                                       writer  \\\n",
       "0  Craig Titley, Chris Columbus, Rick Riordan   \n",
       "1  Craig Titley, Chris Columbus, Rick Riordan   \n",
       "\n",
       "                                                cast original_release_date  \\\n",
       "0  Logan Lerman, Brandon T. Jackson, Alexandra Da...            2010-02-12   \n",
       "1  Logan Lerman, Brandon T. Jackson, Alexandra Da...            2010-02-12   \n",
       "\n",
       "  streaming_release_date  runtime production_company  tomatometer_status  \\\n",
       "0             2015-11-25    119.0   20th Century Fox                   0   \n",
       "1             2015-11-25    119.0   20th Century Fox                   0   \n",
       "\n",
       "   tomatometer_rating  tomatometer_count  audience_status  audience_rating  \\\n",
       "0                49.0              149.0                0             53.0   \n",
       "1                49.0              149.0                0             53.0   \n",
       "\n",
       "   audience_count  critic_id  review_score  year imdb_title          country  \\\n",
       "0        254421.0       1022          70.0  2010  tt0814255  UK, Canada, USA   \n",
       "1        254421.0       7475          25.0  2010  tt0814255  UK, Canada, USA   \n",
       "\n",
       "                                           imdb_plot  imdb_score  imdb_count  \\\n",
       "0  A teenager discovers he's the descendant of a ...        59.0    174198.0   \n",
       "1  A teenager discovers he's the descendant of a ...        59.0    174198.0   \n",
       "\n",
       "   review_negative  review_neutral  review_positive  review_compound  \\\n",
       "0             0.08           0.727            0.193            0.705   \n",
       "1             0.00           1.000            0.000            0.000   \n",
       "\n",
       "   consensus_negative  consensus_neutral  consensus_positive  \\\n",
       "0                 0.0               0.59                0.41   \n",
       "1                 0.0               0.59                0.41   \n",
       "\n",
       "   consensus_compound  score  \n",
       "0              0.9274  53.95  \n",
       "1              0.9274  53.95  "
      ]
     },
     "execution_count": 123,
     "metadata": {},
     "output_type": "execute_result"
    }
   ],
   "source": [
    "print(df.shape)\n",
    "df.head(2)"
   ]
  },
  {
   "cell_type": "code",
   "execution_count": 125,
   "id": "441455a7-25ae-4189-9d47-dc53764e4dab",
   "metadata": {},
   "outputs": [],
   "source": [
    "# Saving new dataset for pre-processing\n",
    "df.to_csv('./data/df_to_preprocess.csv')"
   ]
  },
  {
   "cell_type": "markdown",
   "id": "fa684e00-9af5-4fa4-9ec0-cf8fe77c77a8",
   "metadata": {},
   "source": [
    "#### Further EDA for Tableau "
   ]
  },
  {
   "cell_type": "code",
   "execution_count": 127,
   "id": "8013e5ba-caca-4d6d-99a9-59d0b9f3393c",
   "metadata": {},
   "outputs": [],
   "source": [
    "# Splitting and exploding country and genre columns to plot in Tableau\n",
    "\n",
    "df['country'] = df['country'].str.split(',')\n",
    "df['genre'] = df['genre'].str.split(',')\n",
    "\n",
    "df = df.explode('genre')\n",
    "df = df.explode('country')"
   ]
  },
  {
   "cell_type": "code",
   "execution_count": 128,
   "id": "0cd2e6d1-d6cf-44c0-9cca-30d692f095bc",
   "metadata": {},
   "outputs": [
    {
     "data": {
      "text/html": [
       "<div>\n",
       "<style scoped>\n",
       "    .dataframe tbody tr th:only-of-type {\n",
       "        vertical-align: middle;\n",
       "    }\n",
       "\n",
       "    .dataframe tbody tr th {\n",
       "        vertical-align: top;\n",
       "    }\n",
       "\n",
       "    .dataframe thead th {\n",
       "        text-align: right;\n",
       "    }\n",
       "</style>\n",
       "<table border=\"1\" class=\"dataframe\">\n",
       "  <thead>\n",
       "    <tr style=\"text-align: right;\">\n",
       "      <th></th>\n",
       "      <th>rt_id</th>\n",
       "      <th>critic_name</th>\n",
       "      <th>publisher</th>\n",
       "      <th>review_type</th>\n",
       "      <th>review_date</th>\n",
       "      <th>review_content</th>\n",
       "      <th>title</th>\n",
       "      <th>plot</th>\n",
       "      <th>critics_consensus</th>\n",
       "      <th>content_rating</th>\n",
       "      <th>genre</th>\n",
       "      <th>director</th>\n",
       "      <th>writer</th>\n",
       "      <th>cast</th>\n",
       "      <th>original_release_date</th>\n",
       "      <th>streaming_release_date</th>\n",
       "      <th>runtime</th>\n",
       "      <th>production_company</th>\n",
       "      <th>tomatometer_status</th>\n",
       "      <th>tomatometer_rating</th>\n",
       "      <th>tomatometer_count</th>\n",
       "      <th>audience_status</th>\n",
       "      <th>audience_rating</th>\n",
       "      <th>audience_count</th>\n",
       "      <th>critic_id</th>\n",
       "      <th>review_score</th>\n",
       "      <th>year</th>\n",
       "      <th>imdb_title</th>\n",
       "      <th>country</th>\n",
       "      <th>imdb_plot</th>\n",
       "      <th>imdb_score</th>\n",
       "      <th>imdb_count</th>\n",
       "      <th>review_negative</th>\n",
       "      <th>review_neutral</th>\n",
       "      <th>review_positive</th>\n",
       "      <th>review_compound</th>\n",
       "      <th>consensus_negative</th>\n",
       "      <th>consensus_neutral</th>\n",
       "      <th>consensus_positive</th>\n",
       "      <th>consensus_compound</th>\n",
       "      <th>score</th>\n",
       "    </tr>\n",
       "  </thead>\n",
       "  <tbody>\n",
       "    <tr>\n",
       "      <th>0</th>\n",
       "      <td>m/0814255</td>\n",
       "      <td>Ben McEachen</td>\n",
       "      <td>Sunday Mail (Australia)</td>\n",
       "      <td>1</td>\n",
       "      <td>2010-02-09</td>\n",
       "      <td>Whether audiences will get behind The Lightnin...</td>\n",
       "      <td>Percy Jackson &amp; the Olympians: The Lightning T...</td>\n",
       "      <td>Always trouble-prone, the life of teenager Per...</td>\n",
       "      <td>Though it may seem like just another Harry Pot...</td>\n",
       "      <td>PG</td>\n",
       "      <td>Action &amp; Adventure</td>\n",
       "      <td>Chris Columbus</td>\n",
       "      <td>Craig Titley, Chris Columbus, Rick Riordan</td>\n",
       "      <td>Logan Lerman, Brandon T. Jackson, Alexandra Da...</td>\n",
       "      <td>2010-02-12</td>\n",
       "      <td>2015-11-25</td>\n",
       "      <td>119.0</td>\n",
       "      <td>20th Century Fox</td>\n",
       "      <td>0</td>\n",
       "      <td>49.0</td>\n",
       "      <td>149.0</td>\n",
       "      <td>0</td>\n",
       "      <td>53.0</td>\n",
       "      <td>254421.0</td>\n",
       "      <td>1022</td>\n",
       "      <td>70.0</td>\n",
       "      <td>2010</td>\n",
       "      <td>tt0814255</td>\n",
       "      <td>UK</td>\n",
       "      <td>A teenager discovers he's the descendant of a ...</td>\n",
       "      <td>59.0</td>\n",
       "      <td>174198.0</td>\n",
       "      <td>0.08</td>\n",
       "      <td>0.727</td>\n",
       "      <td>0.193</td>\n",
       "      <td>0.705</td>\n",
       "      <td>0.0</td>\n",
       "      <td>0.59</td>\n",
       "      <td>0.41</td>\n",
       "      <td>0.9274</td>\n",
       "      <td>53.95</td>\n",
       "    </tr>\n",
       "    <tr>\n",
       "      <th>0</th>\n",
       "      <td>m/0814255</td>\n",
       "      <td>Ben McEachen</td>\n",
       "      <td>Sunday Mail (Australia)</td>\n",
       "      <td>1</td>\n",
       "      <td>2010-02-09</td>\n",
       "      <td>Whether audiences will get behind The Lightnin...</td>\n",
       "      <td>Percy Jackson &amp; the Olympians: The Lightning T...</td>\n",
       "      <td>Always trouble-prone, the life of teenager Per...</td>\n",
       "      <td>Though it may seem like just another Harry Pot...</td>\n",
       "      <td>PG</td>\n",
       "      <td>Action &amp; Adventure</td>\n",
       "      <td>Chris Columbus</td>\n",
       "      <td>Craig Titley, Chris Columbus, Rick Riordan</td>\n",
       "      <td>Logan Lerman, Brandon T. Jackson, Alexandra Da...</td>\n",
       "      <td>2010-02-12</td>\n",
       "      <td>2015-11-25</td>\n",
       "      <td>119.0</td>\n",
       "      <td>20th Century Fox</td>\n",
       "      <td>0</td>\n",
       "      <td>49.0</td>\n",
       "      <td>149.0</td>\n",
       "      <td>0</td>\n",
       "      <td>53.0</td>\n",
       "      <td>254421.0</td>\n",
       "      <td>1022</td>\n",
       "      <td>70.0</td>\n",
       "      <td>2010</td>\n",
       "      <td>tt0814255</td>\n",
       "      <td>Canada</td>\n",
       "      <td>A teenager discovers he's the descendant of a ...</td>\n",
       "      <td>59.0</td>\n",
       "      <td>174198.0</td>\n",
       "      <td>0.08</td>\n",
       "      <td>0.727</td>\n",
       "      <td>0.193</td>\n",
       "      <td>0.705</td>\n",
       "      <td>0.0</td>\n",
       "      <td>0.59</td>\n",
       "      <td>0.41</td>\n",
       "      <td>0.9274</td>\n",
       "      <td>53.95</td>\n",
       "    </tr>\n",
       "    <tr>\n",
       "      <th>0</th>\n",
       "      <td>m/0814255</td>\n",
       "      <td>Ben McEachen</td>\n",
       "      <td>Sunday Mail (Australia)</td>\n",
       "      <td>1</td>\n",
       "      <td>2010-02-09</td>\n",
       "      <td>Whether audiences will get behind The Lightnin...</td>\n",
       "      <td>Percy Jackson &amp; the Olympians: The Lightning T...</td>\n",
       "      <td>Always trouble-prone, the life of teenager Per...</td>\n",
       "      <td>Though it may seem like just another Harry Pot...</td>\n",
       "      <td>PG</td>\n",
       "      <td>Action &amp; Adventure</td>\n",
       "      <td>Chris Columbus</td>\n",
       "      <td>Craig Titley, Chris Columbus, Rick Riordan</td>\n",
       "      <td>Logan Lerman, Brandon T. Jackson, Alexandra Da...</td>\n",
       "      <td>2010-02-12</td>\n",
       "      <td>2015-11-25</td>\n",
       "      <td>119.0</td>\n",
       "      <td>20th Century Fox</td>\n",
       "      <td>0</td>\n",
       "      <td>49.0</td>\n",
       "      <td>149.0</td>\n",
       "      <td>0</td>\n",
       "      <td>53.0</td>\n",
       "      <td>254421.0</td>\n",
       "      <td>1022</td>\n",
       "      <td>70.0</td>\n",
       "      <td>2010</td>\n",
       "      <td>tt0814255</td>\n",
       "      <td>USA</td>\n",
       "      <td>A teenager discovers he's the descendant of a ...</td>\n",
       "      <td>59.0</td>\n",
       "      <td>174198.0</td>\n",
       "      <td>0.08</td>\n",
       "      <td>0.727</td>\n",
       "      <td>0.193</td>\n",
       "      <td>0.705</td>\n",
       "      <td>0.0</td>\n",
       "      <td>0.59</td>\n",
       "      <td>0.41</td>\n",
       "      <td>0.9274</td>\n",
       "      <td>53.95</td>\n",
       "    </tr>\n",
       "    <tr>\n",
       "      <th>0</th>\n",
       "      <td>m/0814255</td>\n",
       "      <td>Ben McEachen</td>\n",
       "      <td>Sunday Mail (Australia)</td>\n",
       "      <td>1</td>\n",
       "      <td>2010-02-09</td>\n",
       "      <td>Whether audiences will get behind The Lightnin...</td>\n",
       "      <td>Percy Jackson &amp; the Olympians: The Lightning T...</td>\n",
       "      <td>Always trouble-prone, the life of teenager Per...</td>\n",
       "      <td>Though it may seem like just another Harry Pot...</td>\n",
       "      <td>PG</td>\n",
       "      <td>Comedy</td>\n",
       "      <td>Chris Columbus</td>\n",
       "      <td>Craig Titley, Chris Columbus, Rick Riordan</td>\n",
       "      <td>Logan Lerman, Brandon T. Jackson, Alexandra Da...</td>\n",
       "      <td>2010-02-12</td>\n",
       "      <td>2015-11-25</td>\n",
       "      <td>119.0</td>\n",
       "      <td>20th Century Fox</td>\n",
       "      <td>0</td>\n",
       "      <td>49.0</td>\n",
       "      <td>149.0</td>\n",
       "      <td>0</td>\n",
       "      <td>53.0</td>\n",
       "      <td>254421.0</td>\n",
       "      <td>1022</td>\n",
       "      <td>70.0</td>\n",
       "      <td>2010</td>\n",
       "      <td>tt0814255</td>\n",
       "      <td>UK</td>\n",
       "      <td>A teenager discovers he's the descendant of a ...</td>\n",
       "      <td>59.0</td>\n",
       "      <td>174198.0</td>\n",
       "      <td>0.08</td>\n",
       "      <td>0.727</td>\n",
       "      <td>0.193</td>\n",
       "      <td>0.705</td>\n",
       "      <td>0.0</td>\n",
       "      <td>0.59</td>\n",
       "      <td>0.41</td>\n",
       "      <td>0.9274</td>\n",
       "      <td>53.95</td>\n",
       "    </tr>\n",
       "    <tr>\n",
       "      <th>0</th>\n",
       "      <td>m/0814255</td>\n",
       "      <td>Ben McEachen</td>\n",
       "      <td>Sunday Mail (Australia)</td>\n",
       "      <td>1</td>\n",
       "      <td>2010-02-09</td>\n",
       "      <td>Whether audiences will get behind The Lightnin...</td>\n",
       "      <td>Percy Jackson &amp; the Olympians: The Lightning T...</td>\n",
       "      <td>Always trouble-prone, the life of teenager Per...</td>\n",
       "      <td>Though it may seem like just another Harry Pot...</td>\n",
       "      <td>PG</td>\n",
       "      <td>Comedy</td>\n",
       "      <td>Chris Columbus</td>\n",
       "      <td>Craig Titley, Chris Columbus, Rick Riordan</td>\n",
       "      <td>Logan Lerman, Brandon T. Jackson, Alexandra Da...</td>\n",
       "      <td>2010-02-12</td>\n",
       "      <td>2015-11-25</td>\n",
       "      <td>119.0</td>\n",
       "      <td>20th Century Fox</td>\n",
       "      <td>0</td>\n",
       "      <td>49.0</td>\n",
       "      <td>149.0</td>\n",
       "      <td>0</td>\n",
       "      <td>53.0</td>\n",
       "      <td>254421.0</td>\n",
       "      <td>1022</td>\n",
       "      <td>70.0</td>\n",
       "      <td>2010</td>\n",
       "      <td>tt0814255</td>\n",
       "      <td>Canada</td>\n",
       "      <td>A teenager discovers he's the descendant of a ...</td>\n",
       "      <td>59.0</td>\n",
       "      <td>174198.0</td>\n",
       "      <td>0.08</td>\n",
       "      <td>0.727</td>\n",
       "      <td>0.193</td>\n",
       "      <td>0.705</td>\n",
       "      <td>0.0</td>\n",
       "      <td>0.59</td>\n",
       "      <td>0.41</td>\n",
       "      <td>0.9274</td>\n",
       "      <td>53.95</td>\n",
       "    </tr>\n",
       "  </tbody>\n",
       "</table>\n",
       "</div>"
      ],
      "text/plain": [
       "       rt_id   critic_name                publisher  review_type review_date  \\\n",
       "0  m/0814255  Ben McEachen  Sunday Mail (Australia)            1  2010-02-09   \n",
       "0  m/0814255  Ben McEachen  Sunday Mail (Australia)            1  2010-02-09   \n",
       "0  m/0814255  Ben McEachen  Sunday Mail (Australia)            1  2010-02-09   \n",
       "0  m/0814255  Ben McEachen  Sunday Mail (Australia)            1  2010-02-09   \n",
       "0  m/0814255  Ben McEachen  Sunday Mail (Australia)            1  2010-02-09   \n",
       "\n",
       "                                      review_content  \\\n",
       "0  Whether audiences will get behind The Lightnin...   \n",
       "0  Whether audiences will get behind The Lightnin...   \n",
       "0  Whether audiences will get behind The Lightnin...   \n",
       "0  Whether audiences will get behind The Lightnin...   \n",
       "0  Whether audiences will get behind The Lightnin...   \n",
       "\n",
       "                                               title  \\\n",
       "0  Percy Jackson & the Olympians: The Lightning T...   \n",
       "0  Percy Jackson & the Olympians: The Lightning T...   \n",
       "0  Percy Jackson & the Olympians: The Lightning T...   \n",
       "0  Percy Jackson & the Olympians: The Lightning T...   \n",
       "0  Percy Jackson & the Olympians: The Lightning T...   \n",
       "\n",
       "                                                plot  \\\n",
       "0  Always trouble-prone, the life of teenager Per...   \n",
       "0  Always trouble-prone, the life of teenager Per...   \n",
       "0  Always trouble-prone, the life of teenager Per...   \n",
       "0  Always trouble-prone, the life of teenager Per...   \n",
       "0  Always trouble-prone, the life of teenager Per...   \n",
       "\n",
       "                                   critics_consensus content_rating  \\\n",
       "0  Though it may seem like just another Harry Pot...             PG   \n",
       "0  Though it may seem like just another Harry Pot...             PG   \n",
       "0  Though it may seem like just another Harry Pot...             PG   \n",
       "0  Though it may seem like just another Harry Pot...             PG   \n",
       "0  Though it may seem like just another Harry Pot...             PG   \n",
       "\n",
       "                genre        director  \\\n",
       "0  Action & Adventure  Chris Columbus   \n",
       "0  Action & Adventure  Chris Columbus   \n",
       "0  Action & Adventure  Chris Columbus   \n",
       "0              Comedy  Chris Columbus   \n",
       "0              Comedy  Chris Columbus   \n",
       "\n",
       "                                       writer  \\\n",
       "0  Craig Titley, Chris Columbus, Rick Riordan   \n",
       "0  Craig Titley, Chris Columbus, Rick Riordan   \n",
       "0  Craig Titley, Chris Columbus, Rick Riordan   \n",
       "0  Craig Titley, Chris Columbus, Rick Riordan   \n",
       "0  Craig Titley, Chris Columbus, Rick Riordan   \n",
       "\n",
       "                                                cast original_release_date  \\\n",
       "0  Logan Lerman, Brandon T. Jackson, Alexandra Da...            2010-02-12   \n",
       "0  Logan Lerman, Brandon T. Jackson, Alexandra Da...            2010-02-12   \n",
       "0  Logan Lerman, Brandon T. Jackson, Alexandra Da...            2010-02-12   \n",
       "0  Logan Lerman, Brandon T. Jackson, Alexandra Da...            2010-02-12   \n",
       "0  Logan Lerman, Brandon T. Jackson, Alexandra Da...            2010-02-12   \n",
       "\n",
       "  streaming_release_date  runtime production_company  tomatometer_status  \\\n",
       "0             2015-11-25    119.0   20th Century Fox                   0   \n",
       "0             2015-11-25    119.0   20th Century Fox                   0   \n",
       "0             2015-11-25    119.0   20th Century Fox                   0   \n",
       "0             2015-11-25    119.0   20th Century Fox                   0   \n",
       "0             2015-11-25    119.0   20th Century Fox                   0   \n",
       "\n",
       "   tomatometer_rating  tomatometer_count  audience_status  audience_rating  \\\n",
       "0                49.0              149.0                0             53.0   \n",
       "0                49.0              149.0                0             53.0   \n",
       "0                49.0              149.0                0             53.0   \n",
       "0                49.0              149.0                0             53.0   \n",
       "0                49.0              149.0                0             53.0   \n",
       "\n",
       "   audience_count  critic_id  review_score  year imdb_title  country  \\\n",
       "0        254421.0       1022          70.0  2010  tt0814255       UK   \n",
       "0        254421.0       1022          70.0  2010  tt0814255   Canada   \n",
       "0        254421.0       1022          70.0  2010  tt0814255      USA   \n",
       "0        254421.0       1022          70.0  2010  tt0814255       UK   \n",
       "0        254421.0       1022          70.0  2010  tt0814255   Canada   \n",
       "\n",
       "                                           imdb_plot  imdb_score  imdb_count  \\\n",
       "0  A teenager discovers he's the descendant of a ...        59.0    174198.0   \n",
       "0  A teenager discovers he's the descendant of a ...        59.0    174198.0   \n",
       "0  A teenager discovers he's the descendant of a ...        59.0    174198.0   \n",
       "0  A teenager discovers he's the descendant of a ...        59.0    174198.0   \n",
       "0  A teenager discovers he's the descendant of a ...        59.0    174198.0   \n",
       "\n",
       "   review_negative  review_neutral  review_positive  review_compound  \\\n",
       "0             0.08           0.727            0.193            0.705   \n",
       "0             0.08           0.727            0.193            0.705   \n",
       "0             0.08           0.727            0.193            0.705   \n",
       "0             0.08           0.727            0.193            0.705   \n",
       "0             0.08           0.727            0.193            0.705   \n",
       "\n",
       "   consensus_negative  consensus_neutral  consensus_positive  \\\n",
       "0                 0.0               0.59                0.41   \n",
       "0                 0.0               0.59                0.41   \n",
       "0                 0.0               0.59                0.41   \n",
       "0                 0.0               0.59                0.41   \n",
       "0                 0.0               0.59                0.41   \n",
       "\n",
       "   consensus_compound  score  \n",
       "0              0.9274  53.95  \n",
       "0              0.9274  53.95  \n",
       "0              0.9274  53.95  \n",
       "0              0.9274  53.95  \n",
       "0              0.9274  53.95  "
      ]
     },
     "execution_count": 128,
     "metadata": {},
     "output_type": "execute_result"
    }
   ],
   "source": [
    "df.head()"
   ]
  },
  {
   "cell_type": "code",
   "execution_count": 130,
   "id": "2949dc8a-ee45-4aaa-a0fa-05e6b63eef56",
   "metadata": {},
   "outputs": [],
   "source": [
    "# Dropping columns that are not needed for further EDA in Tableau\n",
    "df.drop(columns = ['rt_id', 'critic_name','review_content', 'plot', 'critics_consensus',\n",
    "             'director', 'writer', 'cast', 'critic_id', 'imdb_title'], inplace = True)"
   ]
  },
  {
   "cell_type": "code",
   "execution_count": 131,
   "id": "641e0bde-e2d1-45c6-befa-418b3637f11e",
   "metadata": {},
   "outputs": [
    {
     "data": {
      "text/plain": [
       "(43788, 31)"
      ]
     },
     "execution_count": 131,
     "metadata": {},
     "output_type": "execute_result"
    }
   ],
   "source": [
    "df.shape"
   ]
  },
  {
   "cell_type": "code",
   "execution_count": 132,
   "id": "bbe0e059-9fd7-438e-98c5-de1642d56f0a",
   "metadata": {},
   "outputs": [],
   "source": [
    "# Dataset that has multiple counts for title\n",
    "df.to_csv('./data/df_for_tableau.csv')"
   ]
  },
  {
   "cell_type": "code",
   "execution_count": 133,
   "id": "f2afce2e-ddcc-464f-a3bc-5fd570d42c8f",
   "metadata": {},
   "outputs": [
    {
     "data": {
      "text/plain": [
       "1    3611\n",
       "0    2976\n",
       "Name: audience_status, dtype: int64"
      ]
     },
     "execution_count": 133,
     "metadata": {},
     "output_type": "execute_result"
    }
   ],
   "source": [
    "# Setting dataset to one title count for further eda\n",
    "df = df.groupby('title').head(1)\n",
    "\n",
    "df['audience_status'].value_counts()"
   ]
  },
  {
   "cell_type": "code",
   "execution_count": 134,
   "id": "71533cc0-a525-475e-a5ff-1b1b7d7fd5af",
   "metadata": {},
   "outputs": [],
   "source": [
    "# Resetting audience, review, and tomatometer to have Fresh or Rotten listed for EDA\n",
    "df['audience_status'] = ['Fresh' if i == 1 else 'Rotten' for i in df['audience_status'].values]\n",
    "df['review_type'] = ['Fresh' if i == 1 else 'Rotten' for i in df['review_type'].values]\n",
    "df['tomatometer_status'] = ['Fresh' if i == 1 else 'Rotten' for i in df['tomatometer_status'].values]"
   ]
  },
  {
   "cell_type": "code",
   "execution_count": 135,
   "id": "ec3beea4-3f11-44c8-8866-3e73c8e5905c",
   "metadata": {},
   "outputs": [
    {
     "data": {
      "text/html": [
       "<div>\n",
       "<style scoped>\n",
       "    .dataframe tbody tr th:only-of-type {\n",
       "        vertical-align: middle;\n",
       "    }\n",
       "\n",
       "    .dataframe tbody tr th {\n",
       "        vertical-align: top;\n",
       "    }\n",
       "\n",
       "    .dataframe thead th {\n",
       "        text-align: right;\n",
       "    }\n",
       "</style>\n",
       "<table border=\"1\" class=\"dataframe\">\n",
       "  <thead>\n",
       "    <tr style=\"text-align: right;\">\n",
       "      <th></th>\n",
       "      <th>publisher</th>\n",
       "      <th>review_type</th>\n",
       "      <th>review_date</th>\n",
       "      <th>title</th>\n",
       "      <th>content_rating</th>\n",
       "      <th>genre</th>\n",
       "      <th>original_release_date</th>\n",
       "      <th>streaming_release_date</th>\n",
       "      <th>runtime</th>\n",
       "      <th>production_company</th>\n",
       "      <th>tomatometer_status</th>\n",
       "      <th>tomatometer_rating</th>\n",
       "      <th>tomatometer_count</th>\n",
       "      <th>audience_status</th>\n",
       "      <th>audience_rating</th>\n",
       "      <th>audience_count</th>\n",
       "      <th>review_score</th>\n",
       "      <th>year</th>\n",
       "      <th>country</th>\n",
       "      <th>imdb_plot</th>\n",
       "      <th>imdb_score</th>\n",
       "      <th>imdb_count</th>\n",
       "      <th>review_negative</th>\n",
       "      <th>review_neutral</th>\n",
       "      <th>review_positive</th>\n",
       "      <th>review_compound</th>\n",
       "      <th>consensus_negative</th>\n",
       "      <th>consensus_neutral</th>\n",
       "      <th>consensus_positive</th>\n",
       "      <th>consensus_compound</th>\n",
       "      <th>score</th>\n",
       "    </tr>\n",
       "  </thead>\n",
       "  <tbody>\n",
       "    <tr>\n",
       "      <th>0</th>\n",
       "      <td>Sunday Mail (Australia)</td>\n",
       "      <td>Fresh</td>\n",
       "      <td>2010-02-09</td>\n",
       "      <td>Percy Jackson &amp; the Olympians: The Lightning T...</td>\n",
       "      <td>PG</td>\n",
       "      <td>Action &amp; Adventure</td>\n",
       "      <td>2010-02-12</td>\n",
       "      <td>2015-11-25</td>\n",
       "      <td>119.0</td>\n",
       "      <td>20th Century Fox</td>\n",
       "      <td>Rotten</td>\n",
       "      <td>49.0</td>\n",
       "      <td>149.0</td>\n",
       "      <td>Rotten</td>\n",
       "      <td>53.0</td>\n",
       "      <td>254421.0</td>\n",
       "      <td>70.0</td>\n",
       "      <td>2010</td>\n",
       "      <td>UK</td>\n",
       "      <td>A teenager discovers he's the descendant of a ...</td>\n",
       "      <td>59.0</td>\n",
       "      <td>174198.0</td>\n",
       "      <td>0.08</td>\n",
       "      <td>0.727</td>\n",
       "      <td>0.193</td>\n",
       "      <td>0.7050</td>\n",
       "      <td>0.0</td>\n",
       "      <td>0.590</td>\n",
       "      <td>0.410</td>\n",
       "      <td>0.9274</td>\n",
       "      <td>53.95</td>\n",
       "    </tr>\n",
       "    <tr>\n",
       "      <th>120</th>\n",
       "      <td>eFilmCritic.com</td>\n",
       "      <td>Fresh</td>\n",
       "      <td>2010-01-31</td>\n",
       "      <td>Please Give</td>\n",
       "      <td>R</td>\n",
       "      <td>Comedy</td>\n",
       "      <td>2010-04-30</td>\n",
       "      <td>2012-09-04</td>\n",
       "      <td>90.0</td>\n",
       "      <td>Sony Pictures Classics</td>\n",
       "      <td>Fresh</td>\n",
       "      <td>87.0</td>\n",
       "      <td>142.0</td>\n",
       "      <td>Fresh</td>\n",
       "      <td>64.0</td>\n",
       "      <td>11574.0</td>\n",
       "      <td>75.0</td>\n",
       "      <td>2010</td>\n",
       "      <td>USA</td>\n",
       "      <td>In New York City, a husband and wife butt head...</td>\n",
       "      <td>66.0</td>\n",
       "      <td>10928.0</td>\n",
       "      <td>0.00</td>\n",
       "      <td>0.928</td>\n",
       "      <td>0.072</td>\n",
       "      <td>0.4767</td>\n",
       "      <td>0.0</td>\n",
       "      <td>0.885</td>\n",
       "      <td>0.115</td>\n",
       "      <td>0.5023</td>\n",
       "      <td>73.53</td>\n",
       "    </tr>\n",
       "  </tbody>\n",
       "</table>\n",
       "</div>"
      ],
      "text/plain": [
       "                   publisher review_type review_date  \\\n",
       "0    Sunday Mail (Australia)       Fresh  2010-02-09   \n",
       "120          eFilmCritic.com       Fresh  2010-01-31   \n",
       "\n",
       "                                                 title content_rating  \\\n",
       "0    Percy Jackson & the Olympians: The Lightning T...             PG   \n",
       "120                                        Please Give              R   \n",
       "\n",
       "                  genre original_release_date streaming_release_date  runtime  \\\n",
       "0    Action & Adventure            2010-02-12             2015-11-25    119.0   \n",
       "120              Comedy            2010-04-30             2012-09-04     90.0   \n",
       "\n",
       "         production_company tomatometer_status  tomatometer_rating  \\\n",
       "0          20th Century Fox             Rotten                49.0   \n",
       "120  Sony Pictures Classics              Fresh                87.0   \n",
       "\n",
       "     tomatometer_count audience_status  audience_rating  audience_count  \\\n",
       "0                149.0          Rotten             53.0        254421.0   \n",
       "120              142.0           Fresh             64.0         11574.0   \n",
       "\n",
       "     review_score  year country  \\\n",
       "0            70.0  2010      UK   \n",
       "120          75.0  2010     USA   \n",
       "\n",
       "                                             imdb_plot  imdb_score  \\\n",
       "0    A teenager discovers he's the descendant of a ...        59.0   \n",
       "120  In New York City, a husband and wife butt head...        66.0   \n",
       "\n",
       "     imdb_count  review_negative  review_neutral  review_positive  \\\n",
       "0      174198.0             0.08           0.727            0.193   \n",
       "120     10928.0             0.00           0.928            0.072   \n",
       "\n",
       "     review_compound  consensus_negative  consensus_neutral  \\\n",
       "0             0.7050                 0.0              0.590   \n",
       "120           0.4767                 0.0              0.885   \n",
       "\n",
       "     consensus_positive  consensus_compound  score  \n",
       "0                 0.410              0.9274  53.95  \n",
       "120               0.115              0.5023  73.53  "
      ]
     },
     "execution_count": 135,
     "metadata": {},
     "output_type": "execute_result"
    }
   ],
   "source": [
    "df.head(2)"
   ]
  },
  {
   "cell_type": "code",
   "execution_count": 136,
   "id": "051abc49-58f0-4f6b-b8ee-29d8223e9e8c",
   "metadata": {},
   "outputs": [],
   "source": [
    "# Grouped by 1 Title - For Tableau only\n",
    "df.to_csv('./data/df_for_tableau2.csv')"
   ]
  },
  {
   "cell_type": "code",
   "execution_count": 77,
   "id": "ff1f4c9a-4833-4bc0-b3e4-d85a97857368",
   "metadata": {},
   "outputs": [
    {
     "data": {
      "image/png": "[encoded data removed]",
      "text/plain": [
       "<Figure size 1080x720 with 1 Axes>"
      ]
     },
     "metadata": {
      "needs_background": "light"
     },
     "output_type": "display_data"
    }
   ],
   "source": [
    "# Distribution of word count logged\n",
    "\n",
    "plt.figure(figsize = (15,10))\n",
    "\n",
    "\n",
    "plt.hist(x = df['tomatometer_rating'], color=\"teal\", label=\"Critic Tomato Rating\", alpha = 0.4, stacked = True)\n",
    "plt.hist(x = df['audience_rating'],color=\"orange\", label=\"Audience Tomato Rating\", alpha = 0.5, stacked = True)\n",
    "plt.hist(x = df['imdb_score'],color=\"purple\", label=\"IMDb Rating\", alpha = 0.3, stacked = True)\n",
    "\n",
    "plt.title('Distribution of Movie Ratings', size = 20, pad = 10)\n",
    "plt.ylabel(ylabel = 'Frequency', size = 17, labelpad = 10)\n",
    "plt.xlabel(xlabel = '% Rating', size = 17, labelpad = 10)\n",
    "plt.xticks(size = 17)\n",
    "plt.yticks(size = 17)\n",
    "plt.legend(); \n",
    "plt.savefig('./images/distribution_of_ratings.png');"
   ]
  },
  {
   "cell_type": "markdown",
   "id": "7cf24557-5a03-48e3-b7ee-813f972b49a7",
   "metadata": {},
   "source": [
    "What’s good to see is that the distribution of ratings is all skewed to the left, which means that people tend to give movies higher ratings. IMDb scores are much more condensed, while rotten tomatoes critic and audience scores are a bit more dispersed. \n"
   ]
  },
  {
   "cell_type": "markdown",
   "id": "40c6cfd5-3fa1-4c93-9862-ba613f64987f",
   "metadata": {},
   "source": [
    "#### Tableau Plots"
   ]
  },
  {
   "cell_type": "markdown",
   "id": "82d7a96c-e304-4040-967b-81bed4a3feff",
   "metadata": {},
   "source": [
    "##### Rotten vs. Fresh Count"
   ]
  },
  {
   "cell_type": "markdown",
   "id": "aaceee72-e516-4ab8-9787-dec8ceb90208",
   "metadata": {},
   "source": [
    "![rotten_vs_fresh](./images/rotten_vs_fresh.png)"
   ]
  },
  {
   "cell_type": "markdown",
   "id": "1e586b5d-591f-43ab-9941-9d21005d13e2",
   "metadata": {},
   "source": [
    "You can see the individual critics give the highest amount of Fresh vs Rotten ratings, however the critics consensus (Tomatometer status) has the highest amount of movies voted Rotten\n"
   ]
  },
  {
   "cell_type": "markdown",
   "id": "71bf5263-2aae-4a94-bc6a-9a695fcd3c41",
   "metadata": {},
   "source": [
    "!['map'](./images/map_tableau.png)"
   ]
  },
  {
   "cell_type": "markdown",
   "id": "a2349eee-2b47-4582-9a20-cd1f3d4a5d8e",
   "metadata": {},
   "source": [
    "It’s also important to note that the movies in the dataset are from all over the world. \n",
    "Here you can see the countries with the most titles are in dark blue and the least in light blue U.S., Canada, Australia, parts of Europe Have the highest count of movie titles. \n"
   ]
  },
  {
   "cell_type": "code",
   "execution_count": null,
   "id": "297a7f0a-2b73-46cf-9003-2adc31930765",
   "metadata": {},
   "outputs": [],
   "source": []
  }
 ],
 "metadata": {
  "kernelspec": {
   "display_name": "Python 3 (ipykernel)",
   "language": "python",
   "name": "python3"
  },
  "language_info": {
   "codemirror_mode": {
    "name": "ipython",
    "version": 3
   },
   "file_extension": ".py",
   "mimetype": "text/x-python",
   "name": "python",
   "nbconvert_exporter": "python",
   "pygments_lexer": "ipython3",
   "version": "3.8.8"
  }
 },
 "nbformat": 4,
 "nbformat_minor": 5
}
